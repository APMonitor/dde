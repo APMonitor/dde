{
 "cells": [
  {
   "cell_type": "markdown",
   "metadata": {},
   "source": [
    "## Micropython Sensors with Python\n",
    "\n",
    "[Sensors with Python](https://www.apmonitor.com/dde/index.php/Main/SensorMeasurement) in the [Data-Driven Engineering](http://apmonitor.com/dde) online course.\n",
    "\n",
    "<img align=left width=500px src='https://apmonitor.com/dde/uploads/Main/python_sensors.png'>"
   ]
  },
  {
   "cell_type": "markdown",
   "metadata": {},
   "source": [
    "Sensors take measurements of the physical world such as pressure, temperature, position, distance, and sound. These measurements are the basis for most data-driven engineering applications. Raw measurements often require cleansing (filtering) to remove bad samples such as outliers, noise, or drift. Microcontrollers and microprocessors facilitate the collection and processing of data locally to the device. For example, a self-driving car may collect 25 GB/hr of data to enable self driving capabilities. Airplane jet engine collects approximately 50,000 GB/hr of data to monitor the health of the engine and detect early warning signs. Embedded systems use microcontrollers to collect the data and microprocessors analyze the data to extract valuable insights and recommend corrective actions. Cloud computing performs the analysis after the data is transferred to an online repository. Edge computing is a growing focus area to perform most of the calculations locally and send summary information to online repositories.\n",
    "\n",
    "**MicroPython**\n",
    "\n",
    "Most microcontrollers run custom build C code or similar lower-level programming languages build for limited resources. MicroPython can run on more capable microcontrollers ([Arduino](https://docs.arduino.cc/learn/programming/arduino-and-python), [ESP32](https://www.espressif.com/en/products/socs/esp32), [Teensy](https://www.pjrc.com/teensy/), [Raspberry Pi Pico](https://www.raspberrypi.com/documentation/microcontrollers/micropython.html), and others). MicroPython is valuable for quick prototyping and reduced programming complexity. CircuitPython (from AdaFruit) is similar to MicroPython, but with an objective to be compatible with CPython. The community for MicroPython is larger with more supported boards.\n",
    "\n",
    "**Load Firmware**\n",
    "\n",
    "The example in this tutorial is with an Espressif ESP32 board.\n",
    "\n",
    "<img align=left width=500px src='https://apmonitor.com/dde/uploads/Main/esp32_pinout.png'>"
   ]
  },
  {
   "cell_type": "markdown",
   "metadata": {},
   "source": [
    "Get started by loading [MicroPython firmware](https://micropython.org/download/esp32/) on the ESP32 microcontroller. \n",
    "\n",
    "**Method 1: Thonny MicroPython IDE**\n",
    "\n",
    "The easiest method is [Thonny](https://thonny.org) to load the firmware. Thonny is a Python Integrated Development Environment (IDE) for beginners and simplifies the process of running MicroPython code on a microcontroller. Thonny is a graphical interface that runs the *esptool.py* program for loading firmware. Open Thonny and select Tools...Options.\n",
    "\n",
    "<img align=left width=500px src='https://apmonitor.com/dde/uploads/Main/thonny_firmware1.png'>"
   ]
  },
  {
   "cell_type": "markdown",
   "metadata": {},
   "source": [
    "Select the correct port. The [CP210x USB to UART Bridge VCP Driver](https://www.silabs.com/developers/usb-to-uart-bridge-vcp-drivers) may be required to communicate with the device over the USB connection. Also download and select the latest [ESP32 firmware](https://micropython.org/download/esp32/) file. Press the Boot button on the ESP32 to enter a write mode for the flash memory.\n",
    "\n",
    "<img align=left width=500px src='https://apmonitor.com/dde/uploads/Main/thonny_firmware2.png'>"
   ]
  },
  {
   "cell_type": "markdown",
   "metadata": {},
   "source": [
    "**Method 2: Command Terminal with esptool**\n",
    "\n",
    "The MicroPython documentation has instructions for loading the firmware with *esptool.py*."
   ]
  },
  {
   "cell_type": "code",
   "execution_count": null,
   "metadata": {},
   "outputs": [],
   "source": [
    "pip install esptool"
   ]
  },
  {
   "cell_type": "markdown",
   "metadata": {},
   "source": [
    "Run the esptool command from the command terminal. For Windows, search in the Device Manager for the correct COM or USB port."
   ]
  },
  {
   "cell_type": "code",
   "execution_count": null,
   "metadata": {},
   "outputs": [],
   "source": [
    "!python -m esptool --chip esp32 --port COM5 erase_flash"
   ]
  },
  {
   "cell_type": "markdown",
   "metadata": {},
   "source": [
    "For Linux and MacOS, search for a USB connected device such as */dev/ttyUSB0*"
   ]
  },
  {
   "cell_type": "code",
   "execution_count": null,
   "metadata": {},
   "outputs": [],
   "source": [
    "!python -m esptool --chip esp32 --port /dev/ttyUSB0 erase_flash"
   ]
  },
  {
   "cell_type": "markdown",
   "metadata": {},
   "source": [
    "Press the *Boot* button (bottom right corner) to enter a mode that allows the flash memory to be modified. Otherwise, there is an error such as \"A fatal error occurred: Failed to connect to ESP32: Wrong boot mode detected (0x13)! The chip needs to be in download mode.\" See additional [troubleshooting steps](https://docs.espressif.com/projects/esptool/en/latest/troubleshooting.html), if needed.\n",
    "\n",
    "Next, run the command to load the firmware. Replace *firmware.bin* with the correct firmware name and the port *COM5* with the correct port (such as */dev/ttyUSB0* for Linux)."
   ]
  },
  {
   "cell_type": "code",
   "execution_count": null,
   "metadata": {},
   "outputs": [],
   "source": [
    "!python -m esptool.py --chip esp32 --port COM5 --baud 460800 write_flash -z 0x1000 firmware.bin"
   ]
  },
  {
   "cell_type": "markdown",
   "metadata": {},
   "source": [
    "**Beginning Application**\n",
    "\n",
    "Stop and restart the Thonny interpreter to verify that the firmware is installed correctly. Enter *print('Hello, World!')* in the text editor and save and run the program on the ESP32 MicroPython Device as *hello.py*.\n",
    "\n",
    "<img align=left width=500px src='https://apmonitor.com/dde/uploads/Main/thonny_hello_world.png'>"
   ]
  },
  {
   "cell_type": "markdown",
   "metadata": {},
   "source": [
    "The *boot.py* script runs whenever the ESP32 turns on, followed by *main.py*. Do not overwrite these files or the ESP32 could become non-responsive to commands and require a reflash of the firmware.\n",
    "\n",
    "Next, run a program that blinks the ESP32 LED indefinitely. Save the file as *blink.py*"
   ]
  },
  {
   "cell_type": "code",
   "execution_count": null,
   "metadata": {},
   "outputs": [],
   "source": [
    "import time\n",
    "from machine import Pin\n",
    "led=Pin(1,Pin.OUT)\n",
    "while True:\n",
    "    led.on() \n",
    "    time.sleep(0.5)\n",
    "    led.off()\n",
    "    time.sleep(0.5)"
   ]
  },
  {
   "cell_type": "markdown",
   "metadata": {},
   "source": [
    "Press the *RST* Reset button on the ESP32 to stop the program."
   ]
  },
  {
   "cell_type": "markdown",
   "metadata": {},
   "source": [
    "### ✅ Activity\n",
    "\n",
    "There are many inexpensive sensors to measure physical world quantities. One example is the [BMP280 Sensor to measure pressure](https://apmonitor.com/dde/index.php/Main/ElevationPressure) and detect elevation changes with +/-3 ft accuracy. For this activity, use a sensor to measure temperature using MicroPython."
   ]
  },
  {
   "cell_type": "code",
   "execution_count": null,
   "metadata": {},
   "outputs": [],
   "source": []
  }
 ],
 "metadata": {
  "kernelspec": {
   "display_name": "Python 3",
   "language": "python",
   "name": "python3"
  },
  "language_info": {
   "codemirror_mode": {
    "name": "ipython",
    "version": 3
   },
   "file_extension": ".py",
   "mimetype": "text/x-python",
   "name": "python",
   "nbconvert_exporter": "python",
   "pygments_lexer": "ipython3",
   "version": "3.8.5"
  }
 },
 "nbformat": 4,
 "nbformat_minor": 4
}
