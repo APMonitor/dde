{
 "cells": [
  {
   "cell_type": "markdown",
   "metadata": {},
   "source": [
    "### 6️⃣ 👩‍💻 📚 NumPy for Data-Driven Engineering\n",
    "\n",
    "<img width=550px align=left src='https://apmonitor.com/dde/uploads/Main/Python_6Numpy.png'>"
   ]
  },
  {
   "cell_type": "markdown",
   "metadata": {},
   "source": [
    "Data-driven engineering relies on information, often stored in the form of collections of numbers as matrices and arrays. `NumPy` (Numerical Python extensions) is a library for data processing with multi-dimensional arrays and mathematical functions to operate on the arrays. This series is an introduction to the Python NumPy libraries.\n",
    "\n",
    "<html>\n",
    "<ul>\n",
    "<li> 6️⃣.1️⃣ NumPy Install and Import\n",
    "<li> 6️⃣.2️⃣ Numpy Arrays\n",
    "<li> 6️⃣.3️⃣ Import and Export Data\n",
    "<li> 6️⃣.4️⃣ Unary Operations\n",
    "<li> 6️⃣.5️⃣ Binary Operations\n",
    "</ul>\n",
    "</html>"
   ]
  },
  {
   "cell_type": "markdown",
   "metadata": {},
   "source": [
    "### 6️⃣.1️⃣ 📒 NumPy Install and Import\n",
    "\n",
    "Anaconda comes with `numpy`, `scipy`, and other foundational libraries. If a library is not installed, it can be added by using the name of the library with `pip` in a Jupyter Notebook cell or from the computer command line. Additional information on managing packages is avaiable in the [Data-Driven Engineering course](https://apmonitor.com/dde/index.php/Main/InstallPythonPackages).\n",
    "\n",
    "```python\n",
    "pip install numpy\n",
    "```\n",
    "\n",
    "Once a library is installed, functions are imported in one of many ways:\n",
    "\n",
    "```python\n",
    "import numpy\n",
    "import numpy as np\n",
    "from numpy import array\n",
    "```\n",
    "\n",
    "The first option is rarely used because the full `numpy` name would need to be used on every function call. The second option shortens the library name and is the most popular way to import all `numpy` functions and attributes. The third method imports only the specific function `array` instead of all functions. Never use `from numpy import *` because it clutters the namespace and the source of the function is unclear when multiple libraries are used."
   ]
  },
  {
   "cell_type": "code",
   "execution_count": null,
   "metadata": {},
   "outputs": [],
   "source": [
    "import numpy as np"
   ]
  },
  {
   "cell_type": "markdown",
   "metadata": {},
   "source": [
    "There are NumPy functions for statistical analysis, linear algebra operations, and to generate summary information. NumPy can be slower than base Python for simple operations, but is much faster for large-scale transformations. Many of the functions are written in Fortran and called from a Python interface.\n",
    "\n",
    "- `array`: create a NumPy array\n",
    "- `hstack`: join arrays along a new horizontal axis\n",
    "- `linspace`: generate evenly spaced numbers\n",
    "- `max` and `min`: maximum and minimum values\n",
    "- `mean`: mean (average) value\n",
    "- `ones`: generate an array of ones\n",
    "- `reshape`: reshape an array\n",
    "- `sort`: sort an array\n",
    "- `std`: standard deviation\n",
    "- `shape`: return the shape of an array \n",
    "- `transpose`: reverse (transpose) the axes of an array \n",
    "- `vstack`: join arrays along a new vertical axis\n",
    "- `zeros`: generate an array of zeros\n",
    "\n",
    "A first step in working with NumPy is to create an array. The next section demonstrates how to create a NumPy array, a fundamental data structure in the NumPy package."
   ]
  },
  {
   "cell_type": "markdown",
   "metadata": {},
   "source": [
    "### 6️⃣.2️⃣ 📒 NumPy Arrays\n",
    "\n",
    "NumPy arrays are collections of number or objects stored as a vector (1D array), matrix (2D array), or multi-dimensional array (3D+ array). A tensor is a type of multi-dimensional array with certain transformation properties. "
   ]
  },
  {
   "cell_type": "markdown",
   "metadata": {},
   "source": [
    "#### 🔢 NumPy Scalar\n",
    "\n",
    "A single number is called a scalar in NumPy. Use the `np.array()` function to create a new array. The input argument of the function is the array as a Python `list` (e.g. `[7]`) or `tuple` (e.g. `(7,)`)."
   ]
  },
  {
   "cell_type": "code",
   "execution_count": null,
   "metadata": {},
   "outputs": [],
   "source": [
    "y = np.array([7])\n",
    "print(y)\n",
    "print(type(y))"
   ]
  },
  {
   "cell_type": "markdown",
   "metadata": {},
   "source": [
    "#### 🔢 NumPy 1D Array\n",
    "\n",
    "A 1-dimensional array is a row vector in NumPy."
   ]
  },
  {
   "cell_type": "code",
   "execution_count": null,
   "metadata": {},
   "outputs": [],
   "source": [
    "y = np.array([0,1,2,3,4])"
   ]
  },
  {
   "cell_type": "markdown",
   "metadata": {},
   "source": [
    "#### 📝 Print List and Length\n",
    "\n",
    "Print the `array` with the `print()` function."
   ]
  },
  {
   "cell_type": "code",
   "execution_count": null,
   "metadata": {},
   "outputs": [],
   "source": [
    "print(y)"
   ]
  },
  {
   "cell_type": "markdown",
   "metadata": {},
   "source": [
    "The length of the array is obtained with `len(y)`."
   ]
  },
  {
   "cell_type": "code",
   "execution_count": null,
   "metadata": {},
   "outputs": [],
   "source": [
    "len(y)"
   ]
  },
  {
   "cell_type": "markdown",
   "metadata": {},
   "source": [
    "#### 🔢 NumPy 2D Array\n",
    "\n",
    "A 2-dimensional array is a matrix in NumPy. The 2D array is input as a list (e.g. `[0,1,2,3]`). Each row list is seperated by a comma as `[[],[],[]]` to create the matrix."
   ]
  },
  {
   "cell_type": "code",
   "execution_count": null,
   "metadata": {},
   "outputs": [],
   "source": [
    "z = np.array([[0,1,2,3],\n",
    "              [10,11,12,13],\n",
    "              [20,21,22,23]])\n",
    "print(z)\n",
    "print(type(z))"
   ]
  },
  {
   "cell_type": "markdown",
   "metadata": {},
   "source": [
    "📏 The `len()` function returns the number of rows."
   ]
  },
  {
   "cell_type": "code",
   "execution_count": null,
   "metadata": {},
   "outputs": [],
   "source": [
    "len(z)"
   ]
  },
  {
   "cell_type": "markdown",
   "metadata": {},
   "source": [
    "⬛ Use `np.size()` to get the total number of array elements."
   ]
  },
  {
   "cell_type": "code",
   "execution_count": null,
   "metadata": {},
   "outputs": [],
   "source": [
    "np.size(z)"
   ]
  },
  {
   "cell_type": "markdown",
   "metadata": {},
   "source": [
    "📐 Use `np.shape()` to get the number of rows and columns as a `tuple`."
   ]
  },
  {
   "cell_type": "code",
   "execution_count": null,
   "metadata": {},
   "outputs": [],
   "source": [
    "np.shape(z)"
   ]
  },
  {
   "cell_type": "markdown",
   "metadata": {},
   "source": [
    "#### 🔢 NumPy 3D Array\n",
    "\n",
    "A 3-dimensional array is used for color images with pixel location horizontal position, pixel location vertical position, and color intensity (0-255) for red, green, blue (RGB). Each pixel is stored as `[R,G,B]` with `Red=[255,0,0]`, `Green=[0,255,0]`, `Blue=[0,0,255]`, `White=[255,255,255]` and `Black=[0,0,0]`. Common image processing packages `Matplotlib` and `Pillow` use RGB while `OpenCV` uses the opposite order with blue first and red last (BGR)."
   ]
  },
  {
   "cell_type": "code",
   "execution_count": null,
   "metadata": {},
   "outputs": [],
   "source": [
    "import matplotlib.pyplot as plt\n",
    "\n",
    "R = [255,0,0]; G = [0,255,0]; B = [0,0,255]\n",
    "W = [255,255,255]; K = [0,0,0]\n",
    "\n",
    "img = np.array([[R,R,B,B],\n",
    "                [R,R,B,B],\n",
    "                [G,G,B,B],\n",
    "                [G,G,B,B],\n",
    "                [K,K,W,W]])\n",
    "\n",
    "plt.imshow(img)\n",
    "plt.grid()"
   ]
  },
  {
   "cell_type": "markdown",
   "metadata": {},
   "source": [
    "Use `np.shape()` to get the shape of the array with `row=height (h)`, `columns=width (w)`, `RGB=color (c)` of the image."
   ]
  },
  {
   "cell_type": "code",
   "execution_count": null,
   "metadata": {},
   "outputs": [],
   "source": [
    "h,w,c = np.shape(img)\n",
    "print(h,w,c)"
   ]
  },
  {
   "cell_type": "markdown",
   "metadata": {},
   "source": [
    "### 6️⃣.3️⃣ Export and Import Data\n",
    "\n",
    "Importing and exporting data to files is an important task for data-driven engineering. There are many methods to import and export data in Python such as the `open()` and `close()` functions in base Python. There are specialized functions to import and export large data sets in Python with Numpy, Pandas, and other packages.\n",
    "\n",
    "One way to create a file in Numpy is with the `np.save()` function that saves the data in binary form (not human readable). Opening the `img.npy` file with a text editor has some information about the array but no human readable information about the data that is stored in compressed format.\n",
    "\n",
    "***Binary img.npy file***\n",
    "\n",
    "```\n",
    "“NUMPY v {'descr': '<i4', 'fortran_order': False, 'shape': (8, 7, 3), }                                                       \n",
    "ÿ   ÿ   ÿ\n",
    "ÿ   ÿ  \n",
    "ÿ   ÿ  \n",
    "ÿ   ÿ  \n",
    "```"
   ]
  },
  {
   "cell_type": "code",
   "execution_count": null,
   "metadata": {},
   "outputs": [],
   "source": [
    "np.save('img',img)"
   ]
  },
  {
   "cell_type": "markdown",
   "metadata": {},
   "source": [
    "#### 🗄 Save Multiple Arrays\n",
    "\n",
    "Multiple arrays can be saved to a single data zip file. Any name can be provided instead of `f1`, `f2`, or `f3`. These names become the `key` when the file is loaded. "
   ]
  },
  {
   "cell_type": "code",
   "execution_count": null,
   "metadata": {},
   "outputs": [],
   "source": [
    "np.savez('dz',f1=img,f2=z,f3=y)"
   ]
  },
  {
   "cell_type": "markdown",
   "metadata": {},
   "source": [
    "#### 📖 Load Data\n",
    "\n",
    "Load the arrays with `np.load()` after they are saved with `np.savez()`. The values are available by using the name of the string key `data['f3']`."
   ]
  },
  {
   "cell_type": "code",
   "execution_count": null,
   "metadata": {},
   "outputs": [],
   "source": [
    "data = np.load('dz.npz')\n",
    "print(data['f3'])"
   ]
  },
  {
   "cell_type": "markdown",
   "metadata": {},
   "source": [
    "#### 🗒 Human Readable Text Files\n",
    "\n",
    "Save the file as a text file with `np.savetxt()` to create a human-readable file `z.txt` file.\n",
    "\n",
    "```\n",
    "0.000000000000000000e+00 1.000000000000000000e+00 2.000000000000000000e+00 3.000000000000000000e+00\n",
    "1.000000000000000000e+01 1.100000000000000000e+01 1.200000000000000000e+01 1.300000000000000000e+01\n",
    "2.000000000000000000e+01 2.100000000000000000e+01 2.200000000000000000e+01 2.300000000000000000e+01\n",
    "```\n",
    "\n",
    "Attempting to save a higher-dimensional array than 1D or 2D produces and error: `ValueError: Expected 1D or 2D array, got 3D array instead`."
   ]
  },
  {
   "cell_type": "code",
   "execution_count": null,
   "metadata": {},
   "outputs": [],
   "source": [
    "np.savetxt('z.txt',z)"
   ]
  },
  {
   "cell_type": "markdown",
   "metadata": {},
   "source": [
    "Switch to comma separated values (CSV versus the default tab-delimited) with `delimiter=','`, add a heading with `header`, remove `#` comments with `comments=#`, and change the format to 8 decimals with `fmt='%.8e'`.\n",
    "\n",
    "```\n",
    "Col0,Col1,Col2\n",
    "0.00000000e+00,1.00000000e+00,2.00000000e+00,3.00000000e+00\n",
    "1.00000000e+01,1.10000000e+01,1.20000000e+01,1.30000000e+01\n",
    "2.00000000e+01,2.10000000e+01,2.20000000e+01,2.30000000e+01\n",
    "```\n",
    "\n",
    "Disadvantages of using text files to store data are that the file sizes are larger and the numbers may not be exactly loaded because of potential trucation."
   ]
  },
  {
   "cell_type": "code",
   "execution_count": null,
   "metadata": {},
   "outputs": [],
   "source": [
    "np.savetxt('z.txt',z,\n",
    "           header='Col0,Col1,Col2',comments='',\n",
    "           delimiter=',',fmt='%.8e')"
   ]
  },
  {
   "cell_type": "markdown",
   "metadata": {},
   "source": [
    "Other common format specifiers include:\n",
    "\n",
    "* `d`: signed integer\n",
    "* `e` or `E`: floating point exponential format (`e`=lowercase, `E`=uppercase)\n",
    "* `f` or `F`: floating point decimal format\n",
    "* `g` or `G`: same as `e/E` if exponent is >=6 or <=-4, `f` otherwise\n",
    "* `s`: string\n",
    "\n",
    "The number `8` indicates how many decimal places are displayed."
   ]
  },
  {
   "cell_type": "markdown",
   "metadata": {},
   "source": [
    "### 6️⃣.4️⃣ Unary Operations\n",
    "\n",
    "Unary operations are those performed on a single array. An example is to reverse the sign of all numbers in an array."
   ]
  },
  {
   "cell_type": "code",
   "execution_count": null,
   "metadata": {},
   "outputs": [],
   "source": [
    "-z"
   ]
  },
  {
   "cell_type": "markdown",
   "metadata": {},
   "source": [
    "Mathematical operations operate on the array separately for each entry. The expression `1/(z+1)` is equivalent to `(z+1)**-1`. This is not the inverse of the matrix but only the inverse of each element in the matrix."
   ]
  },
  {
   "cell_type": "code",
   "execution_count": null,
   "metadata": {},
   "outputs": [],
   "source": [
    "1/(z+1)"
   ]
  },
  {
   "cell_type": "markdown",
   "metadata": {},
   "source": [
    "#### 🔃 Transpose Matrix\n",
    "\n",
    "A common unary operation is to transpose a matrix by reversing the order of the axes."
   ]
  },
  {
   "cell_type": "code",
   "execution_count": null,
   "metadata": {},
   "outputs": [],
   "source": [
    "z.T"
   ]
  },
  {
   "cell_type": "markdown",
   "metadata": {},
   "source": [
    "#### 🆎 Convert to Another Data Type\n",
    "\n",
    "Convert to `int`, `float`, or `str` with `astype()` at the end of the array. There is no numerical difference with switching from an `int` to a `float` but some functions require one or the other."
   ]
  },
  {
   "cell_type": "code",
   "execution_count": null,
   "metadata": {},
   "outputs": [],
   "source": [
    "z.astype(str)"
   ]
  },
  {
   "cell_type": "markdown",
   "metadata": {},
   "source": [
    "#### 📇 Array Index\n",
    "\n",
    "An array index refers to the location of the data. Python is zero-index so `z[0,1]` refers to the upper left value at `row=0` and `column=1`."
   ]
  },
  {
   "cell_type": "code",
   "execution_count": null,
   "metadata": {},
   "outputs": [],
   "source": [
    "z[0,1]"
   ]
  },
  {
   "cell_type": "markdown",
   "metadata": {},
   "source": [
    "The last value has an index of `-1`, the second to last value has an index of `-2`, and so on."
   ]
  },
  {
   "cell_type": "code",
   "execution_count": null,
   "metadata": {},
   "outputs": [],
   "source": [
    "z[-1,-2]"
   ]
  },
  {
   "cell_type": "markdown",
   "metadata": {},
   "source": [
    "#### 🔪 Array Slicing\n",
    "\n",
    "A subset of the array is returned by slicing by indicating a range `start:end` instead of a single value. The slice `z[0:2]` returns the first two rows."
   ]
  },
  {
   "cell_type": "code",
   "execution_count": null,
   "metadata": {},
   "outputs": [],
   "source": [
    "z[0:2]"
   ]
  },
  {
   "cell_type": "markdown",
   "metadata": {},
   "source": [
    "The last two columns of any matrix are available with `z[:,:-2]`. A blank `start` or `end` value indicates that it should start at the beginning or proceed to the end."
   ]
  },
  {
   "cell_type": "code",
   "execution_count": null,
   "metadata": {},
   "outputs": [],
   "source": [
    "z[:,:-2]"
   ]
  },
  {
   "cell_type": "markdown",
   "metadata": {},
   "source": [
    "A third index refers to the step size with `start:end:row_increment`. Return every other row with `z[0:5:2]` or a shortened form with `z[::2]`."
   ]
  },
  {
   "cell_type": "code",
   "execution_count": null,
   "metadata": {},
   "outputs": [],
   "source": [
    "z[::2]"
   ]
  },
  {
   "cell_type": "markdown",
   "metadata": {},
   "source": [
    "Reverse the row order with `z[::-1]`."
   ]
  },
  {
   "cell_type": "code",
   "execution_count": null,
   "metadata": {},
   "outputs": [],
   "source": [
    "z[::-1]"
   ]
  },
  {
   "cell_type": "markdown",
   "metadata": {},
   "source": [
    "A matrix inverse is only applicable to square matrices. This slice creates a `3x3` matrix with `np.linalg.inv()` calculating the inverse."
   ]
  },
  {
   "cell_type": "code",
   "execution_count": null,
   "metadata": {},
   "outputs": [],
   "source": [
    "np.linalg.inv(z[:,1:])"
   ]
  },
  {
   "cell_type": "markdown",
   "metadata": {},
   "source": [
    "### 6️⃣.5️⃣ Binary Operations\n",
    "\n",
    "Binary operations are those that involve 2 arrays. The operators available for scalars are also available for NumPy arrays.\n",
    "\n",
    "#### ⚙ Operators\n",
    "\n",
    "- `+` `-` `*` `/` addition, subtraction, multiplication, division\n",
    "- `%` modulo (remainder after division)\n",
    "- `//` floor division (discard the fraction, no rounding)\n",
    "- `**` exponential\n",
    "- `@` matrix dot product"
   ]
  },
  {
   "cell_type": "code",
   "execution_count": null,
   "metadata": {},
   "outputs": [],
   "source": [
    "z+z"
   ]
  },
  {
   "cell_type": "code",
   "execution_count": null,
   "metadata": {},
   "outputs": [],
   "source": [
    "z/(z+1)"
   ]
  },
  {
   "cell_type": "markdown",
   "metadata": {},
   "source": [
    "#### 🔢🔢 Array Multiplication\n",
    "\n",
    "Array multiplication is available with the cross product `np.cross()` or dot product `np.dot()` or shortened notation `@`. The dot product of `z.T` and `z` is `z.T@z`."
   ]
  },
  {
   "cell_type": "code",
   "execution_count": null,
   "metadata": {},
   "outputs": [],
   "source": [
    "z.T@z"
   ]
  },
  {
   "cell_type": "markdown",
   "metadata": {},
   "source": [
    "#### 🧭 Comparison Operators\n",
    "\n",
    "Comparison operators return a boolean `True` or `False` for each element of the array as a new array.\n",
    "\n",
    "- `>` greater than, `>=` or equal to\n",
    "- `<` less than, `<=` or equal to\n",
    "- `==` equal to (notice the double equal sign, single assigns a value)\n",
    "- `!=` or `<>` not equal to\n",
    "\n"
   ]
  },
  {
   "cell_type": "code",
   "execution_count": null,
   "metadata": {},
   "outputs": [],
   "source": [
    "b=(z-5)>(z/2)\n",
    "b"
   ]
  },
  {
   "cell_type": "markdown",
   "metadata": {},
   "source": [
    "The `np.where()` command selects only the subset that are `True`. Use `np.reshape()` to get the flattened array into a desirebale form, if needed."
   ]
  },
  {
   "cell_type": "code",
   "execution_count": null,
   "metadata": {},
   "outputs": [],
   "source": [
    "z[np.where(~b)]"
   ]
  },
  {
   "cell_type": "markdown",
   "metadata": {},
   "source": [
    "#### ➕ Add to Array\n",
    "\n",
    "Items are added to an array using the `np.append()` function. "
   ]
  },
  {
   "cell_type": "code",
   "execution_count": null,
   "metadata": {},
   "outputs": [],
   "source": [
    "np.append(z,[1,1,1,1])"
   ]
  },
  {
   "cell_type": "markdown",
   "metadata": {},
   "source": [
    "Preserve the dimensions of the matrix by using `np.vstack()` for vertical stacking."
   ]
  },
  {
   "cell_type": "code",
   "execution_count": null,
   "metadata": {},
   "outputs": [],
   "source": [
    "np.vstack((z,[1,1,1,1]))"
   ]
  },
  {
   "cell_type": "markdown",
   "metadata": {},
   "source": [
    "Use `np.hstack()` for horizontal placement. Convert `[-1,-1,-1]` from a row vector to a column vector with `np.reshape([-1,-1,-1],(-1,1))` or `np.array([-1,-1,-1]).reshape(-1,1)`.\n",
    "\n",
    "```\n",
    "array([[-1],\n",
    "       [-1],\n",
    "       [-1]])\n",
    "```"
   ]
  },
  {
   "cell_type": "code",
   "execution_count": null,
   "metadata": {},
   "outputs": [],
   "source": [
    "a = np.reshape([-1,-1,-1],(-1,1))\n",
    "np.hstack((z,a))"
   ]
  },
  {
   "cell_type": "markdown",
   "metadata": {},
   "source": [
    "#### 💻 Exercise 6A\n",
    "\n",
    "Create `y` as a `5x5` Numpy array of ones. Modify the array to place zeros along the diagonal."
   ]
  },
  {
   "cell_type": "code",
   "execution_count": null,
   "metadata": {},
   "outputs": [],
   "source": []
  },
  {
   "cell_type": "markdown",
   "metadata": {},
   "source": [
    "#### 💻 Exercise 6B\n",
    "\n",
    "Create 20 uniformly distributed random numbers between 0 and 1 with `np.random.rand(20)`\n",
    "\n",
    "```python\n",
    "z = np.random.rand(20)\n",
    "```\n",
    "\n",
    "Find the array index of the highest number with `np.argmax(z)`\n",
    "\n",
    "```python\n",
    "i = np.argmax(z)\n",
    "```\n",
    "\n",
    "Using the index `i`, print the highest number."
   ]
  },
  {
   "cell_type": "code",
   "execution_count": null,
   "metadata": {},
   "outputs": [],
   "source": []
  },
  {
   "cell_type": "markdown",
   "metadata": {},
   "source": [
    "#### 💻 Exercise 6C\n",
    "\n",
    "Create 20 uniformly distributed random numbers between 0 and 1 with `np.random.rand(20)`\n",
    "\n",
    "```python\n",
    "z = np.random.rand(20)\n",
    "```\n",
    "\n",
    "Use the `np.where()` function to create a new array with values from `z` that are greater than 0.7."
   ]
  },
  {
   "cell_type": "code",
   "execution_count": null,
   "metadata": {},
   "outputs": [],
   "source": []
  },
  {
   "cell_type": "markdown",
   "metadata": {},
   "source": [
    "#### 💻 Exercise 6D\n",
    "\n",
    "Save the array `z=np.random.rand(20)` as a text file. "
   ]
  },
  {
   "cell_type": "code",
   "execution_count": null,
   "metadata": {},
   "outputs": [],
   "source": []
  },
  {
   "cell_type": "markdown",
   "metadata": {},
   "source": [
    "#### 💻 Exercise 6E\n",
    "\n",
    "Calculate the dot product of matrices `A` and `B`.\n",
    "\n",
    "$A = \\begin{bmatrix}1 & -1\\\\ 5 & -7\\end{bmatrix}$    $B = \\begin{bmatrix}3 & -4\\\\ -2 & 2\\end{bmatrix}$"
   ]
  },
  {
   "cell_type": "code",
   "execution_count": null,
   "metadata": {},
   "outputs": [],
   "source": []
  }
 ],
 "metadata": {
  "kernelspec": {
   "display_name": "Python 3",
   "language": "python",
   "name": "python3"
  },
  "language_info": {
   "codemirror_mode": {
    "name": "ipython",
    "version": 3
   },
   "file_extension": ".py",
   "mimetype": "text/x-python",
   "name": "python",
   "nbconvert_exporter": "python",
   "pygments_lexer": "ipython3",
   "version": "3.8.5"
  }
 },
 "nbformat": 4,
 "nbformat_minor": 4
}
