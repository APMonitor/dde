{
 "cells": [
  {
   "cell_type": "markdown",
   "metadata": {},
   "source": [
    "### 👩‍💻 📚 [Python for Data-Driven Engineering](https://apmonitor.com/dde/index.php/Main/PythonOverview)\n",
    "\n",
    "Data-driven engineering relies on information, often stored in the form of characters (strings) and numbers (integers and floating point numbers). It is essential to import, export, and get data into the correct form so that information can be extracted. [This series](https://apmonitor.com/dde/index.php/Main/PythonOverview) includes an introduction to Python Basics as foundational elements.\n",
    "\n",
    "<html>\n",
    "<ul>\n",
    "    <li> 1️⃣ <a href='https://apmonitor.com/dde/index.php/Main/PythonBasics'>Python Basics</a>\n",
    "</ul>\n",
    "</html>\n",
    "\n",
    "Elements are stored in collections as `tuples` and `lists`.\n",
    "\n",
    "<html>\n",
    "<ul>\n",
    "    <li> 2️⃣ <a href='https://apmonitor.com/dde/index.php/Main/PythonTuple'>Python Tuple</a>\n",
    "    <li> 3️⃣ <a href='https://apmonitor.com/dde/index.php/Main/PythonList'>Python List</a>\n",
    "</ul>\n",
    "</html>\n",
    "\n",
    "The `set` and `dict` (dictionary) types cover the remaining two types of collections. \n",
    "\n",
    "<html>\n",
    "<ul>\n",
    "    <li> 4️⃣ <a href='https://apmonitor.com/dde/index.php/Main/PythonSet'>Python Set</a>\n",
    "    <li> 5️⃣ <a href='https://apmonitor.com/dde/index.php/Main/PythonDictionary'>Python Dictionary</a>\n",
    "</ul>\n",
    "</html>\n",
    "    \n",
    "Each collection of information has a specific purpose.\n",
    "\n",
    "* Tuple (e.g. `(i,x,e)`) - does not change, efficient storage, iterable\n",
    "* List (e.g. `[i,x,e]`) - add elements, remove elements, sort, iterable\n",
    "* Set (e.g. `{i,x,e}`) - similar to list but not sorted and no duplicate values\n",
    "* Dictionary (e.g. `{'i':i,'x':x,'e':e}`) - reference value based on key"
   ]
  },
  {
   "cell_type": "markdown",
   "metadata": {},
   "source": [
    "### 5️⃣ 📔 Python Dictionary\n",
    "\n",
    "A dictionary is a `set` with 🔐 `key:value` pairs. It is designed to lookup values based on the 🔑 `key` to return a 🔒 `value`. An example is a dictionary of words (`key`) with a definition for each word (`value`).\n",
    "\n",
    "```python\n",
    "d = {'i':i,'x':x,'e':e}\n",
    "```\n",
    "\n",
    "#### 💡 Create Dictionary\n",
    "\n",
    "Like the `list` and `set` and unlike a `tuple`, a `dict` of length `1` is defined without an extra trailing comma `{'i':i}`. If key values are repeated, the last definition of the `key:value` pair is used (e.g. `{'i':2,'i':3}` result is `{'i':3}`).\n",
    "\n",
    "Create a `dictionary` with values `{'i':1,'x':2.7,'e':3.8e3}`. "
   ]
  },
  {
   "cell_type": "code",
   "execution_count": null,
   "metadata": {},
   "outputs": [],
   "source": [
    "d = {'i':1,'x':2.7,'e':3.8e3}\n",
    "print(d)"
   ]
  },
  {
   "cell_type": "markdown",
   "metadata": {},
   "source": [
    "Another way to define the dictionary is with the `dict()` function."
   ]
  },
  {
   "cell_type": "code",
   "execution_count": null,
   "metadata": {},
   "outputs": [],
   "source": [
    "d = dict(i=1, x=2.7, e=3.8e3)"
   ]
  },
  {
   "cell_type": "markdown",
   "metadata": {},
   "source": [
    "#### 📝 Print Dictionary"
   ]
  },
  {
   "cell_type": "markdown",
   "metadata": {},
   "source": [
    "Print the dictionary and verify the object type as a `dict` with the `type()` function."
   ]
  },
  {
   "cell_type": "code",
   "execution_count": null,
   "metadata": {},
   "outputs": [],
   "source": [
    "print(d)\n",
    "type(d)"
   ]
  },
  {
   "cell_type": "markdown",
   "metadata": {},
   "source": [
    "#### 🔓 Access Value with 🔑 Key\n",
    "\n",
    "Read the value of a dictionary item using the key."
   ]
  },
  {
   "cell_type": "code",
   "execution_count": null,
   "metadata": {},
   "outputs": [],
   "source": [
    "d['i']"
   ]
  },
  {
   "cell_type": "markdown",
   "metadata": {},
   "source": [
    "Set the value of a dictionary item also using the key."
   ]
  },
  {
   "cell_type": "code",
   "execution_count": null,
   "metadata": {},
   "outputs": [],
   "source": [
    "d['i'] += 1\n",
    "d['i']"
   ]
  },
  {
   "cell_type": "markdown",
   "metadata": {},
   "source": [
    "#### 📑 Unpack Dictionary\n",
    "\n",
    "Each `key` of a dictionary is accessed when `d` is used as an iterator in a `for` loop."
   ]
  },
  {
   "cell_type": "code",
   "execution_count": null,
   "metadata": {},
   "outputs": [],
   "source": [
    "for k in d:\n",
    "    print(k)"
   ]
  },
  {
   "cell_type": "markdown",
   "metadata": {},
   "source": [
    "Use `d.items()` to create a generator to separate the `key:value` pairs. "
   ]
  },
  {
   "cell_type": "code",
   "execution_count": null,
   "metadata": {},
   "outputs": [],
   "source": [
    "for k,v in d.items():\n",
    "    print(k,v)"
   ]
  },
  {
   "cell_type": "markdown",
   "metadata": {},
   "source": [
    "#### 🪆 Nested Dictionary\n",
    "\n",
    "A dictionary `z` can be a sub-element of another dictionary `d` as a nested dictionary. \n",
    "\n",
    "```python\n",
    "d = dict(x=1,y=2,z=dict(a=11,b=12))\n",
    "```\n",
    "\n",
    "Reference the sub-elements by including an additional square bracket at the end to designate the item such as `d['z']['a']`."
   ]
  },
  {
   "cell_type": "code",
   "execution_count": null,
   "metadata": {},
   "outputs": [],
   "source": [
    "d = dict(x=1,y=2,z=dict(a=11,b=12))\n",
    "d['z']['a']"
   ]
  },
  {
   "cell_type": "markdown",
   "metadata": {},
   "source": [
    "#### 🧦 Copy Dictionary\n",
    "\n",
    "The `copy` function creates a shallow copy of dictionary `d` as a new dictionary `d2`. A shallow copy is a duplication of the first layer of a dictionary but the lower layers are copied as references. "
   ]
  },
  {
   "cell_type": "code",
   "execution_count": null,
   "metadata": {},
   "outputs": [],
   "source": [
    "d2 = d.copy()"
   ]
  },
  {
   "cell_type": "markdown",
   "metadata": {},
   "source": [
    "When `d2['x']` is set to `3`, there is no corresponding change to `d['x']`."
   ]
  },
  {
   "cell_type": "code",
   "execution_count": null,
   "metadata": {},
   "outputs": [],
   "source": [
    "d2['x'] = 3\n",
    "print(d)\n",
    "print(d2)"
   ]
  },
  {
   "cell_type": "markdown",
   "metadata": {},
   "source": [
    "However, when `d2['z']['a']` is changed to `13`, there is a corresponding change to `d['z']['a']` because both share the same reference to dictionary `z`."
   ]
  },
  {
   "cell_type": "code",
   "execution_count": null,
   "metadata": {},
   "outputs": [],
   "source": [
    "d2['z']['a'] = 13\n",
    "print(d)\n",
    "print(d2)"
   ]
  },
  {
   "cell_type": "markdown",
   "metadata": {},
   "source": [
    "A deep copy creates a completely independent dictionary for all layers. Use the function `copy.deepcopy()` to create a deep copy. The value of `d['z']['a']` doesn't change when `d3['z']['a']` is set to `14`."
   ]
  },
  {
   "cell_type": "code",
   "execution_count": null,
   "metadata": {},
   "outputs": [],
   "source": [
    "import copy\n",
    "d3 = copy.deepcopy(d)\n",
    "d3['z']['a'] = 14\n",
    "print(d)\n",
    "print(d3)"
   ]
  },
  {
   "cell_type": "markdown",
   "metadata": {},
   "source": [
    "#### 🔑 Dictionary Attributes and Methods with `dir`\n",
    "\n",
    "Use the `dir()` function to list all attributes (constants, properties) and methods (functions) that are available with an object.\n",
    "\n",
    "```python\n",
    "dir(d)\n",
    "```\n",
    "\n",
    "A `dict` has the following methods (functions):\n",
    "\n",
    "- `clear` - clear all entries: `d.clear()`\n",
    "- `copy` - create a shallow copy of the `dict`: `d4=d.copy()`\n",
    "- `fromkeys` - create a new dictionary from listed keys: `d4=d.fromkeys(['x','y'])`\n",
    "- `get` - return value for key, else return `None`: `d.get('x')`\n",
    "- `items` - return a set-like object with a view of dictionary items: `d.items()`\n",
    "- `keys` - return a set-like object with a view of dictionary keys: `d.keys()`\n",
    "- `pop` - remove a `key:value` from `dict`: `d.pop('x')`\n",
    "- `popitem` - remove last element from `dict`: `d.popitem()`\n",
    "- `setdefault` - insert key with a value of `None` if not in `dict`: `d.setdefault('x')`\n",
    "- `update` - update `dict` with `key:value` pairs from another `dict`: `d.update(d2)`\n",
    "- `values` - return a `dict_values` object that provides a view of the dictionary values: `d.values()`\n",
    "\n",
    "Because a `dict` is not ordered, there is no particular index for each `key:value` pair. The order that items are added is tracked and `pop` removes the most recently added `key:value` pair. There are also no sort functions. Convert the `keys` to a `list` to sort the `dict` keys. "
   ]
  },
  {
   "cell_type": "markdown",
   "metadata": {},
   "source": [
    "#### 💻 Exercise 5A\n",
    "\n",
    "Print the values in dictionary `d` one at a time using a `for` loop that iterates through the keys."
   ]
  },
  {
   "cell_type": "code",
   "execution_count": null,
   "metadata": {},
   "outputs": [],
   "source": []
  },
  {
   "cell_type": "markdown",
   "metadata": {},
   "source": [
    "#### 💻 Exercise 5B\n",
    "\n",
    "Modify `'i':0` and add `'b':23` as `key:value` pairs  to dictionary `d`. Print the elements of the dictionary to verify the change and addition."
   ]
  },
  {
   "cell_type": "code",
   "execution_count": null,
   "metadata": {},
   "outputs": [],
   "source": []
  }
 ],
 "metadata": {
  "kernelspec": {
   "display_name": "Python 3",
   "language": "python",
   "name": "python3"
  },
  "language_info": {
   "codemirror_mode": {
    "name": "ipython",
    "version": 3
   },
   "file_extension": ".py",
   "mimetype": "text/x-python",
   "name": "python",
   "nbconvert_exporter": "python",
   "pygments_lexer": "ipython3",
   "version": "3.8.5"
  }
 },
 "nbformat": 4,
 "nbformat_minor": 4
}
