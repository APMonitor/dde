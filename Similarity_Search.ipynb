{
 "cells": [
  {
   "cell_type": "markdown",
   "metadata": {},
   "source": [
    "## Similarity Search with ChromaDB\n",
    "\n",
    "[Similarity Search with ChromaDB](https://apmonitor.com/dde/index.php/Main/SimilaritySearch) in the [Data-Driven Engineering](http://apmonitor.com/dde) online course.\n",
    "\n",
    "<img align=left width=500px src='https://apmonitor.com/dde/uploads/Main/similarity_search.png'>"
   ]
  },
  {
   "cell_type": "markdown",
   "metadata": {},
   "source": [
    "ChromaDB is a local database tool for creating and managing vector stores, essential for tasks like similarity search in large language model processing. This tutorial covers how to set up a vector store using training data from the [Gekko Optimization Suite](https://gekko.readthedocs.io/en/latest/) and explores the application in Retrieval-Augmented Generation (RAG) for Large-Language Models (LLMs).\n",
    "\n",
    "The first step is to install necessary libraries. Ensure you have pandas and ChromaDB installed. You can do this using pip:"
   ]
  },
  {
   "cell_type": "code",
   "execution_count": null,
   "metadata": {},
   "outputs": [],
   "source": [
    "pip install chromadb pandas"
   ]
  },
  {
   "cell_type": "markdown",
   "metadata": {},
   "source": [
    "The next step is to import the modules and read [train.jsonl from GitHub](https://github.com/BYU-PRISM/GEKKO/blob/master/docs/llm/train.jsonl)."
   ]
  },
  {
   "cell_type": "code",
   "execution_count": null,
   "metadata": {},
   "outputs": [],
   "source": [
    "import pandas as pd\n",
    "import chromadb\n",
    "\n",
    "# read Gekko LLM training data\n",
    "url='https://raw.githubusercontent.com'\n",
    "path='/BYU-PRISM/GEKKO/master/docs/llm/train.jsonl'\n",
    "qa = pd.read_json(url+path,lines=True)"
   ]
  },
  {
   "cell_type": "markdown",
   "metadata": {},
   "source": [
    "The train.jsonl file contains hundreds of questions and answers about Gekko. It is used to provide context for the Gekko Support Agent that assists with questions about modeling and optimization in Python. The train.jsonl file is added to lists required to build the vector store with documents with the text, metadatas with a unique ID name, and ids with a unique integer identifier."
   ]
  },
  {
   "cell_type": "code",
   "execution_count": null,
   "metadata": {},
   "outputs": [],
   "source": [
    "documents = []\n",
    "metadatas = []\n",
    "ids = []\n",
    "for i in range(len(qa)):\n",
    "    s = f\"### Question: {qa['question'].iloc[i]} ### Answer: {qa['answer'].iloc[i]}\"\n",
    "    documents.append(s)\n",
    "    metadatas.append({'qid':f'qid_{i}'})\n",
    "    ids.append(str(i))"
   ]
  },
  {
   "cell_type": "markdown",
   "metadata": {},
   "source": [
    "The script reads training data from the Gekko Optimization Suite, processes it, and uses ChromaDB to create a vector store. This vector store is fundamental in building systems that can efficiently perform similarity searches, crucial in applications like RAG for Large-Language Models."
   ]
  },
  {
   "cell_type": "code",
   "execution_count": null,
   "metadata": {},
   "outputs": [],
   "source": [
    "# store in memory\n",
    "cc = chromadb.Client()\n",
    "collection = cc.create_collection(name='mydb')\n",
    "collection.add(documents=documents,metadatas=metadatas,ids=ids)"
   ]
  },
  {
   "cell_type": "markdown",
   "metadata": {},
   "source": [
    "The vector database is stored in memory and is regenerated every time the program runs. For large documents, this can take significant time and it may be desirable to store the vector database on a local drive. See [RAG Similarity Search](https://apmonitor.com/dde/index.php/Main/SimilaritySearch) for code to store the database on a local drive.\n",
    "\n",
    "The final step is to perform a test query. It uses a [k-Nearest Neighbors search](https://apmonitor.com/pds/index.php/Main/KNearestNeighbors) to determine the closest 5 matches to the query. Execute a test query to ensure the vector store is functioning correctly."
   ]
  },
  {
   "cell_type": "code",
   "execution_count": null,
   "metadata": {},
   "outputs": [],
   "source": [
    "results = collection.query(\n",
    "   query_texts=['What are you trained to do?'],\n",
    "   n_results=5,include=['distances','documents'])\n",
    "print(results)"
   ]
  },
  {
   "cell_type": "markdown",
   "metadata": {},
   "source": [
    "Review the responses and the distance metric to determine how close each document is in similarity to query_texts."
   ]
  },
  {
   "cell_type": "markdown",
   "metadata": {},
   "source": [
    "#### Application in RAG with Large-Language Models\n",
    "\n",
    "Once the vector store is set up, it can be used in Retrieval-Augmented Generation (RAG) models, particularly with Large-Language Models. RAG models leverage external knowledge sources to generate more informed and accurate responses."
   ]
  },
  {
   "cell_type": "code",
   "execution_count": null,
   "metadata": {},
   "outputs": [],
   "source": [
    "from gekko import support\n",
    "a = support.agent()\n",
    "a.ask(\"Can you optimize the Rosenbrock function?\")"
   ]
  },
  {
   "cell_type": "markdown",
   "metadata": {},
   "source": [
    "The snippet above uses the Gekko vector store and RAG to provide context to the LLM. This support agent runs in the cloud, but it can also be set up to run locally. By combining the retrieval power of ChromaDB with the generative capabilities of LLMs, you can significantly enhance the performance of AI applications in natural language processing (NLP) understanding and generation."
   ]
  },
  {
   "cell_type": "markdown",
   "metadata": {},
   "source": [
    "#### ✅ Activity: Generate Q+A Similarity Search\n",
    "\n",
    "This activity encourages you to explore similarity search by creating your own set of questions and answers. Choose a topic you are passionate about, and generate at least 10 question-answer pairs. Once done, you'll build a vector database with these pairs and perform a similarity search using ChromaDB. This hands-on experience helps you understand the practical applications of similarity search in natural language processing.\n",
    "\n",
    "Use the JSONL template to generate at least 10 questions and answers based on a topic of your interest and save the file as mydb.jsonl.\n",
    "\n",
    "```\n",
    "{\"question\":\"\",\"answer\":\"\"}\n",
    "{\"question\":\"\",\"answer\":\"\"}\n",
    "{\"question\":\"\",\"answer\":\"\"}\n",
    "{\"question\":\"\",\"answer\":\"\"}\n",
    "{\"question\":\"\",\"answer\":\"\"}\n",
    "{\"question\":\"\",\"answer\":\"\"}\n",
    "{\"question\":\"\",\"answer\":\"\"}\n",
    "{\"question\":\"\",\"answer\":\"\"}\n",
    "{\"question\":\"\",\"answer\":\"\"}\n",
    "{\"question\":\"\",\"answer\":\"\"}\n",
    "```\n",
    "\n",
    "Build the vector database and perform a similarity search using the mydb.jsonl file instead of the Gekko Q+A."
   ]
  },
  {
   "cell_type": "code",
   "execution_count": null,
   "metadata": {},
   "outputs": [],
   "source": [
    "import pandas as pd\n",
    "import chromadb\n",
    "\n",
    "# read training data\n",
    "path='mydb.jsonl'\n",
    "try:\n",
    "    qa = pd.read_json(path,lines=True)\n",
    "except:\n",
    "    print('Create mydb.jsonl file')\n",
    "documents = []\n",
    "metadatas = []\n",
    "ids = []\n",
    "for i in range(len(qa)):\n",
    "    s = f\"### Question: {qa['question'].iloc[i]} ### Answer: {qa['answer'].iloc[i]}\"\n",
    "    documents.append(s)\n",
    "    metadatas.append({'qid':f'qid_{i}'})\n",
    "    ids.append(str(i))\n",
    "\n",
    "# in memory\n",
    "cc = chromadb.Client()\n",
    "collection = cc.create_collection(name='mydb')\n",
    "\n",
    "collection.add(documents=documents,metadatas=metadatas,ids=ids)\n",
    "\n",
    "results = collection.query(\n",
    "   query_texts=['Question to test similarity search.'],\n",
    "   n_results=5,include=['distances','documents'])\n",
    "print(results)\n",
    "\n",
    "results = collection.query(\n",
    "   query_texts=['Another question to test similarity search.'],\n",
    "   n_results=5,include=['distances','documents'])\n",
    "print(results)"
   ]
  },
  {
   "cell_type": "markdown",
   "metadata": {},
   "source": [
    "Test the similarity search with several questions and validate the distances that suggest closeness to query_texts."
   ]
  }
 ],
 "metadata": {
  "kernelspec": {
   "display_name": "Python 3 (ipykernel)",
   "language": "python",
   "name": "python3"
  },
  "language_info": {
   "codemirror_mode": {
    "name": "ipython",
    "version": 3
   },
   "file_extension": ".py",
   "mimetype": "text/x-python",
   "name": "python",
   "nbconvert_exporter": "python",
   "pygments_lexer": "ipython3",
   "version": "3.9.13"
  }
 },
 "nbformat": 4,
 "nbformat_minor": 4
}
