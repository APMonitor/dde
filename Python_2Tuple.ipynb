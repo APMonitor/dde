{
 "cells": [
  {
   "cell_type": "markdown",
   "metadata": {},
   "source": [
    "### 👩‍💻 📚 [Python for Data-Driven Engineering](https://apmonitor.com/dde/index.php/Main/PythonOverview)\n",
    "\n",
    "<img width=550px align=left src='https://apmonitor.com/dde/uploads/Main/Python_2Tuple.png'>"
   ]
  },
  {
   "cell_type": "markdown",
   "metadata": {},
   "source": [
    "Data-driven engineering relies on information, often stored in the form of characters (strings) and numbers (integers and floating point numbers). It is essential to import, export, and get data into the correct form so that information can be extracted. [This series](https://apmonitor.com/dde/index.php/Main/PythonOverview) includes an introduction to Python Basics as foundational elements.\n",
    "\n",
    "<html>\n",
    "<ul>\n",
    "    <li> 1️⃣ <a href='https://apmonitor.com/dde/index.php/Main/PythonBasics'>Python Basics</a>\n",
    "</ul>\n",
    "</html>\n",
    "\n",
    "Elements are stored in collections as `tuples` and `lists`.\n",
    "\n",
    "<html>\n",
    "<ul>\n",
    "    <li> 2️⃣ <a href='https://apmonitor.com/dde/index.php/Main/PythonTuple'>Python Tuple</a>\n",
    "    <li> 3️⃣ <a href='https://apmonitor.com/dde/index.php/Main/PythonList'>Python List</a>\n",
    "</ul>\n",
    "</html>\n",
    "\n",
    "The `set` and `dict` (dictionary) types cover the remaining two types of collections. \n",
    "\n",
    "<html>\n",
    "<ul>\n",
    "    <li> 4️⃣ <a href='https://apmonitor.com/dde/index.php/Main/PythonSet'>Python Set</a>\n",
    "    <li> 5️⃣ <a href='https://apmonitor.com/dde/index.php/Main/PythonDictionary'>Python Dictionary</a>\n",
    "</ul>\n",
    "</html>\n",
    "    \n",
    "Each collection of information has a specific purpose.\n",
    "\n",
    "* Tuple (e.g. `(i,x,e)`) - does not change, efficient storage, iterable\n",
    "* List (e.g. `[i,x,e]`) - add elements, remove elements, sort, iterable\n",
    "* Set (e.g. `{i,x,e}`) - similar to list but not sorted and no duplicate values\n",
    "* Dictionary (e.g. `{'i':i,'x':x,'e':e}`) - reference value based on key\n",
    "\n",
    "Two additional topics cover foundational packages in Python. 6️⃣ <a href='https://apmonitor.com/dde/index.php/Main/PythonNumpy'>Numpy</a> expands upon the basic Python functions to create an array. Matrix and vector operations are designed as a foundation for numerical calculations. 7️⃣ <a href='https://apmonitor.com/dde/index.php/Main/PythonPandas'>Pandas</a> reads, cleanses, calculates, rearranges, and exports data. It is a library for working with data with common high-level functions that simplify the processing steps of analytics and informatics."
   ]
  },
  {
   "cell_type": "markdown",
   "metadata": {},
   "source": [
    "### 2️⃣ 📗 Python Tuples\n",
    "\n",
    "A `tuple` is one of four types that can store multiple items as a single variable. A tuple is a finite set of values and is designed to be static, much like a constant that is defined once and does not change.\n",
    "\n",
    "#### 💡 Create Tuple\n",
    "\n",
    "Create a `tuple` of numbers. A `tuple` of length `1` is defined with a comma `(x,)`. At least one comma is needed to define a `tuple`."
   ]
  },
  {
   "cell_type": "code",
   "execution_count": null,
   "metadata": {},
   "outputs": [],
   "source": [
    "y = (1,2.7,3.8e3,4.9)"
   ]
  },
  {
   "cell_type": "markdown",
   "metadata": {},
   "source": [
    "#### 📝 Print Tuple\n",
    "\n",
    "Use the function `tuple()` to convert a `set` or `list` to a `tuple`. Once it is a `tuple` type, it is not designed to be changed, but `y` can be redefined as a new tuple. "
   ]
  },
  {
   "cell_type": "code",
   "execution_count": null,
   "metadata": {},
   "outputs": [],
   "source": [
    "print(y)\n",
    "print(type(y))"
   ]
  },
  {
   "cell_type": "markdown",
   "metadata": {},
   "source": [
    "#### 📑 Unpack Tuple\n",
    "\n",
    "Each element of a `tuple` is accessed when used as an iterator in a `for` loop."
   ]
  },
  {
   "cell_type": "code",
   "execution_count": null,
   "metadata": {},
   "outputs": [],
   "source": [
    "for yi in y:\n",
    "    print(yi)"
   ]
  },
  {
   "cell_type": "markdown",
   "metadata": {},
   "source": [
    "Another way to unpack the tuple is by assigning a new variable for each element."
   ]
  },
  {
   "cell_type": "code",
   "execution_count": null,
   "metadata": {},
   "outputs": [],
   "source": [
    "y0,y1,y2,y3 = y\n",
    "print(y0,y1,y2,y3)"
   ]
  },
  {
   "cell_type": "markdown",
   "metadata": {},
   "source": [
    "#### 📏 Tuple Length\n",
    "\n",
    "Get the length of the `tuple` with the `len()` function."
   ]
  },
  {
   "cell_type": "code",
   "execution_count": null,
   "metadata": {},
   "outputs": [],
   "source": [
    "len(y)"
   ]
  },
  {
   "cell_type": "markdown",
   "metadata": {},
   "source": [
    "#### 🗄 Tuple Index\n",
    "\n",
    "Even though the `tuple` is defined with parenthesis `y = (i,x,e,float(s))`, references to elements of the tuple are with square brackets `y[0]`. Python is index-0 so the first element is `y[0]`, the second element is `y[1]`, and so on."
   ]
  },
  {
   "cell_type": "code",
   "execution_count": null,
   "metadata": {},
   "outputs": [],
   "source": [
    "y[0]"
   ]
  },
  {
   "cell_type": "markdown",
   "metadata": {},
   "source": [
    "The last element is `y[3]` (for this tuple) or `y[-1]` (for any tuple). The second-to-last element is `y[-2]`, third-to-last element is `y[-3]`, and so on."
   ]
  },
  {
   "cell_type": "code",
   "execution_count": null,
   "metadata": {},
   "outputs": [],
   "source": [
    "y[-1]"
   ]
  },
  {
   "cell_type": "markdown",
   "metadata": {},
   "source": [
    "#### 📑 Iterate with `range`\n",
    "\n",
    "A common way to cycle through the elements is with `range` to loop a certain number of times. Print the first 3 elements of the `tuple`."
   ]
  },
  {
   "cell_type": "code",
   "execution_count": null,
   "metadata": {},
   "outputs": [],
   "source": [
    "for i in range(3):\n",
    "    print(i,y[i])"
   ]
  },
  {
   "cell_type": "markdown",
   "metadata": {},
   "source": [
    "Print every other element of the `tuple`."
   ]
  },
  {
   "cell_type": "code",
   "execution_count": null,
   "metadata": {},
   "outputs": [],
   "source": [
    "for i in range(0,len(y),2):\n",
    "    print(i,y[i])"
   ]
  },
  {
   "cell_type": "markdown",
   "metadata": {},
   "source": [
    "#### 🔪 Tuple Slice\n",
    "\n",
    "A `tuple` slice is a subset of the full `tuple`. It is defined as a range of values such as `y[1:3]` where the last number in the range `3` is not included in the slice."
   ]
  },
  {
   "cell_type": "code",
   "execution_count": null,
   "metadata": {},
   "outputs": [],
   "source": [
    "y[1:3]"
   ]
  },
  {
   "cell_type": "markdown",
   "metadata": {},
   "source": [
    "Leaving out the final number `y[1:]`, directs the slice to start at the second index `1` and finish at the end of the `tuple`."
   ]
  },
  {
   "cell_type": "code",
   "execution_count": null,
   "metadata": {},
   "outputs": [],
   "source": [
    "y[1:]"
   ]
  },
  {
   "cell_type": "markdown",
   "metadata": {},
   "source": [
    "Leaving out the first number `y[:3]`, directs the slice to start the beginning."
   ]
  },
  {
   "cell_type": "code",
   "execution_count": null,
   "metadata": {},
   "outputs": [],
   "source": [
    "y[:3]"
   ]
  },
  {
   "cell_type": "markdown",
   "metadata": {},
   "source": [
    "#### 🗃 Get Index of Value\n",
    "\n",
    "The index of each tuple element is available with the `index()` function that is included with each `tuple` object. If there are multiple `2.7` values in the `tuple`, the index of the first occurance is returned."
   ]
  },
  {
   "cell_type": "code",
   "execution_count": null,
   "metadata": {},
   "outputs": [],
   "source": [
    "y.index(2.7)"
   ]
  },
  {
   "cell_type": "markdown",
   "metadata": {},
   "source": [
    "#### 📊 Count Number of Values\n",
    "\n",
    "Unlike a `set`, a tuple can have multiple of the same value. The number of each occurance is available with the `count()` function. In this case, there is only one `3800` value."
   ]
  },
  {
   "cell_type": "code",
   "execution_count": null,
   "metadata": {},
   "outputs": [],
   "source": [
    "y.count(3800)"
   ]
  },
  {
   "cell_type": "markdown",
   "metadata": {},
   "source": [
    "#### ⛰ Maximum, Minimum, Sum\n",
    "\n",
    "Get the maximum `max(y)`, minimum `min(y)`, and summation (`sum(y)`) values of a `tuple` or `list`."
   ]
  },
  {
   "cell_type": "code",
   "execution_count": null,
   "metadata": {},
   "outputs": [],
   "source": [
    "print(max(y),min(y),sum(y))"
   ]
  },
  {
   "cell_type": "markdown",
   "metadata": {},
   "source": [
    "#### 🔑Tuple Attributes and Methods with `dir`\n",
    "\n",
    "Use the `dir()` function to list all attributes (constants, properties) and methods (functions) that are available with each object.\n",
    "\n",
    "```python\n",
    "dir(y)\n",
    "```\n",
    "\n",
    "The `tuple` has the methods (functions):\n",
    "\n",
    "- `index` - get the index of the first element instance\n",
    "- `count` - count the number of specific elements"
   ]
  },
  {
   "cell_type": "markdown",
   "metadata": {},
   "source": [
    "#### 💻 Exercise 2A\n",
    "\n",
    "Create a tuple `w` with a single value `2.7`. Verify that it is a `tuple` with `print(type(w))` to show `<class 'tuple'>`. See `Create Tuple` section for information on creating `tuple` with a single value."
   ]
  },
  {
   "cell_type": "code",
   "execution_count": null,
   "metadata": {},
   "outputs": [],
   "source": []
  },
  {
   "cell_type": "markdown",
   "metadata": {},
   "source": [
    "#### 💻 Exercise 2B\n",
    "\n",
    "Create a new `tuple` with values from rolling a 6-sided die 🎲 10 times:\n",
    "\n",
    "```python\n",
    "(6,2,2,3,5,2,4,6,1,3)\n",
    "```\n",
    "\n",
    "Count and display the number of times each value appears. "
   ]
  },
  {
   "cell_type": "code",
   "execution_count": null,
   "metadata": {},
   "outputs": [],
   "source": []
  }
 ],
 "metadata": {
  "kernelspec": {
   "display_name": "Python 3",
   "language": "python",
   "name": "python3"
  },
  "language_info": {
   "codemirror_mode": {
    "name": "ipython",
    "version": 3
   },
   "file_extension": ".py",
   "mimetype": "text/x-python",
   "name": "python",
   "nbconvert_exporter": "python",
   "pygments_lexer": "ipython3",
   "version": "3.8.5"
  }
 },
 "nbformat": 4,
 "nbformat_minor": 4
}
