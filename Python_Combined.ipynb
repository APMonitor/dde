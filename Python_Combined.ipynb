{
 "cells": [
  {
   "cell_type": "markdown",
   "metadata": {},
   "source": [
    "### 👩‍💻 📚 [Python for Data-Driven Engineering](https://apmonitor.com/dde/index.php/Main/PythonOverview)\n",
    "\n",
    "Data-driven engineering relies on information, often stored in the form of characters (strings) and numbers (integers and floating point numbers). It is essential to import, export, and get data into the correct form so that information can be extracted. [This series](https://apmonitor.com/dde/index.php/Main/PythonOverview) includes an introduction to Python Basics as foundational elements.\n",
    "\n",
    "<html>\n",
    "<ul>\n",
    "    <li> 1️⃣ <a href='https://apmonitor.com/dde/index.php/Main/PythonBasics'>Python Basics</a>\n",
    "</ul>\n",
    "</html>\n",
    "\n",
    "Elements are stored in collections as `tuples` and `lists`.\n",
    "\n",
    "<html>\n",
    "<ul>\n",
    "    <li> 2️⃣ <a href='https://apmonitor.com/dde/index.php/Main/PythonTuple'>Python Tuple</a>\n",
    "    <li> 3️⃣ <a href='https://apmonitor.com/dde/index.php/Main/PythonList'>Python List</a>\n",
    "</ul>\n",
    "</html>\n",
    "\n",
    "The `set` and `dict` (dictionary) types cover the remaining two types of collections. \n",
    "\n",
    "<html>\n",
    "<ul>\n",
    "    <li> 4️⃣ <a href='https://apmonitor.com/dde/index.php/Main/PythonSet'>Python Set</a>\n",
    "    <li> 5️⃣ <a href='https://apmonitor.com/dde/index.php/Main/PythonDictionary'>Python Dictionary</a>\n",
    "</ul>\n",
    "</html>\n",
    "    \n",
    "Each collection of information has a specific purpose.\n",
    "\n",
    "* Tuple (e.g. `(i,x,e)`) - does not change, efficient storage, iterable\n",
    "* List (e.g. `[i,x,e]`) - add elements, remove elements, sort, iterable\n",
    "* Set (e.g. `{i,x,e}`) - similar to list but not sorted and no duplicate values\n",
    "* Dictionary (e.g. `{'i':i,'x':x,'e':e}`) - reference value based on key"
   ]
  },
  {
   "cell_type": "markdown",
   "metadata": {},
   "source": [
    "### 1️⃣ 📕 Python Basics\n",
    "\n",
    "Python numbers can be stored as a boolean `bool` (0=False, 1=True), integer `int`, a floating point number `float`, or as a string `str`. A variable name cannot start with a number, has no spaces (use '_' instead), and does not contain a special symbols (' \" , < > / ? | \\ ( ) ! @ # $ % ^ & * ~ - +). Avoid using reserved Python keywords as variable names: `and` `assert` `break` `class` `continue` `def` `del` `elif` `else` `except` `exec` `finally` `for` `from` `global` `if` `import` `in` `is` `lambda` `not` `or` `pass` `print` `raise` `return` `try` `while`. Use the `type()` function to determine the object type. Run each cell with shortcut `Shift-Enter`. "
   ]
  },
  {
   "cell_type": "code",
   "execution_count": null,
   "metadata": {},
   "outputs": [],
   "source": [
    "b = True\n",
    "type(b)"
   ]
  },
  {
   "cell_type": "code",
   "execution_count": null,
   "metadata": {},
   "outputs": [],
   "source": [
    "i = 1\n",
    "type(i)"
   ]
  },
  {
   "cell_type": "markdown",
   "metadata": {},
   "source": [
    "Multiple numbers can be assigned with a single line."
   ]
  },
  {
   "cell_type": "code",
   "execution_count": null,
   "metadata": {},
   "outputs": [],
   "source": [
    "x,e = 2.7,3.8e3\n",
    "print(type(x),type(e))"
   ]
  },
  {
   "cell_type": "markdown",
   "metadata": {},
   "source": [
    "Numbers can also be stored as a string. A string can be created with single `'string'` or double quotes `\"string\"`. Enclose a string in double quotes if a single quote is in the string such as `\"I'm learning Python\"`."
   ]
  },
  {
   "cell_type": "code",
   "execution_count": null,
   "metadata": {},
   "outputs": [],
   "source": [
    "s = '4.9'\n",
    "type(s)"
   ]
  },
  {
   "cell_type": "markdown",
   "metadata": {},
   "source": [
    "#### ⚙ Operators\n",
    "\n",
    "- `+` `-` `*` `/` addition, subtraction, multiplication, division\n",
    "- `%` modulo (remainder after division)\n",
    "- `//` floor division (discard the fraction, no rounding)\n",
    "- `**` exponential"
   ]
  },
  {
   "cell_type": "code",
   "execution_count": null,
   "metadata": {},
   "outputs": [],
   "source": [
    "print(5/2,5%2,5//2,5**2)"
   ]
  },
  {
   "cell_type": "markdown",
   "metadata": {},
   "source": [
    "#### 🧭 Comparison Operators\n",
    "\n",
    "- `>` greater than, `>=` or equal to\n",
    "- `<` less than, `<=` or equal to\n",
    "- `==` equal to (notice the double equal sign, single assigns a value)\n",
    "- `!=` or `<>` not equal to\n",
    "\n"
   ]
  },
  {
   "cell_type": "code",
   "execution_count": null,
   "metadata": {},
   "outputs": [],
   "source": [
    "print(5>2,5<2,5==2,5!=2)"
   ]
  },
  {
   "cell_type": "markdown",
   "metadata": {},
   "source": [
    "Chained comparisons `5>3>1` can be used as an alternative to `5>3 and 3>1`. Use the `\\` character to continue onto the next line."
   ]
  },
  {
   "cell_type": "code",
   "execution_count": null,
   "metadata": {},
   "outputs": [],
   "source": [
    "print(5>3>1, \\\n",
    "      5>3 and 3>1)"
   ]
  },
  {
   "cell_type": "markdown",
   "metadata": {},
   "source": [
    "#### ↔ Conditional Statement\n",
    "\n",
    "Use an `if` statement to chose code flow based on a `True` or `False` result. Indentation (whitespace) is important in Python to indicate which lines belong to the `if`, `elif` (else if), or `else` conditions."
   ]
  },
  {
   "cell_type": "code",
   "execution_count": null,
   "metadata": {},
   "outputs": [],
   "source": [
    "if x>3:\n",
    "    print('x>3')\n",
    "elif x==3:\n",
    "    print('x==3')\n",
    "else:\n",
    "    print('x<3')\n",
    "print(x)"
   ]
  },
  {
   "cell_type": "markdown",
   "metadata": {},
   "source": [
    "#### ➰ For Loop\n",
    "\n",
    "Two loop options are `for` and `while`. A `for` loop is used when the number of iterations is known. Use the `range(n)` function to iterate `n` times through a `for` loop."
   ]
  },
  {
   "cell_type": "code",
   "execution_count": null,
   "metadata": {},
   "outputs": [],
   "source": [
    "for i in range(3):\n",
    "    print(i)"
   ]
  },
  {
   "cell_type": "markdown",
   "metadata": {},
   "source": [
    "The `range` function can be used with 1-3 inputs:\n",
    "\n",
    "- `range(n)` - iterate `n` times\n",
    "- `range(start,stop)` - iterate between `start` and `stop-1`\n",
    "- `range(start,stop,step)` - iterate between `start` and `stop-1` with increment `step`"
   ]
  },
  {
   "cell_type": "code",
   "execution_count": null,
   "metadata": {},
   "outputs": [],
   "source": [
    "for i in range(1,6,2):\n",
    "    print(i)"
   ]
  },
  {
   "cell_type": "markdown",
   "metadata": {},
   "source": [
    "#### ➿ While Loop\n",
    "\n",
    "A `while` loop continues until the condition is `False`. A `while` loop is used when the number of cycles is not known until the looping starts. The `break` and `continue` statements control the flow in a `while` loop."
   ]
  },
  {
   "cell_type": "code",
   "execution_count": null,
   "metadata": {},
   "outputs": [],
   "source": [
    "i=1\n",
    "while i<=5:\n",
    "    print(i)\n",
    "    i+=2"
   ]
  },
  {
   "cell_type": "markdown",
   "metadata": {},
   "source": [
    "Simulate rolling a 6-sided die 🎲 by selecting a random number between 1 and 6. Continue until a 3 is rolled. The `import random` statement makes the `randint()` function available to generate the random integer number between 1 and 6."
   ]
  },
  {
   "cell_type": "code",
   "execution_count": null,
   "metadata": {},
   "outputs": [],
   "source": [
    "import random\n",
    "i = None\n",
    "while i!=3:\n",
    "    i = random.randint(1,6)\n",
    "    print(i)"
   ]
  },
  {
   "cell_type": "markdown",
   "metadata": {},
   "source": [
    "#### 📝 Print Numbers\n",
    "\n",
    "Display a number with the `print()` function."
   ]
  },
  {
   "cell_type": "code",
   "execution_count": null,
   "metadata": {},
   "outputs": [],
   "source": [
    "print(x)"
   ]
  },
  {
   "cell_type": "markdown",
   "metadata": {},
   "source": [
    "Formatted output controls the way the number is displayed. Display `Number: 11400.00` with `f'Number: {3*e:f8.2}'`."
   ]
  },
  {
   "cell_type": "code",
   "execution_count": null,
   "metadata": {},
   "outputs": [],
   "source": [
    "f'Number: {3*x:8.2f}'"
   ]
  },
  {
   "cell_type": "markdown",
   "metadata": {},
   "source": [
    "Other common format specifiers include:\n",
    "\n",
    "* `d`: signed integer\n",
    "* `e` or `E`: floating point exponential format (`e`=lowercase, `E`=uppercase)\n",
    "* `f` or `F`: floating point decimal format\n",
    "* `g` or `G`: same as `e/E` if exponent is >=6 or <=-4, `f` otherwise\n",
    "* `s`: string\n",
    "\n",
    "The first number `8` indicates how many total spaces in the final string that represents the number. The `.2` indicates how many decimal places are displayed. Leave off the `8` to include two decimals with the minimum number of spaces to represent the number (no blanks) with `{3*e:.2f}`. Strings with extra spaces can be left aligned `<` or right aligned `>`. The formatted output of `x` with 10 spaces is `f'{x:>10}'`."
   ]
  },
  {
   "cell_type": "code",
   "execution_count": null,
   "metadata": {},
   "outputs": [],
   "source": [
    "f'{x:>10}'"
   ]
  },
  {
   "cell_type": "markdown",
   "metadata": {},
   "source": [
    "Display 4 decimal places in exponential form with `f'{x:.4e}'`."
   ]
  },
  {
   "cell_type": "code",
   "execution_count": null,
   "metadata": {},
   "outputs": [],
   "source": [
    "f'{x:.4e}'"
   ]
  },
  {
   "cell_type": "markdown",
   "metadata": {},
   "source": [
    "#### 💡 Convert Between Types\n",
    "\n",
    "Use functions to convert between types:\n",
    "\n",
    "* `int()` - convert to an integer (no range limits, no decimal)\n",
    "* `float()` - convert to a floating point number (no range limits, includes decimal)\n",
    "* `str()` - convert to a string (characters, not stored as a number)\n",
    "* `bin()` or `hex()` - convert to binary or hexadecimal form (string) \n",
    "\n",
    "Python automatically switches from 64-bit to long integer when an integer is greater than `9223372036854775807` (`2**63 - 1`). Python variables are mutable. Mutable means that the type can change and does not need to be declared before first use. Converting from a `float` to an `int` truncates the decimal from `2.7` (`float`) to `2` (`int`)."
   ]
  },
  {
   "cell_type": "code",
   "execution_count": null,
   "metadata": {},
   "outputs": [],
   "source": [
    "int(x)"
   ]
  },
  {
   "cell_type": "markdown",
   "metadata": {},
   "source": [
    "Convert `x=2.7` to `int` before converting to binary (base-2) with `bin()`."
   ]
  },
  {
   "cell_type": "code",
   "execution_count": null,
   "metadata": {},
   "outputs": [],
   "source": [
    "bin(int(x))"
   ]
  },
  {
   "cell_type": "markdown",
   "metadata": {},
   "source": [
    "Convert `x=2.7` to `int` before converting to hexadecimal (base-16) with `hex()`."
   ]
  },
  {
   "cell_type": "code",
   "execution_count": null,
   "metadata": {},
   "outputs": [],
   "source": [
    "hex(int(x))"
   ]
  },
  {
   "cell_type": "markdown",
   "metadata": {},
   "source": [
    "Use `round()` to get the nearest integer `3` instead of truncating to `2`."
   ]
  },
  {
   "cell_type": "code",
   "execution_count": null,
   "metadata": {},
   "outputs": [],
   "source": [
    "round(x)"
   ]
  },
  {
   "cell_type": "markdown",
   "metadata": {},
   "source": [
    "Adding two string numbers concatenates the two as `'1' + '4.9' = '14.9'`"
   ]
  },
  {
   "cell_type": "code",
   "execution_count": null,
   "metadata": {},
   "outputs": [],
   "source": [
    "str(i)+s"
   ]
  },
  {
   "cell_type": "markdown",
   "metadata": {},
   "source": [
    "Convert the string to a float before adding to get `1 + 4.9 =  5.9`."
   ]
  },
  {
   "cell_type": "code",
   "execution_count": null,
   "metadata": {},
   "outputs": [],
   "source": [
    "i + float(s)"
   ]
  },
  {
   "cell_type": "markdown",
   "metadata": {},
   "source": [
    "#### 🩹 Try and Except\n",
    "\n",
    "The error engine stops the code and reports fatal errors. To customize how to handle errors:\n",
    "\n",
    "```python\n",
    "try:\n",
    "    # try this code\n",
    "except Exception:\n",
    "    # with a particular exception\n",
    "except:\n",
    "    # catch everything else\n",
    "else:\n",
    "    # do this if there is no exception\n",
    "finally:\n",
    "    # always run this section at the end\n",
    "```\n",
    "\n",
    "The `try` and `except` is an easy way to prevent code from stopping but can mask errors, especially during early development phases when errors are needed to find sytax or logical problems with the code."
   ]
  },
  {
   "cell_type": "code",
   "execution_count": null,
   "metadata": {},
   "outputs": [],
   "source": [
    "try:\n",
    "    x=2/0\n",
    "except ZeroDivisionError as e:\n",
    "    print(e)\n",
    "    # return Infinity\n",
    "    import numpy\n",
    "    x = numpy.Inf\n",
    "print('x: ',x)"
   ]
  },
  {
   "cell_type": "markdown",
   "metadata": {},
   "source": [
    "#### 🖊 Input Function\n",
    "\n",
    "A program can be interactive with the `input()` function to request a value from the user. The value is returned as a string and should be converted to a number with `float()` or `int()`, depending on the anticipated entry. Try using the `input()` function."
   ]
  },
  {
   "cell_type": "code",
   "execution_count": null,
   "metadata": {},
   "outputs": [],
   "source": []
  },
  {
   "cell_type": "markdown",
   "metadata": {},
   "source": [
    "#### 🧶 String Methods\n",
    "\n",
    "Built-in string methods include:\n",
    "\n",
    "- `upper` - convert to uppercase\n",
    "- `lower` - convert to lowercase\n",
    "- `find`  - find index position of first occurance of character or string\n",
    "- `replace` - replace string\n",
    "- `split` - split sentence into a list of words\n",
    "\n",
    "Use `dir(n)` to find other string methods. Replace `'Your Name'` with your name."
   ]
  },
  {
   "cell_type": "code",
   "execution_count": null,
   "metadata": {},
   "outputs": [],
   "source": [
    "n = 'Name'\n",
    "# replace 'Your Name' with your name\n",
    "n = n.replace('Name','Your Name') \n",
    "print(n.lower(), n.upper())"
   ]
  },
  {
   "cell_type": "markdown",
   "metadata": {},
   "source": [
    "#### ⏱ Time\n",
    "\n",
    "Use the `time` package to get the number of seconds since `1 January 1970` (Unix epoch) 🧔‍♀️☮🚌."
   ]
  },
  {
   "cell_type": "code",
   "execution_count": null,
   "metadata": {},
   "outputs": [],
   "source": [
    "import time\n",
    "time.time()"
   ]
  },
  {
   "cell_type": "markdown",
   "metadata": {},
   "source": [
    "⏳ The difference in seconds `end-start` tracks elapsed clock time.\n",
    "\n",
    "😴 The `sleep` function pauses for a certain amount of time with `time.sleep(1)` for 1 second. The elapsed time is more than `1.0000` because the `time.time()` function takes a small amount of time to run."
   ]
  },
  {
   "cell_type": "code",
   "execution_count": null,
   "metadata": {},
   "outputs": [],
   "source": [
    "start = time.time()\n",
    "time.sleep(1)\n",
    "end = time.time()\n",
    "print('Elapsed time: ', end-start)"
   ]
  },
  {
   "cell_type": "markdown",
   "metadata": {},
   "source": [
    "#### 📅 Date\n",
    "\n",
    "The `datetime` is another module to process dates and times. Change the `date` to a personally memorable date such as a birthdate."
   ]
  },
  {
   "cell_type": "code",
   "execution_count": null,
   "metadata": {},
   "outputs": [],
   "source": [
    "date = '1997-05-11 11:05:23'"
   ]
  },
  {
   "cell_type": "markdown",
   "metadata": {},
   "source": [
    "🗓 Convert the string to a `datetime` object with either `strptime` or `fromisoformat` if the date is in the standard format `YYYY-MM-DD HH:MM:SS`."
   ]
  },
  {
   "cell_type": "code",
   "execution_count": null,
   "metadata": {},
   "outputs": [],
   "source": [
    "from datetime import datetime\n",
    "dt = datetime.fromisoformat(date)\n",
    "dt"
   ]
  },
  {
   "cell_type": "markdown",
   "metadata": {},
   "source": [
    "⌚ Use the `now()` function to get the current `datetime` as `tm = datetime.now()`. Show the current `datetime` with:\n",
    "\n",
    "- `tm.ctime()` - readable format (e.g. `Sat Jun 25 17:12:52 2022`)\n",
    "- `str(tm)` - standard format (e.g. `2022-06-25 17:12:52.536004`)"
   ]
  },
  {
   "cell_type": "code",
   "execution_count": null,
   "metadata": {},
   "outputs": [],
   "source": [
    "tm = datetime.now()\n",
    "print(tm.ctime())\n",
    "str(tm)"
   ]
  },
  {
   "cell_type": "markdown",
   "metadata": {},
   "source": [
    "🕑 Elements of the datetime are unpacked with:\n",
    "\n",
    "- `tm.year` - year (4 digits)\n",
    "- `tm.month` - month (1-12)\n",
    "- `tm.day` - day (1-31)\n",
    "- `tm.hour` - hour (0-23)\n",
    "- `tm.minute` - minute (0-59)\n",
    "- `tm.second` - second (0-59)"
   ]
  },
  {
   "cell_type": "markdown",
   "metadata": {},
   "source": [
    "🕓-🕒 Calculate elapsed time as a difference `diff=tm-dt` or convert to elapsed seconds with `diff.total_seconds()`."
   ]
  },
  {
   "cell_type": "code",
   "execution_count": null,
   "metadata": {},
   "outputs": [],
   "source": [
    "diff = tm - dt\n",
    "print(diff)\n",
    "print(diff.total_seconds())"
   ]
  },
  {
   "cell_type": "markdown",
   "metadata": {},
   "source": [
    "#### 🔦 Functions\n",
    "\n",
    "Two function definitions are:\n",
    "\n",
    "- `lambda` - simple one-line functions\n",
    "- `def` - code block with input(s) and output(s)\n",
    "\n",
    "The lambda function is for coding simple one-line expressions. It is especially useful in combination with `map()`, `filter()`, and `reduce()` functions. The lambda function `f(x)` returns `x**2+1`. A `for` loop evaluates the function for values `[0,1,2,3]`."
   ]
  },
  {
   "cell_type": "code",
   "execution_count": null,
   "metadata": {
    "scrolled": true
   },
   "outputs": [],
   "source": [
    "f = lambda x: x**2+1\n",
    "for i in range(3):\n",
    "    print(i,f(i))"
   ]
  },
  {
   "cell_type": "markdown",
   "metadata": {},
   "source": [
    "Alternatively, use the `def` statement to define the `f(x)` function with the same result."
   ]
  },
  {
   "cell_type": "code",
   "execution_count": null,
   "metadata": {},
   "outputs": [],
   "source": [
    "def f(x):\n",
    "    return x**2+1\n",
    "for i in range(3):\n",
    "    print(i,f(i))"
   ]
  },
  {
   "cell_type": "markdown",
   "metadata": {},
   "source": [
    "Multiple inputs and outputs are possible with optional arguments with default (`=1`) values."
   ]
  },
  {
   "cell_type": "code",
   "execution_count": null,
   "metadata": {},
   "outputs": [],
   "source": [
    "def g(x,y=1):\n",
    "    return x*y\n",
    "print(g(2),g(2,5))"
   ]
  },
  {
   "cell_type": "markdown",
   "metadata": {},
   "source": [
    "#### ❓Get Help\n",
    "\n",
    "Use the `help()` function to access a description of the method or object. Jupyter Notebooks display help with `Shift-Tab`. Use websites such as [Stack Overflow](https://stackoverflow.com/search?q=) to find answers related error messages."
   ]
  },
  {
   "cell_type": "code",
   "execution_count": null,
   "metadata": {},
   "outputs": [],
   "source": [
    "help(s.lower)"
   ]
  },
  {
   "cell_type": "markdown",
   "metadata": {},
   "source": [
    "#### 💻 Exercise 1A\n",
    "\n",
    "Change the type of `s` to a floating point number with `s = float(s)`. Verify that `s` is a floating point number with `print(s)` and `type(s)`."
   ]
  },
  {
   "cell_type": "code",
   "execution_count": null,
   "metadata": {},
   "outputs": [],
   "source": []
  },
  {
   "cell_type": "markdown",
   "metadata": {},
   "source": [
    "#### 💻 Exercise 1B\n",
    "\n",
    "Ask the user to input an integer with the `input()` function. Check that the input number is an integer. The `try` section of the code attempts to convert to a floating point number. The `if` statement checks if the `float` number is an integer value. If all conditions are successfully met, the integer is printed.\n",
    "\n",
    "```python\n",
    "r = input('Input an integer (1-10): ')\n",
    "try:\n",
    "    if not float(r).is_integer():\n",
    "        print('Not an integer') \n",
    "    else:\n",
    "        print('Input Integer: ' + r)\n",
    "except:\n",
    "    print('Could not convert input (', r, ') to a number')\n",
    "```\n",
    "\n",
    "Use the sample code below and test with inputs `1.x`, `0`, `3`. Add a check and an error message if the integer value is outside the range (1-10)."
   ]
  },
  {
   "cell_type": "code",
   "execution_count": null,
   "metadata": {},
   "outputs": [],
   "source": []
  },
  {
   "cell_type": "markdown",
   "metadata": {},
   "source": [
    "### 2️⃣ 📗 Python Tuples\n",
    "\n",
    "A `tuple` is one of four types that can store multiple items as a single variable. A tuple is a finite set of values and is designed to be static, much like a constant that is defined once and does not change.\n",
    "\n",
    "#### 💡 Create Tuple\n",
    "\n",
    "Create a `tuple` of numbers. A `tuple` of length `1` is defined with a comma `(x,)`. At least one comma is needed to define a `tuple`."
   ]
  },
  {
   "cell_type": "code",
   "execution_count": null,
   "metadata": {},
   "outputs": [],
   "source": [
    "y = (1,2.7,3.8e3,4.9)"
   ]
  },
  {
   "cell_type": "markdown",
   "metadata": {},
   "source": [
    "#### 📝 Print Tuple\n",
    "\n",
    "Use the function `tuple()` to convert a `set` or `list` to a `tuple`. Once it is a `tuple` type, it is not designed to be changed, but `y` can be redefined as a new tuple. "
   ]
  },
  {
   "cell_type": "code",
   "execution_count": null,
   "metadata": {},
   "outputs": [],
   "source": [
    "print(y)\n",
    "print(type(y))"
   ]
  },
  {
   "cell_type": "markdown",
   "metadata": {},
   "source": [
    "#### 📑 Unpack Tuple\n",
    "\n",
    "Each element of a `tuple` is accessed when used as an iterator in a `for` loop."
   ]
  },
  {
   "cell_type": "code",
   "execution_count": null,
   "metadata": {},
   "outputs": [],
   "source": [
    "for yi in y:\n",
    "    print(yi)"
   ]
  },
  {
   "cell_type": "markdown",
   "metadata": {},
   "source": [
    "Another way to unpack the tuple is by assigning a new variable for each element."
   ]
  },
  {
   "cell_type": "code",
   "execution_count": null,
   "metadata": {},
   "outputs": [],
   "source": [
    "y0,y1,y2,y3 = y\n",
    "print(y0,y1,y2,y3)"
   ]
  },
  {
   "cell_type": "markdown",
   "metadata": {},
   "source": [
    "#### 📏 Tuple Length\n",
    "\n",
    "Get the length of the `tuple` with the `len()` function."
   ]
  },
  {
   "cell_type": "code",
   "execution_count": null,
   "metadata": {},
   "outputs": [],
   "source": [
    "len(y)"
   ]
  },
  {
   "cell_type": "markdown",
   "metadata": {},
   "source": [
    "#### 🗄 Tuple Index\n",
    "\n",
    "Even though the `tuple` is defined with parenthesis `y = (i,x,e,float(s))`, references to elements of the tuple are with square brackets `y[0]`. Python is index-0 so the first element is `y[0]`, the second element is `y[1]`, and so on."
   ]
  },
  {
   "cell_type": "code",
   "execution_count": null,
   "metadata": {},
   "outputs": [],
   "source": [
    "y[0]"
   ]
  },
  {
   "cell_type": "markdown",
   "metadata": {},
   "source": [
    "The last element is `y[3]` (for this tuple) or `y[-1]` (for any tuple). The second-to-last element is `y[-2]`, third-to-last element is `y[-3]`, and so on."
   ]
  },
  {
   "cell_type": "code",
   "execution_count": null,
   "metadata": {},
   "outputs": [],
   "source": [
    "y[-1]"
   ]
  },
  {
   "cell_type": "markdown",
   "metadata": {},
   "source": [
    "#### 📑 Iterate with `range`\n",
    "\n",
    "A common way to cycle throught the elements is with `range` to loop a certain number of times. Print the first 3 elements of the `tuple`."
   ]
  },
  {
   "cell_type": "code",
   "execution_count": null,
   "metadata": {},
   "outputs": [],
   "source": [
    "for i in range(3):\n",
    "    print(i,y[i])"
   ]
  },
  {
   "cell_type": "markdown",
   "metadata": {},
   "source": [
    "Print every other element of the `tuple`."
   ]
  },
  {
   "cell_type": "code",
   "execution_count": null,
   "metadata": {},
   "outputs": [],
   "source": [
    "for i in range(0,len(y),2):\n",
    "    print(i,y[i])"
   ]
  },
  {
   "cell_type": "markdown",
   "metadata": {},
   "source": [
    "#### 🔪 Tuple Slice\n",
    "\n",
    "A `tuple` slice is a subset of the full `tuple`. It is defined as a range of values such as `y[1:3]` where the last number in the range `3` is not included in the slice."
   ]
  },
  {
   "cell_type": "code",
   "execution_count": null,
   "metadata": {},
   "outputs": [],
   "source": [
    "y[1:3]"
   ]
  },
  {
   "cell_type": "markdown",
   "metadata": {},
   "source": [
    "Leaving out the final number `y[1:]`, directs the slice to start at the second index `1` and finish at the end of the `tuple`."
   ]
  },
  {
   "cell_type": "code",
   "execution_count": null,
   "metadata": {},
   "outputs": [],
   "source": [
    "y[1:]"
   ]
  },
  {
   "cell_type": "markdown",
   "metadata": {},
   "source": [
    "Leaving out the first number `y[:3]`, directs the slice to start the beginning."
   ]
  },
  {
   "cell_type": "code",
   "execution_count": null,
   "metadata": {},
   "outputs": [],
   "source": [
    "y[:3]"
   ]
  },
  {
   "cell_type": "markdown",
   "metadata": {},
   "source": [
    "#### 🗃 Get Index of Value\n",
    "\n",
    "The index of each tuple element is available with the `index()` function that is included with each `tuple` object. If there are multiple `2.7` values in the `tuple`, the index of the first occurance is returned."
   ]
  },
  {
   "cell_type": "code",
   "execution_count": null,
   "metadata": {},
   "outputs": [],
   "source": [
    "y.index(2.7)"
   ]
  },
  {
   "cell_type": "markdown",
   "metadata": {},
   "source": [
    "#### 📊 Count Number of Values\n",
    "\n",
    "Unlike a `set`, a tuple can have multiple of the same value. The number of each occurance is available with the `count()` function. In this case, there is only one `3800` value."
   ]
  },
  {
   "cell_type": "code",
   "execution_count": null,
   "metadata": {},
   "outputs": [],
   "source": [
    "y.count(3800)"
   ]
  },
  {
   "cell_type": "markdown",
   "metadata": {},
   "source": [
    "#### ⛰ Maximum, Minimum, Sum\n",
    "\n",
    "Get the maximum `max(y)`, minimum `min(y)`, and summation (`sum(y)`) values of a `tuple` or `list`."
   ]
  },
  {
   "cell_type": "code",
   "execution_count": null,
   "metadata": {},
   "outputs": [],
   "source": [
    "print(max(y),min(y),sum(y))"
   ]
  },
  {
   "cell_type": "markdown",
   "metadata": {},
   "source": [
    "#### 🔑Tuple Attributes and Methods with `dir`\n",
    "\n",
    "Use the `dir()` function to list all attributes (constants, properties) and methods (functions) that are available with each object.\n",
    "\n",
    "```python\n",
    "dir(y)\n",
    "```\n",
    "\n",
    "The `tuple` has the methods (functions):\n",
    "\n",
    "- `index` - get the index of the first element instance\n",
    "- `count` - count the number of specific elements"
   ]
  },
  {
   "cell_type": "markdown",
   "metadata": {},
   "source": [
    "#### 💻 Exercise 2A\n",
    "\n",
    "Create a tuple `w` with a single value `2.7`. Verify that it is a `tuple` with `print(type(w))` to show `<class 'tuple'>`. See `Create Tuple` section for information on creating `tuple` with a single value."
   ]
  },
  {
   "cell_type": "code",
   "execution_count": null,
   "metadata": {},
   "outputs": [],
   "source": []
  },
  {
   "cell_type": "markdown",
   "metadata": {},
   "source": [
    "#### 💻 Exercise 2B\n",
    "\n",
    "Create a new `tuple` with values from rolling a 6-sided die 🎲 10 times:\n",
    "\n",
    "```python\n",
    "(6,2,2,3,5,2,4,6,1,3)\n",
    "```\n",
    "\n",
    "Count and display the number of times each value appears. "
   ]
  },
  {
   "cell_type": "code",
   "execution_count": null,
   "metadata": {},
   "outputs": [],
   "source": []
  },
  {
   "cell_type": "markdown",
   "metadata": {},
   "source": [
    "### 3️⃣ 📘 Python Lists"
   ]
  },
  {
   "cell_type": "markdown",
   "metadata": {},
   "source": [
    "#### 💡 Convert Tuple to List\n",
    "\n",
    "Use the function `list()` to convert a `tuple` or `set` to a `list`. Once it is a `list` type, it gets the extra functions available for a list such as `sort()`, `append()`, `remove()`, and `pop()`."
   ]
  },
  {
   "cell_type": "code",
   "execution_count": null,
   "metadata": {},
   "outputs": [],
   "source": [
    "y = (1,2.7,3.8e3,4.9)\n",
    "y = list(y)\n",
    "type(y)"
   ]
  },
  {
   "cell_type": "markdown",
   "metadata": {},
   "source": [
    "The `range(end)` function can generate a list such as `[0,1,2]` or with `range(start,end,increment)` to generate `[3,5,7,9]`."
   ]
  },
  {
   "cell_type": "code",
   "execution_count": null,
   "metadata": {},
   "outputs": [],
   "source": [
    "print(list(range(3)))\n",
    "print(list(range(3,10,2)))"
   ]
  },
  {
   "cell_type": "markdown",
   "metadata": {},
   "source": [
    "#### 💡 Create New List\n",
    "\n",
    "Create a `list` of numbers. Mixed element types with integers, floats, and strings are also possible."
   ]
  },
  {
   "cell_type": "code",
   "execution_count": null,
   "metadata": {},
   "outputs": [],
   "source": [
    "y = [1,2.7,3.8e3,4.9]"
   ]
  },
  {
   "cell_type": "markdown",
   "metadata": {},
   "source": [
    "#### 📝 Print List\n",
    "\n",
    "Print the `list` with the `print()` function."
   ]
  },
  {
   "cell_type": "code",
   "execution_count": null,
   "metadata": {},
   "outputs": [],
   "source": [
    "print(y)\n",
    "type(y)"
   ]
  },
  {
   "cell_type": "markdown",
   "metadata": {},
   "source": [
    "#### 📑 Unpack List\n",
    "\n",
    "Each element of a `list` is accessed when used as an iterator in a `for` loop."
   ]
  },
  {
   "cell_type": "code",
   "execution_count": null,
   "metadata": {},
   "outputs": [],
   "source": [
    "for yi in y:\n",
    "    print(yi)"
   ]
  },
  {
   "cell_type": "markdown",
   "metadata": {},
   "source": [
    "Use `enumerate()` to return the index `i` and the value `yi` of each item in the `list`."
   ]
  },
  {
   "cell_type": "code",
   "execution_count": null,
   "metadata": {},
   "outputs": [],
   "source": [
    "for i,yi in enumerate(y):\n",
    "    print(i,yi)"
   ]
  },
  {
   "cell_type": "markdown",
   "metadata": {},
   "source": [
    "#### 📃 List Elements\n",
    "\n",
    "Similar to a `tuple`, the list is referenced by an index with square brackets. The first element is `y[0]` because a Python `tuple` or `list` starts with index-`0`."
   ]
  },
  {
   "cell_type": "code",
   "execution_count": null,
   "metadata": {},
   "outputs": [],
   "source": [
    "y[0]"
   ]
  },
  {
   "cell_type": "markdown",
   "metadata": {},
   "source": [
    "The last element of the list is `y[-1]`."
   ]
  },
  {
   "cell_type": "code",
   "execution_count": null,
   "metadata": {},
   "outputs": [],
   "source": [
    "y[-1]"
   ]
  },
  {
   "cell_type": "markdown",
   "metadata": {},
   "source": [
    "#### 🔍 Find Item in List\n",
    "\n",
    "Determine if an item is in a list with the `in` operator or `count` the number of occurances with `y.count(2.7)`."
   ]
  },
  {
   "cell_type": "code",
   "execution_count": null,
   "metadata": {},
   "outputs": [],
   "source": [
    "2.7 in y"
   ]
  },
  {
   "cell_type": "markdown",
   "metadata": {},
   "source": [
    "#### 🔪 List Slice\n",
    "\n",
    "A `list` slice is a subset of the full `list` with `y[start:end:increment]`. It is defined as a range of values such as `y[1:3]`."
   ]
  },
  {
   "cell_type": "code",
   "execution_count": null,
   "metadata": {},
   "outputs": [],
   "source": [
    "z = y[1:3]\n",
    "print(y)\n",
    "print(z)"
   ]
  },
  {
   "cell_type": "markdown",
   "metadata": {},
   "source": [
    "Changing the slice does not change the original `list`."
   ]
  },
  {
   "cell_type": "code",
   "execution_count": null,
   "metadata": {},
   "outputs": [],
   "source": [
    "z[0] = 3.7\n",
    "print('Slice: ', z)\n",
    "print('Original ', y)"
   ]
  },
  {
   "cell_type": "markdown",
   "metadata": {},
   "source": [
    "Leave out the number in `y[start:end:increment]` to start at the beginning or terminate at the end. Every other item (increment 2) in a list is `y[::2]`."
   ]
  },
  {
   "cell_type": "code",
   "execution_count": null,
   "metadata": {},
   "outputs": [],
   "source": [
    "y[::2]"
   ]
  },
  {
   "cell_type": "markdown",
   "metadata": {},
   "source": [
    "#### 🧦 Copy List\n",
    "\n",
    "When copying a `list`, use the `copy()` function to create the new `list` or the two `lists` (`z` and `y`) reference the same values in memory."
   ]
  },
  {
   "cell_type": "code",
   "execution_count": null,
   "metadata": {},
   "outputs": [],
   "source": [
    "print('Before: ',y)\n",
    "z = y # use y.copy() instead\n",
    "z[0] += 1\n",
    "print('After: ',y)"
   ]
  },
  {
   "cell_type": "markdown",
   "metadata": {},
   "source": [
    "#### ➕ Add to List\n",
    "\n",
    "Items can be added to the end of a `list` using the `append()` function. The item can be any object such as a number or string. "
   ]
  },
  {
   "cell_type": "code",
   "execution_count": null,
   "metadata": {},
   "outputs": [],
   "source": [
    "print('Before: ',y)\n",
    "y.append('item')\n",
    "print('After: ',y)"
   ]
  },
  {
   "cell_type": "markdown",
   "metadata": {},
   "source": [
    "The item can also be another `list` such as `[3,2,1]` added to the end."
   ]
  },
  {
   "cell_type": "code",
   "execution_count": null,
   "metadata": {},
   "outputs": [],
   "source": [
    "print('Before: ',y)\n",
    "y.append([3,2,1])\n",
    "print('After: ',y)"
   ]
  },
  {
   "cell_type": "markdown",
   "metadata": {},
   "source": [
    "#### 🗑 Remove from List\n",
    "\n",
    "List elements can also be removed. Use the `remove()` function to eliminate the first instance of the object from the list."
   ]
  },
  {
   "cell_type": "code",
   "execution_count": null,
   "metadata": {},
   "outputs": [],
   "source": [
    "print('Before: ',y)\n",
    "y.remove('item')\n",
    "print('After: ',y)"
   ]
  },
  {
   "cell_type": "markdown",
   "metadata": {},
   "source": [
    "#### ✂ Remove Element by Index\n",
    "\n",
    "The `remove()` function finds the first instance of the object from the list. Items can also be removed by index reference with the `pop()` function. Remove the last element of the list with `pop(-1)`."
   ]
  },
  {
   "cell_type": "code",
   "execution_count": null,
   "metadata": {},
   "outputs": [],
   "source": [
    "print('Before: ',y)\n",
    "y.pop(-1)\n",
    "print('After: ',y)"
   ]
  },
  {
   "cell_type": "markdown",
   "metadata": {},
   "source": [
    "Another way to remove an item from a list is with the `del` built-in function."
   ]
  },
  {
   "cell_type": "code",
   "execution_count": null,
   "metadata": {},
   "outputs": [],
   "source": [
    "print('Before: ',y)\n",
    "del y[-1]\n",
    "print('After: ',y)"
   ]
  },
  {
   "cell_type": "markdown",
   "metadata": {},
   "source": [
    "#### ⚙ Insert Element at Index\n",
    "\n",
    "The `append()` function adds to the end of the list. The `insert()` function adds an element to a specified index location such as `y.insert(1,4.4)` that adds `4.4` the the index-`1` location."
   ]
  },
  {
   "cell_type": "code",
   "execution_count": null,
   "metadata": {},
   "outputs": [],
   "source": [
    "print('Before: ',y)\n",
    "y.insert(1,4.4)\n",
    "print('After: ',y)"
   ]
  },
  {
   "cell_type": "markdown",
   "metadata": {},
   "source": [
    "#### 🔧 Extend List\n",
    "\n",
    "The `extend()` function adds a new `list` or `tuple` to the end of an existing `list`. The `append()` function does not work to extend the `list` because the new element would be added as a single object."
   ]
  },
  {
   "cell_type": "code",
   "execution_count": null,
   "metadata": {},
   "outputs": [],
   "source": [
    "print('Before: ',y)\n",
    "y.extend([1,2,3])\n",
    "print('After: ',y)"
   ]
  },
  {
   "cell_type": "markdown",
   "metadata": {},
   "source": [
    "#### 🔨 List Comprehension\n",
    "\n",
    "A `list` comprehension builds a `list` from an existing `list`.\n",
    "\n",
    "<html>\n",
    "    <br>\n",
    "    newlist = [<i>expression</i> for <i>item</i> in <i>iterable</i>]\n",
    "    <br>\n",
    "</html>\n",
    "\n",
    "An example is to add one to each element of the list with `[i+1 for i in y]`."
   ]
  },
  {
   "cell_type": "code",
   "execution_count": null,
   "metadata": {},
   "outputs": [],
   "source": [
    "print('Before: ',y)\n",
    "y = [i+1 for i in y]\n",
    "print('After: ',y)"
   ]
  },
  {
   "cell_type": "markdown",
   "metadata": {},
   "source": [
    "A `list` comprehension can also have a conditional statement at the end to shorten the list to those items that meet the condition.\n",
    "\n",
    "<html>\n",
    "    <br>\n",
    "    newlist = [<i>expression</i> for <i>item</i> in <i>iterable</i> if <i>condition</i>]\n",
    "    <br>\n",
    "</html>\n",
    "\n",
    "An example is to include only the values that are less than or equal to 3 with `[i for i in y if i<=3]`."
   ]
  },
  {
   "cell_type": "code",
   "execution_count": null,
   "metadata": {},
   "outputs": [],
   "source": [
    "print('Before: ',y)\n",
    "y = [i for i in y if i<=3]\n",
    "print('After: ',y)"
   ]
  },
  {
   "cell_type": "markdown",
   "metadata": {},
   "source": [
    "#### List of Lists\n",
    "\n",
    "A list can contain elements that are also lists. Each element in the list `M` is the a row in the matrix.\n",
    "\n",
    "$M = \\begin{bmatrix}\n",
    "0 & 1 & 2 & 3\\\\ \n",
    "10 & 11 & 12 & 13\\\\ \n",
    "20 & 21 & 22 & 23\n",
    "\\end{bmatrix}$\n",
    "\n",
    "The matrix has 3 rows and 4 columns. Numpy arrays are introduced later as an easier way to work with matrices."
   ]
  },
  {
   "cell_type": "code",
   "execution_count": null,
   "metadata": {},
   "outputs": [],
   "source": [
    "M = [[0,1,2,3],[10,11,12,13],[20,21,22,23]]\n",
    "print(M[1])                  # print row 1\n",
    "print([row[1] for row in M]) # print column 1 using list comprehension\n",
    "print(M[1][2])               # print row 1, column 2"
   ]
  },
  {
   "cell_type": "markdown",
   "metadata": {},
   "source": [
    "#### 🔑 List Attributes and Methods with `dir`\n",
    "\n",
    "Use the `dir()` function to list all attributes (constants, properties) and methods (functions) that are available with an object.\n",
    "\n",
    "```python\n",
    "dir(y)\n",
    "```\n",
    "\n",
    "A `list` has the following functions:\n",
    "\n",
    "* `append` - add to the end of a list\n",
    "* `clear` - delete all elements of a list\n",
    "* `copy` - create a copy of the list\n",
    "* `count` - count the number of matching elements\n",
    "* `extend` - append elements of an iterable (e.g. `list`)\n",
    "* `index` - find first index of the matching element\n",
    "* `insert` - add object at specified index\n",
    "* `pop` - remove item at specified index\n",
    "* `remove` - remove by object reference\n",
    "* `reverse` - sort in reverse (descending) order\n",
    "* `sort` - sort list in ascending order"
   ]
  },
  {
   "cell_type": "markdown",
   "metadata": {},
   "source": [
    "#### 💻 Exercise 3A\n",
    "\n",
    "Complete the following steps with `list` operations.\n",
    "\n",
    "1. Start with an empty list: `[]` called `z`.\n",
    "2. Append the value `2`.\n",
    "3. Insert value `3.75` at index `2`.\n",
    "4. Extend the numbers to the end of `z`: `[4,5,1]`.\n",
    "5. Insert value `3` at index `0`.\n",
    "6. Sort the list in ascending order.\n",
    "7. Remove (pop) index `3`.\n",
    "8. Print the result.\n",
    "\n",
    "Check the result. It should be `[1,2,3,4,5]` if all steps are completed successfully."
   ]
  },
  {
   "cell_type": "code",
   "execution_count": null,
   "metadata": {},
   "outputs": [],
   "source": []
  },
  {
   "cell_type": "markdown",
   "metadata": {},
   "source": [
    "#### 💻 Exercise 3B\n",
    "\n",
    "Simulate rolling two 6-sided dice 🎲🎲 10,000 times.\n",
    "\n",
    "```python\n",
    "import random\n",
    "for i in range(10000):\n",
    "    v = random.randint(1,6) + random.randint(1,6)\n",
    "```\n",
    "\n",
    "Append the value `v` in a list after each roll. Display the count and percentage each value was rolled between 2 and 12. How closely do the random rolls agree with the probability of `1/36 = 2.77%` for `2` and `12`?"
   ]
  },
  {
   "cell_type": "code",
   "execution_count": null,
   "metadata": {},
   "outputs": [],
   "source": []
  },
  {
   "cell_type": "markdown",
   "metadata": {},
   "source": [
    "### 4️⃣ 📙 Python Set\n",
    "\n",
    "A `set` is another one of four types that can store multiple items as a single variable. A `set` is a finite set of values that can change like a `list`. A `set` is not ordered and has all unique elements. A `set` is often a list of unique character values that represent unique items.\n",
    "\n",
    "```python\n",
    "t = {'yes','no'}\n",
    "```\n",
    "\n",
    "#### 💡 Create Set\n",
    "\n",
    "Create a `set` of strings. Unlike a `tuple`, a `set` of length `1` is defined without an extra trailing comma `{'yes'}`. If values are repeated, the duplicate is removed. Empty curly brackets `{}` create an empty dictionary, not a set. An empty set is defined with `t=set()`."
   ]
  },
  {
   "cell_type": "code",
   "execution_count": null,
   "metadata": {},
   "outputs": [],
   "source": [
    "t = {'yes','no','unknown','yes'}"
   ]
  },
  {
   "cell_type": "markdown",
   "metadata": {},
   "source": [
    "#### 📝 Print Set"
   ]
  },
  {
   "cell_type": "markdown",
   "metadata": {},
   "source": [
    "Print the `set` and verify the object type as a `set` with the `type()` function. Because `yes` appears twice, the duplicate is not added."
   ]
  },
  {
   "cell_type": "code",
   "execution_count": null,
   "metadata": {},
   "outputs": [],
   "source": [
    "print(t)\n",
    "type(t)"
   ]
  },
  {
   "cell_type": "markdown",
   "metadata": {},
   "source": [
    "#### 📑 Unpack Set\n",
    "\n",
    "Each element of a `set` is accessed when used as an iterator in a `for` loop."
   ]
  },
  {
   "cell_type": "code",
   "execution_count": null,
   "metadata": {},
   "outputs": [],
   "source": [
    "for ti in t:\n",
    "    print(ti)"
   ]
  },
  {
   "cell_type": "markdown",
   "metadata": {},
   "source": [
    "#### 👨‍👦 Copy Set\n",
    "\n",
    "Create a copy of set `t` as `u` with `copy`. Using `u=t` only creates a reference to the original `set` so changes to `u` also update `t`. Use `copy` to create a new `set` that is independent of `t`."
   ]
  },
  {
   "cell_type": "code",
   "execution_count": null,
   "metadata": {},
   "outputs": [],
   "source": [
    "u = t.copy()"
   ]
  },
  {
   "cell_type": "markdown",
   "metadata": {},
   "source": [
    "#### 🗑 Remove from Set\n",
    "\n",
    "Set elements can be removed. Use the `remove` function to eliminate the element from the list. Use `discard` to not raise an error if the element is not present. The `remove` function raises an error if the element is not found."
   ]
  },
  {
   "cell_type": "code",
   "execution_count": null,
   "metadata": {},
   "outputs": [],
   "source": [
    "u.discard('unknown')\n",
    "print(u)"
   ]
  },
  {
   "cell_type": "markdown",
   "metadata": {},
   "source": [
    "#### 🕵️‍♀️ Inspect Differences\n",
    "\n",
    "There are methods to investigate diffferences or create a new set from the differences. Some of these include `difference`, `intersection`, `issubset`, `symmetric_difference`, and `union`. The `difference` function returns the difference with another `set`."
   ]
  },
  {
   "cell_type": "code",
   "execution_count": null,
   "metadata": {},
   "outputs": [],
   "source": [
    "t.difference(u)"
   ]
  },
  {
   "cell_type": "markdown",
   "metadata": {},
   "source": [
    "The `issubset` function returns `True` if another `set` contains this `set`."
   ]
  },
  {
   "cell_type": "code",
   "execution_count": null,
   "metadata": {},
   "outputs": [],
   "source": [
    "u.issubset(t)"
   ]
  },
  {
   "cell_type": "markdown",
   "metadata": {},
   "source": [
    "#### 🔑 Set Attributes and Methods with `dir`\n",
    "\n",
    "Use the `dir()` function to list all attributes (constants, properties) and methods (functions) that are available with an object.\n",
    "\n",
    "```python\n",
    "dir(t)\n",
    "```\n",
    "\n",
    "A `set` has the following methods (functions) with set operators (`&`,`|`,`-`,`^`,`<=`,`<`,`>=`,`>`) as a more compact way to compare two sets:\n",
    "\n",
    "- `add` - add entry\n",
    "- `clear` - clear all entries\n",
    "- `copy` - create a copy of the `set`\n",
    "- `difference` (`-`) - return the difference with another `set`\n",
    "- `difference_update` - remove all elements of another `set`\n",
    "- `discard` - remove an element if it is in the `set`\n",
    "- `intersection` (`&`) - return the intersection (common elements) of two sets\n",
    "- `intersection_update` - update `set` with the intersection of another\n",
    "- `isdisjoint` - return `True` if two sets have a no common elements\n",
    "- `issubset` (`<=`) - return `True` if another set contains this `set`\n",
    "- `issuperset` (`>=`) - return `True` if this set contains another `set`\n",
    "- `pop` - remove an arbitrary element from `set`\n",
    "- `remove` - remove an element from `set`\n",
    "- `symmetric_difference` (`^`) - return all elements that are in exactly one of the sets\n",
    "- `symmetric_difference_update` - update a set with the symmetric difference between itself and another\n",
    "- `union` (`|`) - return all elements that are in either set\n",
    "- `update` - update a set with union of itself and others\n",
    "\n",
    "A few examples with sets `x={-1,0,1,2}` and `y={1,2,3}` demonstrate set operators."
   ]
  },
  {
   "cell_type": "code",
   "execution_count": null,
   "metadata": {},
   "outputs": [],
   "source": [
    "x = {-1,0,1,2}; y={1,2,3}\n",
    "print('x: ',x)\n",
    "print('y: ',y)\n",
    "print('Intersection: ', x&y)\n",
    "print('Difference (x-y): ', x-y)\n",
    "print('Difference (y-x): ', y-x)\n",
    "print('Union: ',x|y)\n",
    "print('Subset: ',x<=y)\n",
    "print('Superset {0,1,2}>={1,2}:',{0,1,2}>={1,2})\n",
    "print('Proper Subset: ',x<y)\n",
    "print('Proper Superset: ',x>y)"
   ]
  },
  {
   "cell_type": "markdown",
   "metadata": {},
   "source": [
    "Because a `set` is not ordered, there is no particular index for each element. There are also no sort functions. Convert to a `list` to sort the `set`."
   ]
  },
  {
   "cell_type": "markdown",
   "metadata": {},
   "source": [
    "#### 💻 Exercise 4A\n",
    "\n",
    "Add entry `'none'` to set `t`. Print the new set."
   ]
  },
  {
   "cell_type": "code",
   "execution_count": null,
   "metadata": {},
   "outputs": [],
   "source": []
  },
  {
   "cell_type": "markdown",
   "metadata": {},
   "source": [
    "#### 💻 Exercise 4B\n",
    "\n",
    "Complete the following steps with `set` operations.\n",
    "\n",
    "1. Start with a set `z={0.5,1,2,4}`.\n",
    "2. Create a copy `w` of set `z`.\n",
    "3. Remove (`pop`) an element from `w`.\n",
    "4. Display the removed element."
   ]
  },
  {
   "cell_type": "code",
   "execution_count": null,
   "metadata": {},
   "outputs": [],
   "source": []
  },
  {
   "cell_type": "markdown",
   "metadata": {},
   "source": [
    "### 5️⃣ 📔 Python Dictionary\n",
    "\n",
    "A dictionary is a `set` with 🔐 `key:value` pairs. It is designed to lookup values based on the 🔑 `key` to return a 🔒 `value`. An example is a dictionary of words (`key`) with a definition for each word (`value`).\n",
    "\n",
    "```python\n",
    "d = {'i':i,'x':x,'e':e}\n",
    "```\n",
    "\n",
    "#### 💡 Create Dictionary\n",
    "\n",
    "Like the `list` and `set` and unlike a `tuple`, a `dict` of length `1` is defined without an extra trailing comma `{'i':i}`. If key values are repeated, the last definition of the `key:value` pair is used (e.g. `{'i':2,'i':3}` result is `{'i':3}`).\n",
    "\n",
    "Create a `dictionary` with values `{'i':1,'x':2.7,'e':3.8e3}`. "
   ]
  },
  {
   "cell_type": "code",
   "execution_count": null,
   "metadata": {},
   "outputs": [],
   "source": [
    "d = {'i':1,'x':2.7,'e':3.8e3}\n",
    "print(d)"
   ]
  },
  {
   "cell_type": "markdown",
   "metadata": {},
   "source": [
    "Another way to define the dictionary is with the `dict()` function."
   ]
  },
  {
   "cell_type": "code",
   "execution_count": null,
   "metadata": {},
   "outputs": [],
   "source": [
    "d = dict(i=1, x=2.7, e=3.8e3)"
   ]
  },
  {
   "cell_type": "markdown",
   "metadata": {},
   "source": [
    "#### 📝 Print Dictionary"
   ]
  },
  {
   "cell_type": "markdown",
   "metadata": {},
   "source": [
    "Print the dictionary and verify the object type as a `dict` with the `type()` function."
   ]
  },
  {
   "cell_type": "code",
   "execution_count": null,
   "metadata": {},
   "outputs": [],
   "source": [
    "print(d)\n",
    "type(d)"
   ]
  },
  {
   "cell_type": "markdown",
   "metadata": {},
   "source": [
    "#### 🔓 Access Value with 🔑 Key\n",
    "\n",
    "Read the value of a dictionary item using the key."
   ]
  },
  {
   "cell_type": "code",
   "execution_count": null,
   "metadata": {},
   "outputs": [],
   "source": [
    "d['i']"
   ]
  },
  {
   "cell_type": "markdown",
   "metadata": {},
   "source": [
    "Set the value of a dictionary item also using the key."
   ]
  },
  {
   "cell_type": "code",
   "execution_count": null,
   "metadata": {},
   "outputs": [],
   "source": [
    "d['i'] += 1\n",
    "d['i']"
   ]
  },
  {
   "cell_type": "markdown",
   "metadata": {},
   "source": [
    "#### 📑 Unpack Dictionary\n",
    "\n",
    "Each `key` of a dictionary is accessed when `d` is used as an iterator in a `for` loop."
   ]
  },
  {
   "cell_type": "code",
   "execution_count": null,
   "metadata": {},
   "outputs": [],
   "source": [
    "for k in d:\n",
    "    print(k)"
   ]
  },
  {
   "cell_type": "markdown",
   "metadata": {},
   "source": [
    "Use `d.items()` to create a generator to separate the `key:value` pairs. "
   ]
  },
  {
   "cell_type": "code",
   "execution_count": null,
   "metadata": {},
   "outputs": [],
   "source": [
    "for k,v in d.items():\n",
    "    print(k,v)"
   ]
  },
  {
   "cell_type": "markdown",
   "metadata": {},
   "source": [
    "#### 🪆 Nested Dictionary\n",
    "\n",
    "A dictionary `z` can be a sub-element of another dictionary `d` as a nested dictionary. \n",
    "\n",
    "```python\n",
    "d = dict(x=1,y=2,z=dict(a=11,b=12))\n",
    "```\n",
    "\n",
    "Reference the sub-elements by including an additional square bracket at the end to designate the item such as `d['z']['a']`."
   ]
  },
  {
   "cell_type": "code",
   "execution_count": null,
   "metadata": {},
   "outputs": [],
   "source": [
    "d = dict(x=1,y=2,z=dict(a=11,b=12))\n",
    "d['z']['a']"
   ]
  },
  {
   "cell_type": "markdown",
   "metadata": {},
   "source": [
    "#### 🧦 Copy Dictionary\n",
    "\n",
    "The `copy` function creates a shallow copy of dictionary `d` as a new dictionary `d2`. A shallow copy is a duplication of the first layer of a dictionary but the lower layers are copied as references. "
   ]
  },
  {
   "cell_type": "code",
   "execution_count": null,
   "metadata": {},
   "outputs": [],
   "source": [
    "d2 = d.copy()"
   ]
  },
  {
   "cell_type": "markdown",
   "metadata": {},
   "source": [
    "When `d2['x']` is set to `3`, there is no corresponding change to `d['x']`."
   ]
  },
  {
   "cell_type": "code",
   "execution_count": null,
   "metadata": {},
   "outputs": [],
   "source": [
    "d2['x'] = 3\n",
    "print(d)\n",
    "print(d2)"
   ]
  },
  {
   "cell_type": "markdown",
   "metadata": {},
   "source": [
    "However, when `d2['z']['a']` is changed to `13`, there is a corresponding change to `d['z']['a']` because both share the same reference to dictionary `z`."
   ]
  },
  {
   "cell_type": "code",
   "execution_count": null,
   "metadata": {},
   "outputs": [],
   "source": [
    "d2['z']['a'] = 13\n",
    "print(d)\n",
    "print(d2)"
   ]
  },
  {
   "cell_type": "markdown",
   "metadata": {},
   "source": [
    "A deep copy creates a completely independent dictionary for all layers. Use the function `copy.deepcopy()` to create a deep copy. The value of `d['z']['a']` doesn't change when `d3['z']['a']` is set to `14`."
   ]
  },
  {
   "cell_type": "code",
   "execution_count": null,
   "metadata": {},
   "outputs": [],
   "source": [
    "import copy\n",
    "d3 = copy.deepcopy(d)\n",
    "d3['z']['a'] = 14\n",
    "print(d)\n",
    "print(d3)"
   ]
  },
  {
   "cell_type": "markdown",
   "metadata": {},
   "source": [
    "#### 🔑 Dictionary Attributes and Methods with `dir`\n",
    "\n",
    "Use the `dir()` function to list all attributes (constants, properties) and methods (functions) that are available with an object.\n",
    "\n",
    "```python\n",
    "dir(d)\n",
    "```\n",
    "\n",
    "A `dict` has the following methods (functions):\n",
    "\n",
    "- `clear` - clear all entries: `d.clear()`\n",
    "- `copy` - create a shallow copy of the `dict`: `d4=d.copy()`\n",
    "- `fromkeys` - create a new dictionary from listed keys: `d4=d.fromkeys(['x','y'])`\n",
    "- `get` - return value for key, else return `None`: `d.get('x')`\n",
    "- `items` - return a set-like object with a view of dictionary items: `d.items()`\n",
    "- `keys` - return a set-like object with a view of dictionary keys: `d.keys()`\n",
    "- `pop` - remove a `key:value` from `dict`: `d.pop('x')`\n",
    "- `popitem` - remove last element from `dict`: `d.popitem()`\n",
    "- `setdefault` - insert key with a value of `None` if not in `dict`: `d.setdefault('x')`\n",
    "- `update` - update `dict` with `key:value` pairs from another `dict`: `d.update(d2)`\n",
    "- `values` - return a `dict_values` object that provides a view of the dictionary values: `d.values()`\n",
    "\n",
    "Because a `dict` is not ordered, there is no particular index for each `key:value` pair. The order that items are added is tracked and `pop` removes the most recently added `key:value` pair. There are also no sort functions. Convert the `keys` to a `list` to sort the `dict` keys. "
   ]
  },
  {
   "cell_type": "markdown",
   "metadata": {},
   "source": [
    "#### 💻 Exercise 5A\n",
    "\n",
    "Print the values in dictionary `d` one at a time using a `for` loop that iterates through the keys."
   ]
  },
  {
   "cell_type": "code",
   "execution_count": null,
   "metadata": {},
   "outputs": [],
   "source": []
  },
  {
   "cell_type": "markdown",
   "metadata": {},
   "source": [
    "#### 💻 Exercise 5B\n",
    "\n",
    "Modify `'i':0` and add `'b':23` as `key:value` pairs  to dictionary `d`. Print the elements of the dictionary to verify the change and addition."
   ]
  },
  {
   "cell_type": "code",
   "execution_count": null,
   "metadata": {},
   "outputs": [],
   "source": []
  }
 ],
 "metadata": {
  "kernelspec": {
   "display_name": "Python 3",
   "language": "python",
   "name": "python3"
  },
  "language_info": {
   "codemirror_mode": {
    "name": "ipython",
    "version": 3
   },
   "file_extension": ".py",
   "mimetype": "text/x-python",
   "name": "python",
   "nbconvert_exporter": "python",
   "pygments_lexer": "ipython3",
   "version": "3.8.5"
  }
 },
 "nbformat": 4,
 "nbformat_minor": 4
}
