{
 "cells": [
  {
   "attachments": {},
   "cell_type": "markdown",
   "metadata": {},
   "source": [
    "## Time Series Data with Python\n",
    "\n",
    "[Time Series Data with Python](https://www.apmonitor.com/dde/index.php/Main/PandasTimeSeries) in the [Data-Driven Engineering](http://apmonitor.com/dde) online course.\n",
    "\n",
    "<img align=left width=500px src='https://apmonitor.com/dde/uploads/Main/TimeSeries_Pandas.png'>"
   ]
  },
  {
   "cell_type": "markdown",
   "metadata": {},
   "source": [
    "Complete two exercises with the [Temperature Control Lab](https://apmonitor.com/heat.htm) `TCLab`  or TCLab Model (digital twin) `TCLabModel`. Collect data on time, heater 1, heater 2, temperature 1, and temperature 2.\n",
    "\n",
    "1. Import [stored data](http://apmonitor.com/che263/uploads/Main/tclab.txt) as a Pandas DataFrame.\n",
    "\n",
    "```python\n",
    "url = 'http://apmonitor.com/che263/uploads/Main/tclab.txt'\n",
    "```\n",
    "\n",
    "2. Collect streaming data: add a data row to a Pandas DataFrame each second for 60 seconds. \n",
    "\n",
    "For each, generate a plot that shows the measured temperature values on one plot and the heater values on another plot. Add appropriate labels to the plots such as x-label, y-label, title, and legend. Compute basic statistics for Temperature 1 and Temperature 2 such as Minimum, Maximum, Average, and Standard Deviation values. Show a table that summarizes the statistics."
   ]
  },
  {
   "cell_type": "markdown",
   "metadata": {},
   "source": [
    "### Import Packages"
   ]
  },
  {
   "cell_type": "code",
   "execution_count": null,
   "metadata": {},
   "outputs": [],
   "source": [
    "import pandas as pd"
   ]
  },
  {
   "cell_type": "markdown",
   "metadata": {},
   "source": [
    "### Import Stored Data"
   ]
  },
  {
   "cell_type": "code",
   "execution_count": null,
   "metadata": {},
   "outputs": [],
   "source": [
    "url = 'http://apmonitor.com/che263/uploads/Main/tclab.txt'"
   ]
  },
  {
   "cell_type": "markdown",
   "metadata": {},
   "source": [
    "### Stream Data"
   ]
  },
  {
   "cell_type": "code",
   "execution_count": null,
   "metadata": {},
   "outputs": [],
   "source": []
  },
  {
   "cell_type": "markdown",
   "metadata": {},
   "source": [
    "### Summary Table"
   ]
  },
  {
   "cell_type": "code",
   "execution_count": null,
   "metadata": {},
   "outputs": [],
   "source": []
  },
  {
   "cell_type": "markdown",
   "metadata": {},
   "source": [
    "### Create Plot"
   ]
  },
  {
   "cell_type": "code",
   "execution_count": null,
   "metadata": {},
   "outputs": [],
   "source": []
  }
 ],
 "metadata": {
  "kernelspec": {
   "display_name": "Python 3",
   "language": "python",
   "name": "python3"
  },
  "language_info": {
   "codemirror_mode": {
    "name": "ipython",
    "version": 3
   },
   "file_extension": ".py",
   "mimetype": "text/x-python",
   "name": "python",
   "nbconvert_exporter": "python",
   "pygments_lexer": "ipython3",
   "version": "3.8.5"
  }
 },
 "nbformat": 4,
 "nbformat_minor": 4
}
