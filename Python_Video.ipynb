{
 "cells": [
  {
   "cell_type": "markdown",
   "metadata": {},
   "source": [
    "## Video Analysis with Python\n",
    "\n",
    "[Video Data with Python](https://www.apmonitor.com/dde/index.php/Main/VideoData) in the [Data-Driven Engineering](http://apmonitor.com/dde) online course.\n",
    "\n",
    "<img align=left width=500px src='https://apmonitor.com/dde/uploads/Main/python_video.png'>"
   ]
  },
  {
   "cell_type": "markdown",
   "metadata": {},
   "source": [
    "### Install OpenCV\n",
    "\n",
    "Install OpenCV once and restart the kernel to use the package. Uncomment this cell to install OpenCV. It can be removed if installation is successful.\n",
    "\n",
    "```python\n",
    "pip install opencv-python\n",
    "```\n",
    "\n",
    "Packages are installed once, not every time the program runs."
   ]
  },
  {
   "cell_type": "code",
   "execution_count": null,
   "metadata": {},
   "outputs": [],
   "source": [
    "# pip install opencv-python"
   ]
  },
  {
   "cell_type": "markdown",
   "metadata": {},
   "source": [
    "### Import Libraries for Video"
   ]
  },
  {
   "cell_type": "code",
   "execution_count": null,
   "metadata": {},
   "outputs": [],
   "source": [
    "import numpy as np\n",
    "import matplotlib.pyplot as plt\n",
    "import cv2"
   ]
  },
  {
   "cell_type": "markdown",
   "metadata": {},
   "source": [
    "### Download Video File"
   ]
  },
  {
   "cell_type": "code",
   "execution_count": null,
   "metadata": {},
   "outputs": [],
   "source": [
    "import urllib.request\n",
    "f = 'runner.mp4'\n",
    "url = 'http://apmonitor.com/dde/uploads/Main/'+f\n",
    "urllib.request.urlretrieve(url,f)"
   ]
  },
  {
   "cell_type": "markdown",
   "metadata": {},
   "source": [
    "### View Video"
   ]
  },
  {
   "cell_type": "code",
   "execution_count": null,
   "metadata": {},
   "outputs": [],
   "source": [
    "from IPython.display import Video\n",
    "Video(f,width=550)"
   ]
  },
  {
   "cell_type": "markdown",
   "metadata": {},
   "source": [
    "### Import Video File"
   ]
  },
  {
   "cell_type": "code",
   "execution_count": null,
   "metadata": {},
   "outputs": [],
   "source": [
    "# Import the .mp4 video\n",
    "v = cv2.VideoCapture(f)\n",
    "w = int(v.get(cv2.CAP_PROP_FRAME_WIDTH))    \n",
    "h = int(v.get(cv2.CAP_PROP_FRAME_HEIGHT))\n",
    "v.release()\n",
    "print('Dimensions:',w,h)"
   ]
  },
  {
   "cell_type": "markdown",
   "metadata": {},
   "source": [
    "### Read Frames"
   ]
  },
  {
   "cell_type": "code",
   "execution_count": null,
   "metadata": {},
   "outputs": [],
   "source": [
    "img = []\n",
    "v = cv2.VideoCapture(f)\n",
    "while v.isOpened():\n",
    "    success, image = v.read()\n",
    "    if success:\n",
    "        img.append(image)\n",
    "    else:\n",
    "        break\n",
    "v.release()\n",
    "print('Frames Read:',len(img))"
   ]
  },
  {
   "cell_type": "markdown",
   "metadata": {},
   "source": [
    "### Convert BGR (OpenCV) to RGB Format"
   ]
  },
  {
   "cell_type": "code",
   "execution_count": null,
   "metadata": {},
   "outputs": [],
   "source": [
    "for i,im in enumerate(img):\n",
    "    img[i] = cv2.cvtColor(im, cv2.COLOR_BGR2RGB)"
   ]
  },
  {
   "cell_type": "markdown",
   "metadata": {},
   "source": [
    "### Diplay First 9 Frames"
   ]
  },
  {
   "cell_type": "code",
   "execution_count": null,
   "metadata": {},
   "outputs": [],
   "source": [
    "plt.figure(figsize=(10,5))\n",
    "for i in range(9):\n",
    "    plt.subplot(3,3,i+1); plt.imshow(img[i])\n",
    "plt.tight_layout()"
   ]
  },
  {
   "cell_type": "markdown",
   "metadata": {},
   "source": [
    "### Get Pose with Deep Learning"
   ]
  },
  {
   "cell_type": "code",
   "execution_count": null,
   "metadata": {},
   "outputs": [],
   "source": [
    "# pip install mediapipe"
   ]
  },
  {
   "cell_type": "code",
   "execution_count": null,
   "metadata": {},
   "outputs": [],
   "source": [
    "import pandas as pd\n",
    "import mediapipe as mp\n",
    "mpds = mp.solutions.drawing_styles\n",
    "mpdu = mp.solutions.drawing_utils\n",
    "mpp  = mp.solutions.pose"
   ]
  },
  {
   "cell_type": "code",
   "execution_count": null,
   "metadata": {},
   "outputs": [],
   "source": [
    "# store results in dataframe\n",
    "x = {'frame':[],\\\n",
    "     'Lshldr_x':[],'Lshldr_y':[],'Lshldr_z':[],'Lshldr_v':[],\\\n",
    "     'Lhip_x':[],'Lhip_y':[],'Lhip_z':[],'Lhip_v':[],\\\n",
    "     'Lknee_x':[],'Lknee_y':[],'Lknee_z':[],'Lknee_v':[]}\n",
    "s = pd.DataFrame(x)\n",
    "\n",
    "with mpp.Pose(\n",
    "        min_detection_confidence=0.2,\n",
    "        static_image_mode=False,\n",
    "        model_complexity=2,\n",
    "        smooth_landmarks=True,\n",
    "        enable_segmentation=False,\n",
    "        smooth_segmentation=False,\n",
    "        min_tracking_confidence=0.2) as pose:\n",
    "    for i,im in enumerate(img):\n",
    "        im2 = cv2.cvtColor(im, cv2.COLOR_RGB2BGR)\n",
    "        results = pose.process(im2)\n",
    "        if not results.pose_landmarks:\n",
    "            continue\n",
    "        # draw landmarks on frame\n",
    "        mpdu.draw_landmarks(\n",
    "            im2,results.pose_landmarks,\n",
    "            mpp.POSE_CONNECTIONS,\n",
    "            landmark_drawing_spec=mpds.get_default_pose_landmarks_style())\n",
    "        img[i] = im2\n",
    "        # store values in dataframe\n",
    "        row = [i]\n",
    "        for j,lm in enumerate(results.pose_landmarks.landmark):            \n",
    "            if j in [11,23,25]:\n",
    "                row.extend([lm.x,lm.y,lm.z,lm.visibility])\n",
    "        s.loc[i] = row\n",
    "s.to_csv(f+'.csv')\n",
    "plt.imshow(img[0][:,:,[2,1,0]])\n",
    "plt.tight_layout()"
   ]
  },
  {
   "cell_type": "markdown",
   "metadata": {},
   "source": [
    "### Modify Frames: Add Text"
   ]
  },
  {
   "cell_type": "code",
   "execution_count": null,
   "metadata": {},
   "outputs": [],
   "source": [
    "font = cv2.FONT_HERSHEY_SIMPLEX\n",
    "for i,im in enumerate(img):\n",
    "    tm = i/30.0\n",
    "    dm,ds = divmod(tm, 60)\n",
    "    str_time = '{0:02d}:{1:05.2f}'.format(int(dm), ds)\n",
    "    # large text at the top with timer\n",
    "    black = (0,0,0); white = (255,255,255)\n",
    "    cv2.putText(im,str_time,(950,170), \\\n",
    "            font, 6.8,black,20,cv2.LINE_AA)\n",
    "    cv2.putText(im,str_time,(950,170), \\\n",
    "            font, 6.8,white,10,cv2.LINE_AA)\n",
    "plt.imshow(img[6][:,:,[2,1,0]])\n",
    "plt.tight_layout()"
   ]
  },
  {
   "cell_type": "markdown",
   "metadata": {},
   "source": [
    "### Modify Frames: Resize"
   ]
  },
  {
   "cell_type": "code",
   "execution_count": null,
   "metadata": {},
   "outputs": [],
   "source": [
    "scale = 0.5\n",
    "for i,im in enumerate(img):\n",
    "    img[i] = cv2.resize(im,None,fx=scale,fy=scale)"
   ]
  },
  {
   "cell_type": "markdown",
   "metadata": {},
   "source": [
    "### Get New Frame Size"
   ]
  },
  {
   "cell_type": "code",
   "execution_count": null,
   "metadata": {},
   "outputs": [],
   "source": [
    "h,w,c = img[0].shape\n",
    "print('New Dimensions:',h,w)"
   ]
  },
  {
   "cell_type": "markdown",
   "metadata": {},
   "source": [
    "### Display Resized Frames"
   ]
  },
  {
   "cell_type": "code",
   "execution_count": null,
   "metadata": {},
   "outputs": [],
   "source": [
    "plt.figure(figsize=(10,7))\n",
    "for i in range(9):\n",
    "    plt.subplot(3,3,i+1); plt.imshow(img[i][:,:,[2,1,0]])\n",
    "plt.tight_layout()"
   ]
  },
  {
   "cell_type": "markdown",
   "metadata": {},
   "source": [
    "### Export Video File"
   ]
  },
  {
   "cell_type": "code",
   "execution_count": null,
   "metadata": {},
   "outputs": [],
   "source": [
    "fnew = f[:-4]+'.webm'\n",
    "# common formats:\n",
    "#   avi with XVID (fast writing, larger file)\n",
    "#   mp4 with MP4V or H264 (not compatible with some browsers)\n",
    "#   webm with vp80 (slow writing, smaller file)\n",
    "out = cv2.VideoWriter(fnew,\\\n",
    "                      cv2.VideoWriter_fourcc(*'vp80'),5,(w,h))\n",
    "for im in img:\n",
    "    out.write(im)\n",
    "out.release()"
   ]
  },
  {
   "cell_type": "markdown",
   "metadata": {},
   "source": [
    "### Display Modified Video"
   ]
  },
  {
   "cell_type": "code",
   "execution_count": null,
   "metadata": {},
   "outputs": [],
   "source": [
    "Video(fnew,width=550)"
   ]
  },
  {
   "cell_type": "markdown",
   "metadata": {},
   "source": [
    "### ✅ Knowledge Check\n",
    "\n",
    "Calculate distance from the camera and an estimate of the velocity that the runner is moving away. Use the distance between the left shoulder and left hip as a scale to determine the distance. Use how the scale changes with time to determine runner velocity. Display the distance and velocity on the video frames, similar to the timer numbers. "
   ]
  },
  {
   "cell_type": "code",
   "execution_count": null,
   "metadata": {},
   "outputs": [],
   "source": []
  }
 ],
 "metadata": {
  "kernelspec": {
   "display_name": "Python 3",
   "language": "python",
   "name": "python3"
  },
  "language_info": {
   "codemirror_mode": {
    "name": "ipython",
    "version": 3
   },
   "file_extension": ".py",
   "mimetype": "text/x-python",
   "name": "python",
   "nbconvert_exporter": "python",
   "pygments_lexer": "ipython3",
   "version": "3.8.10"
  }
 },
 "nbformat": 4,
 "nbformat_minor": 4
}
