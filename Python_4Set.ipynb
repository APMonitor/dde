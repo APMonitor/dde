{
 "cells": [
  {
   "cell_type": "markdown",
   "metadata": {},
   "source": [
    "### 👩‍💻 📚 [Python for Data-Driven Engineering](https://apmonitor.com/dde/index.php/Main/PythonOverview)\n",
    "\n",
    "<img width=550px align=left src='https://apmonitor.com/dde/uploads/Main/Python_4Set.png'>"
   ]
  },
  {
   "cell_type": "markdown",
   "metadata": {},
   "source": [
    "Data-driven engineering relies on information, often stored in the form of characters (strings) and numbers (integers and floating point numbers). It is essential to import, export, and get data into the correct form so that information can be extracted. [This series](https://apmonitor.com/dde/index.php/Main/PythonOverview) includes an introduction to Python Basics as foundational elements.\n",
    "\n",
    "<html>\n",
    "<ul>\n",
    "    <li> 1️⃣ <a href='https://apmonitor.com/dde/index.php/Main/PythonBasics'>Python Basics</a>\n",
    "</ul>\n",
    "</html>\n",
    "\n",
    "Elements are stored in collections as `tuples` and `lists`.\n",
    "\n",
    "<html>\n",
    "<ul>\n",
    "    <li> 2️⃣ <a href='https://apmonitor.com/dde/index.php/Main/PythonTuple'>Python Tuple</a>\n",
    "    <li> 3️⃣ <a href='https://apmonitor.com/dde/index.php/Main/PythonList'>Python List</a>\n",
    "</ul>\n",
    "</html>\n",
    "\n",
    "The `set` and `dict` (dictionary) types cover the remaining two types of collections. \n",
    "\n",
    "<html>\n",
    "<ul>\n",
    "    <li> 4️⃣ <a href='https://apmonitor.com/dde/index.php/Main/PythonSet'>Python Set</a>\n",
    "    <li> 5️⃣ <a href='https://apmonitor.com/dde/index.php/Main/PythonDictionary'>Python Dictionary</a>\n",
    "</ul>\n",
    "</html>\n",
    "    \n",
    "Each collection of information has a specific purpose.\n",
    "\n",
    "* Tuple (e.g. `(i,x,e)`) - does not change, efficient storage, iterable\n",
    "* List (e.g. `[i,x,e]`) - add elements, remove elements, sort, iterable\n",
    "* Set (e.g. `{i,x,e}`) - similar to list but not sorted and no duplicate values\n",
    "* Dictionary (e.g. `{'i':i,'x':x,'e':e}`) - reference value based on key\n",
    "\n",
    "Two additional topics cover foundational packages in Python. 6️⃣ <a href='https://apmonitor.com/dde/index.php/Main/PythonNumpy'>Numpy</a> expands upon the basic Python functions to create an array. Matrix and vector operations are designed as a foundation for numerical calculations. 7️⃣ <a href='https://apmonitor.com/dde/index.php/Main/PythonPandas'>Pandas</a> reads, cleanses, calculates, rearranges, and exports data. It is a library for working with data with common high-level functions that simplify the processing steps of analytics and informatics."
   ]
  },
  {
   "cell_type": "markdown",
   "metadata": {},
   "source": [
    "### 4️⃣ 📙 Python Set\n",
    "\n",
    "A `set` is another one of four types that can store multiple items as a single variable. A `set` is a finite set of values that can change like a `list`. A `set` is not ordered and has all unique elements. A `set` is often a list of unique character values that represent unique items.\n",
    "\n",
    "```python\n",
    "t = {'yes','no'}\n",
    "```\n",
    "\n",
    "#### 💡 Create Set\n",
    "\n",
    "Create a `set` of strings. Unlike a `tuple`, a `set` of length `1` is defined without an extra trailing comma `{'yes'}`. If values are repeated, the duplicate is removed. Empty curly brackets `{}` create an empty dictionary, not a set. An empty set is defined with `t=set()`."
   ]
  },
  {
   "cell_type": "code",
   "execution_count": null,
   "metadata": {},
   "outputs": [],
   "source": [
    "t = {'yes','no','unknown','yes'}"
   ]
  },
  {
   "cell_type": "markdown",
   "metadata": {},
   "source": [
    "#### 📝 Print Set"
   ]
  },
  {
   "cell_type": "markdown",
   "metadata": {},
   "source": [
    "Print the `set` and verify the object type as a `set` with the `type()` function. Because `yes` appears twice, the duplicate is not added."
   ]
  },
  {
   "cell_type": "code",
   "execution_count": null,
   "metadata": {},
   "outputs": [],
   "source": [
    "print(t)\n",
    "type(t)"
   ]
  },
  {
   "cell_type": "markdown",
   "metadata": {},
   "source": [
    "#### 📑 Unpack Set\n",
    "\n",
    "Each element of a `set` is accessed when used as an iterator in a `for` loop."
   ]
  },
  {
   "cell_type": "code",
   "execution_count": null,
   "metadata": {},
   "outputs": [],
   "source": [
    "for ti in t:\n",
    "    print(ti)"
   ]
  },
  {
   "cell_type": "markdown",
   "metadata": {},
   "source": [
    "#### 👨‍👦 Copy Set\n",
    "\n",
    "Create a copy of set `t` as `u` with `copy`. Using `u=t` only creates a reference to the original `set` so changes to `u` also update `t`. Use `copy` to create a new `set` that is independent of `t`."
   ]
  },
  {
   "cell_type": "code",
   "execution_count": null,
   "metadata": {},
   "outputs": [],
   "source": [
    "u = t.copy()"
   ]
  },
  {
   "cell_type": "markdown",
   "metadata": {},
   "source": [
    "#### 🗑 Remove from Set\n",
    "\n",
    "Set elements can be removed. Use the `remove` function to eliminate the element from the list. Use `discard` to not raise an error if the element is not present. The `remove` function raises an error if the element is not found."
   ]
  },
  {
   "cell_type": "code",
   "execution_count": null,
   "metadata": {},
   "outputs": [],
   "source": [
    "u.discard('unknown')\n",
    "print(u)"
   ]
  },
  {
   "cell_type": "markdown",
   "metadata": {},
   "source": [
    "#### 🕵️‍♀️ Inspect Differences\n",
    "\n",
    "There are methods to investigate diffferences or create a new set from the differences. Some of these include `difference`, `intersection`, `issubset`, `symmetric_difference`, and `union`. The `difference` function returns the difference with another `set`."
   ]
  },
  {
   "cell_type": "code",
   "execution_count": null,
   "metadata": {},
   "outputs": [],
   "source": [
    "t.difference(u)"
   ]
  },
  {
   "cell_type": "markdown",
   "metadata": {},
   "source": [
    "The `issubset` function returns `True` if another `set` contains this `set`."
   ]
  },
  {
   "cell_type": "code",
   "execution_count": null,
   "metadata": {},
   "outputs": [],
   "source": [
    "u.issubset(t)"
   ]
  },
  {
   "cell_type": "markdown",
   "metadata": {},
   "source": [
    "#### 🔑 Set Attributes and Methods with `dir`\n",
    "\n",
    "Use the `dir()` function to list all attributes (constants, properties) and methods (functions) that are available with an object.\n",
    "\n",
    "```python\n",
    "dir(t)\n",
    "```\n",
    "\n",
    "A `set` has the following methods (functions) with set operators (`&`,`|`,`-`,`^`,`<=`,`<`,`>=`,`>`) as a more compact way to compare two sets:\n",
    "\n",
    "- `add` - add entry\n",
    "- `clear` - clear all entries\n",
    "- `copy` - create a copy of the `set`\n",
    "- `difference` (`-`) - return the difference with another `set`\n",
    "- `difference_update` - remove all elements of another `set`\n",
    "- `discard` - remove an element if it is in the `set`\n",
    "- `intersection` (`&`) - return the intersection (common elements) of two sets\n",
    "- `intersection_update` - update `set` with the intersection of another\n",
    "- `isdisjoint` - return `True` if two sets have a no common elements\n",
    "- `issubset` (`<=`) - return `True` if another set contains this `set`\n",
    "- `issuperset` (`>=`) - return `True` if this set contains another `set`\n",
    "- `pop` - remove an arbitrary element from `set`\n",
    "- `remove` - remove an element from `set`\n",
    "- `symmetric_difference` (`^`) - return all elements that are in exactly one of the sets\n",
    "- `symmetric_difference_update` - update a set with the symmetric difference between itself and another\n",
    "- `union` (`|`) - return all elements that are in either set\n",
    "- `update` - update a set with union of itself and others\n",
    "\n",
    "A few examples with sets `x={-1,0,1,2}` and `y={1,2,3}` demonstrate set operators."
   ]
  },
  {
   "cell_type": "code",
   "execution_count": null,
   "metadata": {},
   "outputs": [],
   "source": [
    "x = {-1,0,1,2}; y={1,2,3}\n",
    "print('x: ',x)\n",
    "print('y: ',y)\n",
    "print('Intersection: ', x&y)\n",
    "print('Difference (x-y): ', x-y)\n",
    "print('Difference (y-x): ', y-x)\n",
    "print('Union: ',x|y)\n",
    "print('Subset: ',x<=y)\n",
    "print('Superset {0,1,2}>={1,2}:',{0,1,2}>={1,2})\n",
    "print('Proper Subset: ',x<y)\n",
    "print('Proper Superset: ',x>y)"
   ]
  },
  {
   "cell_type": "markdown",
   "metadata": {},
   "source": [
    "Because a `set` is not ordered, there is no particular index for each element. There are also no sort functions. Convert to a `list` to sort the `set`."
   ]
  },
  {
   "cell_type": "markdown",
   "metadata": {},
   "source": [
    "#### 💻 Exercise 4A\n",
    "\n",
    "Add entry `'none'` to set `t`. Print the new set."
   ]
  },
  {
   "cell_type": "code",
   "execution_count": null,
   "metadata": {},
   "outputs": [],
   "source": []
  },
  {
   "cell_type": "markdown",
   "metadata": {},
   "source": [
    "#### 💻 Exercise 4B\n",
    "\n",
    "Complete the following steps with `set` operations.\n",
    "\n",
    "1. Start with a set `z={0.5,1,2,4}`.\n",
    "2. Create a copy `w` of set `z`.\n",
    "3. Remove (`pop`) an element from `w`.\n",
    "4. Display the removed element."
   ]
  },
  {
   "cell_type": "code",
   "execution_count": null,
   "metadata": {},
   "outputs": [],
   "source": []
  }
 ],
 "metadata": {
  "kernelspec": {
   "display_name": "Python 3",
   "language": "python",
   "name": "python3"
  },
  "language_info": {
   "codemirror_mode": {
    "name": "ipython",
    "version": 3
   },
   "file_extension": ".py",
   "mimetype": "text/x-python",
   "name": "python",
   "nbconvert_exporter": "python",
   "pygments_lexer": "ipython3",
   "version": "3.8.5"
  }
 },
 "nbformat": 4,
 "nbformat_minor": 4
}
