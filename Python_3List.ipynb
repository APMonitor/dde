{
 "cells": [
  {
   "cell_type": "markdown",
   "metadata": {},
   "source": [
    "### 👩‍💻 📚 [Python for Data-Driven Engineering](https://apmonitor.com/dde/index.php/Main/PythonOverview)\n",
    "\n",
    "<img width=550px align=left src='https://apmonitor.com/dde/uploads/Main/Python_3List.png'>"
   ]
  },
  {
   "cell_type": "markdown",
   "metadata": {},
   "source": [
    "Data-driven engineering relies on information, often stored in the form of characters (strings) and numbers (integers and floating point numbers). It is essential to import, export, and get data into the correct form so that information can be extracted. [This series](https://apmonitor.com/dde/index.php/Main/PythonOverview) includes an introduction to Python Basics as foundational elements.\n",
    "\n",
    "<html>\n",
    "<ul>\n",
    "    <li> 1️⃣ <a href='https://apmonitor.com/dde/index.php/Main/PythonBasics'>Python Basics</a>\n",
    "</ul>\n",
    "</html>\n",
    "\n",
    "Elements are stored in collections as `tuples` and `lists`.\n",
    "\n",
    "<html>\n",
    "<ul>\n",
    "    <li> 2️⃣ <a href='https://apmonitor.com/dde/index.php/Main/PythonTuple'>Python Tuple</a>\n",
    "    <li> 3️⃣ <a href='https://apmonitor.com/dde/index.php/Main/PythonList'>Python List</a>\n",
    "</ul>\n",
    "</html>\n",
    "\n",
    "The `set` and `dict` (dictionary) types cover the remaining two types of collections. \n",
    "\n",
    "<html>\n",
    "<ul>\n",
    "    <li> 4️⃣ <a href='https://apmonitor.com/dde/index.php/Main/PythonSet'>Python Set</a>\n",
    "    <li> 5️⃣ <a href='https://apmonitor.com/dde/index.php/Main/PythonDictionary'>Python Dictionary</a>\n",
    "</ul>\n",
    "</html>\n",
    "    \n",
    "Each collection of information has a specific purpose.\n",
    "\n",
    "* Tuple (e.g. `(i,x,e)`) - does not change, efficient storage, iterable\n",
    "* List (e.g. `[i,x,e]`) - add elements, remove elements, sort, iterable\n",
    "* Set (e.g. `{i,x,e}`) - similar to list but not sorted and no duplicate values\n",
    "* Dictionary (e.g. `{'i':i,'x':x,'e':e}`) - reference value based on key\n",
    "\n",
    "Two additional topics cover foundational packages in Python. 6️⃣ <a href='https://apmonitor.com/dde/index.php/Main/PythonNumpy'>Numpy</a> expands upon the basic Python functions to create an array. Matrix and vector operations are designed as a foundation for numerical calculations. 7️⃣ <a href='https://apmonitor.com/dde/index.php/Main/PythonPandas'>Pandas</a> reads, cleanses, calculates, rearranges, and exports data. It is a library for working with data with common high-level functions that simplify the processing steps of analytics and informatics."
   ]
  },
  {
   "cell_type": "markdown",
   "metadata": {},
   "source": [
    "### 3️⃣ 📘 Python Lists"
   ]
  },
  {
   "cell_type": "markdown",
   "metadata": {},
   "source": [
    "#### 💡 Convert Tuple to List\n",
    "\n",
    "Use the function `list()` to convert a `tuple` or `set` to a `list`. Once it is a `list` type, it gets the extra functions available for a list such as `sort()`, `append()`, `remove()`, and `pop()`."
   ]
  },
  {
   "cell_type": "code",
   "execution_count": null,
   "metadata": {},
   "outputs": [],
   "source": [
    "y = (1,2.7,3.8e3,4.9)\n",
    "y = list(y)\n",
    "type(y)"
   ]
  },
  {
   "cell_type": "markdown",
   "metadata": {},
   "source": [
    "The `range(end)` function can generate a list such as `[0,1,2]` or with `range(start,end,increment)` to generate `[3,5,7,9]`."
   ]
  },
  {
   "cell_type": "code",
   "execution_count": null,
   "metadata": {},
   "outputs": [],
   "source": [
    "print(list(range(3)))\n",
    "print(list(range(3,10,2)))"
   ]
  },
  {
   "cell_type": "markdown",
   "metadata": {},
   "source": [
    "#### 💡 Create New List\n",
    "\n",
    "Create a `list` of numbers. Mixed element types with integers, floats, and strings are also possible."
   ]
  },
  {
   "cell_type": "code",
   "execution_count": null,
   "metadata": {},
   "outputs": [],
   "source": [
    "y = [1,2.7,3.8e3,4.9]"
   ]
  },
  {
   "cell_type": "markdown",
   "metadata": {},
   "source": [
    "#### 📝 Print List\n",
    "\n",
    "Print the `list` with the `print()` function."
   ]
  },
  {
   "cell_type": "code",
   "execution_count": null,
   "metadata": {},
   "outputs": [],
   "source": [
    "print(y)\n",
    "type(y)"
   ]
  },
  {
   "cell_type": "markdown",
   "metadata": {},
   "source": [
    "#### 📑 Unpack List\n",
    "\n",
    "Each element of a `list` is accessed when used as an iterator in a `for` loop."
   ]
  },
  {
   "cell_type": "code",
   "execution_count": null,
   "metadata": {},
   "outputs": [],
   "source": [
    "for yi in y:\n",
    "    print(yi)"
   ]
  },
  {
   "cell_type": "markdown",
   "metadata": {},
   "source": [
    "Use `enumerate()` to return the index `i` and the value `yi` of each item in the `list`."
   ]
  },
  {
   "cell_type": "code",
   "execution_count": null,
   "metadata": {},
   "outputs": [],
   "source": [
    "for i,yi in enumerate(y):\n",
    "    print(i,yi)"
   ]
  },
  {
   "cell_type": "markdown",
   "metadata": {},
   "source": [
    "#### 📃 List Elements\n",
    "\n",
    "Similar to a `tuple`, the list is referenced by an index with square brackets. The first element is `y[0]` because a Python `tuple` or `list` starts with index-`0`."
   ]
  },
  {
   "cell_type": "code",
   "execution_count": null,
   "metadata": {},
   "outputs": [],
   "source": [
    "y[0]"
   ]
  },
  {
   "cell_type": "markdown",
   "metadata": {},
   "source": [
    "The last element of the list is `y[-1]`."
   ]
  },
  {
   "cell_type": "code",
   "execution_count": null,
   "metadata": {},
   "outputs": [],
   "source": [
    "y[-1]"
   ]
  },
  {
   "cell_type": "markdown",
   "metadata": {},
   "source": [
    "#### 🔍 Find Item in List\n",
    "\n",
    "Determine if an item is in a list with the `in` operator or `count` the number of occurances with `y.count(2.7)`."
   ]
  },
  {
   "cell_type": "code",
   "execution_count": null,
   "metadata": {},
   "outputs": [],
   "source": [
    "2.7 in y"
   ]
  },
  {
   "cell_type": "markdown",
   "metadata": {},
   "source": [
    "#### 🔪 List Slice\n",
    "\n",
    "A `list` slice is a subset of the full `list` with `y[start:end:increment]`. It is defined as a range of values such as `y[1:3]`."
   ]
  },
  {
   "cell_type": "code",
   "execution_count": null,
   "metadata": {},
   "outputs": [],
   "source": [
    "z = y[1:3]\n",
    "print(y)\n",
    "print(z)"
   ]
  },
  {
   "cell_type": "markdown",
   "metadata": {},
   "source": [
    "Changing the slice does not change the original `list`."
   ]
  },
  {
   "cell_type": "code",
   "execution_count": null,
   "metadata": {},
   "outputs": [],
   "source": [
    "z[0] = 3.7\n",
    "print('Slice: ', z)\n",
    "print('Original ', y)"
   ]
  },
  {
   "cell_type": "markdown",
   "metadata": {},
   "source": [
    "Leave out the number in `y[start:end:increment]` to start at the beginning or terminate at the end. Every other item (increment 2) in a list is `y[::2]`."
   ]
  },
  {
   "cell_type": "code",
   "execution_count": null,
   "metadata": {},
   "outputs": [],
   "source": [
    "y[::2]"
   ]
  },
  {
   "cell_type": "markdown",
   "metadata": {},
   "source": [
    "#### 🧦 Copy List\n",
    "\n",
    "When copying a `list`, use the `copy()` function to create the new `list` or the two `lists` (`z` and `y`) reference the same values in memory."
   ]
  },
  {
   "cell_type": "code",
   "execution_count": null,
   "metadata": {},
   "outputs": [],
   "source": [
    "print('Before: ',y)\n",
    "z = y # use y.copy() instead\n",
    "z[0] += 1\n",
    "print('After: ',y)"
   ]
  },
  {
   "cell_type": "markdown",
   "metadata": {},
   "source": [
    "#### ➕ Add to List\n",
    "\n",
    "Items can be added to the end of a `list` using the `append()` function. The item can be any object such as a number or string. "
   ]
  },
  {
   "cell_type": "code",
   "execution_count": null,
   "metadata": {},
   "outputs": [],
   "source": [
    "print('Before: ',y)\n",
    "y.append('item')\n",
    "print('After: ',y)"
   ]
  },
  {
   "cell_type": "markdown",
   "metadata": {},
   "source": [
    "The item can also be another `list` such as `[3,2,1]` added to the end."
   ]
  },
  {
   "cell_type": "code",
   "execution_count": null,
   "metadata": {},
   "outputs": [],
   "source": [
    "print('Before: ',y)\n",
    "y.append([3,2,1])\n",
    "print('After: ',y)"
   ]
  },
  {
   "cell_type": "markdown",
   "metadata": {},
   "source": [
    "#### 🗑 Remove from List\n",
    "\n",
    "List elements can also be removed. Use the `remove()` function to eliminate the first instance of the object from the list."
   ]
  },
  {
   "cell_type": "code",
   "execution_count": null,
   "metadata": {},
   "outputs": [],
   "source": [
    "print('Before: ',y)\n",
    "y.remove('item')\n",
    "print('After: ',y)"
   ]
  },
  {
   "cell_type": "markdown",
   "metadata": {},
   "source": [
    "#### ✂ Remove Element by Index\n",
    "\n",
    "The `remove()` function finds the first instance of the object from the list. Items can also be removed by index reference with the `pop()` function. Remove the last element of the list with `pop(-1)`."
   ]
  },
  {
   "cell_type": "code",
   "execution_count": null,
   "metadata": {},
   "outputs": [],
   "source": [
    "print('Before: ',y)\n",
    "y.pop(-1)\n",
    "print('After: ',y)"
   ]
  },
  {
   "cell_type": "markdown",
   "metadata": {},
   "source": [
    "Another way to remove an item from a list is with the `del` built-in function."
   ]
  },
  {
   "cell_type": "code",
   "execution_count": null,
   "metadata": {},
   "outputs": [],
   "source": [
    "print('Before: ',y)\n",
    "del y[-1]\n",
    "print('After: ',y)"
   ]
  },
  {
   "cell_type": "markdown",
   "metadata": {},
   "source": [
    "#### ⚙ Insert Element at Index\n",
    "\n",
    "The `append()` function adds to the end of the list. The `insert()` function adds an element to a specified index location such as `y.insert(1,4.4)` that adds `4.4` the the index-`1` location."
   ]
  },
  {
   "cell_type": "code",
   "execution_count": null,
   "metadata": {},
   "outputs": [],
   "source": [
    "print('Before: ',y)\n",
    "y.insert(1,4.4)\n",
    "print('After: ',y)"
   ]
  },
  {
   "cell_type": "markdown",
   "metadata": {},
   "source": [
    "#### 🔧 Extend List\n",
    "\n",
    "The `extend()` function adds a new `list` or `tuple` to the end of an existing `list`. The `append()` function does not work to extend the `list` because the new element would be added as a single object."
   ]
  },
  {
   "cell_type": "code",
   "execution_count": null,
   "metadata": {},
   "outputs": [],
   "source": [
    "print('Before: ',y)\n",
    "y.extend([1,2,3])\n",
    "print('After: ',y)"
   ]
  },
  {
   "cell_type": "markdown",
   "metadata": {},
   "source": [
    "#### 🔨 List Comprehension\n",
    "\n",
    "A `list` comprehension builds a `list` from an existing `list`.\n",
    "\n",
    "<html>\n",
    "    <br>\n",
    "    newlist = [<i>expression</i> for <i>item</i> in <i>iterable</i>]\n",
    "    <br>\n",
    "</html>\n",
    "\n",
    "An example is to add one to each element of the list with `[i+1 for i in y]`."
   ]
  },
  {
   "cell_type": "code",
   "execution_count": null,
   "metadata": {},
   "outputs": [],
   "source": [
    "print('Before: ',y)\n",
    "y = [i+1 for i in y]\n",
    "print('After: ',y)"
   ]
  },
  {
   "cell_type": "markdown",
   "metadata": {},
   "source": [
    "A `list` comprehension can also have a conditional statement at the end to shorten the list to those items that meet the condition.\n",
    "\n",
    "<html>\n",
    "    <br>\n",
    "    newlist = [<i>expression</i> for <i>item</i> in <i>iterable</i> if <i>condition</i>]\n",
    "    <br>\n",
    "</html>\n",
    "\n",
    "An example is to include only the values that are less than or equal to 3 with `[i for i in y if i<=3]`."
   ]
  },
  {
   "cell_type": "code",
   "execution_count": null,
   "metadata": {},
   "outputs": [],
   "source": [
    "print('Before: ',y)\n",
    "y = [i for i in y if i<=3]\n",
    "print('After: ',y)"
   ]
  },
  {
   "cell_type": "markdown",
   "metadata": {},
   "source": [
    "#### List of Lists\n",
    "\n",
    "A list can contain elements that are also lists. Each element in the list `M` is the a row in the matrix.\n",
    "\n",
    "$M = \\begin{bmatrix}\n",
    "0 & 1 & 2 & 3\\\\ \n",
    "10 & 11 & 12 & 13\\\\ \n",
    "20 & 21 & 22 & 23\n",
    "\\end{bmatrix}$\n",
    "\n",
    "The matrix has 3 rows and 4 columns. Numpy arrays are introduced later as an easier way to work with matrices."
   ]
  },
  {
   "cell_type": "code",
   "execution_count": null,
   "metadata": {},
   "outputs": [],
   "source": [
    "M = [[0,1,2,3],[10,11,12,13],[20,21,22,23]]\n",
    "print(M[1])                  # print row 1\n",
    "print([row[1] for row in M]) # print column 1 using list comprehension\n",
    "print(M[1][2])               # print row 1, column 2"
   ]
  },
  {
   "cell_type": "markdown",
   "metadata": {},
   "source": [
    "#### 🔑 List Attributes and Methods with `dir`\n",
    "\n",
    "Use the `dir()` function to list all attributes (constants, properties) and methods (functions) that are available with an object.\n",
    "\n",
    "```python\n",
    "dir(y)\n",
    "```\n",
    "\n",
    "A `list` has the following functions:\n",
    "\n",
    "* `append` - add to the end of a list\n",
    "* `clear` - delete all elements of a list\n",
    "* `copy` - create a copy of the list\n",
    "* `count` - count the number of matching elements\n",
    "* `extend` - append elements of an iterable (e.g. `list`)\n",
    "* `index` - find first index of the matching element\n",
    "* `insert` - add object at specified index\n",
    "* `pop` - remove item at specified index\n",
    "* `remove` - remove by object reference\n",
    "* `reverse` - sort in reverse (descending) order\n",
    "* `sort` - sort list in ascending order"
   ]
  },
  {
   "cell_type": "markdown",
   "metadata": {},
   "source": [
    "#### 💻 Exercise 3A\n",
    "\n",
    "Complete the following steps with `list` operations.\n",
    "\n",
    "1. Start with an empty list: `[]` called `z`.\n",
    "2. Append the value `2`.\n",
    "3. Insert value `3.75` at index `1`.\n",
    "4. Extend the numbers to the end of `z`: `[4,5,1]`.\n",
    "5. Insert value `3` at index `0`.\n",
    "6. Sort the list in ascending order.\n",
    "7. Remove (pop) index `3`.\n",
    "8. Print the result.\n",
    "\n",
    "Check the result. It should be `[1,2,3,4,5]` if all steps are completed successfully."
   ]
  },
  {
   "cell_type": "code",
   "execution_count": null,
   "metadata": {},
   "outputs": [],
   "source": []
  },
  {
   "cell_type": "markdown",
   "metadata": {},
   "source": [
    "#### 💻 Exercise 3B\n",
    "\n",
    "Simulate rolling two 6-sided dice 🎲🎲 10,000 times.\n",
    "\n",
    "```python\n",
    "import random\n",
    "for i in range(10000):\n",
    "    v = random.randint(1,6) + random.randint(1,6)\n",
    "```\n",
    "\n",
    "Append the value `v` in a list after each roll. Display the count and percentage each value was rolled between 2 and 12. How closely do the random rolls agree with the probability of `1/36 = 2.77%` for `2` and `12`?"
   ]
  },
  {
   "cell_type": "code",
   "execution_count": null,
   "metadata": {},
   "outputs": [],
   "source": []
  }
 ],
 "metadata": {
  "kernelspec": {
   "display_name": "Python 3",
   "language": "python",
   "name": "python3"
  },
  "language_info": {
   "codemirror_mode": {
    "name": "ipython",
    "version": 3
   },
   "file_extension": ".py",
   "mimetype": "text/x-python",
   "name": "python",
   "nbconvert_exporter": "python",
   "pygments_lexer": "ipython3",
   "version": "3.8.5"
  }
 },
 "nbformat": 4,
 "nbformat_minor": 4
}
