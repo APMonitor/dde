{
 "cells": [
  {
   "cell_type": "markdown",
   "metadata": {},
   "source": [
    "### 7️⃣ 👩‍💻 📚 Pandas for Data-Driven Engineering\n",
    "\n",
    "Data-driven engineering is the process of reading, cleansing, calculating, rearranging, and exporting data. `Pandas` is a library for working with data with common high-level functions that simplify the processing steps of analytics and informatics. This series is an introduction to the Python Pandas library and functions.\n",
    "\n",
    "<html>\n",
    "<ul>\n",
    "<li> 7️⃣.1️⃣ Pandas Install and Import\n",
    "<li> 7️⃣.2️⃣ Pandas Series\n",
    "<li> 7️⃣.3️⃣ Pandas DataFrame\n",
    "<li> 7️⃣.4️⃣ DataFrame Analytics\n",
    "<li> 7️⃣.5️⃣ DataFrame Visualization\n",
    "<li> 7️⃣.6️⃣ DataFrame Export\n",
    "</ul>\n",
    "</html>"
   ]
  },
  {
   "cell_type": "markdown",
   "metadata": {},
   "source": [
    "### 7️⃣.1️⃣ 📒 Pandas Install and Import\n",
    "\n",
    "Some distributions come with `pandas` and other foundational libraries. If a library is not installed, it can be added by using the name of the library with `pip` in a Jupyter Notebook cell or from the computer command line. Additional information on managing packages is avaiable in the [Data-Driven Engineering course](https://apmonitor.com/dde/index.php/Main/InstallPythonPackages). Install `pandas` and `pandas-profiling` for the exercises in this module."
   ]
  },
  {
   "cell_type": "code",
   "execution_count": null,
   "metadata": {},
   "outputs": [],
   "source": [
    "pip install pandas"
   ]
  },
  {
   "cell_type": "code",
   "execution_count": null,
   "metadata": {},
   "outputs": [],
   "source": [
    "pip install pandas-profiling > pandas_profile_details.txt"
   ]
  },
  {
   "cell_type": "markdown",
   "metadata": {},
   "source": [
    "#### ✔ Check `pandas` version\n",
    "\n",
    "Check `pandas` version and other package information with `pip show pandas`."
   ]
  },
  {
   "cell_type": "code",
   "execution_count": null,
   "metadata": {},
   "outputs": [],
   "source": [
    "pip show pandas"
   ]
  },
  {
   "cell_type": "markdown",
   "metadata": {},
   "source": [
    "#### 🐼 Import `pandas`\n",
    "\n",
    "Once a library is installed, import functions in one of a few ways:\n",
    "\n",
    "```python\n",
    "import pandas\n",
    "import pandas as pd\n",
    "from pandas import DataFrame\n",
    "```\n",
    "\n",
    "The first option is rarely used because the full `pandas` name would need to be used on every function call. The second option shortens the library name and is the most popular way to import all `pandas` functions and attributes. The third method imports only the specific function `DataFrame` instead of all functions. Never use `from pandas import *` because it clutters the namespace and the source of the function is unclear when multiple libraries are used."
   ]
  },
  {
   "cell_type": "code",
   "execution_count": null,
   "metadata": {},
   "outputs": [],
   "source": [
    "import pandas as pd\n",
    "from pandas import DataFrame"
   ]
  },
  {
   "cell_type": "markdown",
   "metadata": {},
   "source": [
    "There are `pandas` functions for reading data, statistical description, analyzing, organizing, and visualization of data. These are only a subset of the functions that are in `pandas`. A more complete description of all functions is in the [documentation](https://pandas.pydata.org/docs/user_guide/index.html) or with `help(pandas)`.\n",
    "\n",
    "- `Series`: create a Pandas Series\n",
    "- `DataFrame`: create a Pandas DataFrame\n",
    "- `read_csv`: read a Comma Separated Value (CSV) file\n",
    "- `describe`: create a basic stastical summary of the data\n",
    "- `plot`: generate a plot of the data\n",
    "- `to_csv`: export CSV file\n",
    "\n",
    "One of the first steps in working with `pandas` is to create a `Series` or `DataFrame`."
   ]
  },
  {
   "cell_type": "markdown",
   "metadata": {},
   "source": [
    "### 7️⃣.2️⃣ 📒 Pandas Series\n",
    "\n",
    "A `Series` is a single sequence of values while a `DataFrame` typically has multiple data columns with a common index. A simple `Series` is like a `list` but there is an additional index for referencing the location."
   ]
  },
  {
   "cell_type": "code",
   "execution_count": null,
   "metadata": {},
   "outputs": [],
   "source": [
    "y = pd.Series([0.330,4.87,5.97,0.073,0.642])\n",
    "print(y)"
   ]
  },
  {
   "cell_type": "markdown",
   "metadata": {},
   "source": [
    "#### 🔢 Series Index and Values\n",
    "\n",
    "Use `.values` to retrieve just the values in the `Series` as a `NumPy` array. The index is available with `.index`. The mass ($10^{24}$ kg) of Mercury, Venus, Earth, Moon, and Mars are shown. See [planetary information](https://nssdc.gsfc.nasa.gov/planetary/factsheet/) for other solar system bodies 🪐."
   ]
  },
  {
   "cell_type": "code",
   "execution_count": null,
   "metadata": {},
   "outputs": [],
   "source": [
    "y.values"
   ]
  },
  {
   "cell_type": "markdown",
   "metadata": {},
   "source": [
    "✅ **Knowledge Check:** Show only the index of `y` as a `list`."
   ]
  },
  {
   "cell_type": "code",
   "execution_count": null,
   "metadata": {},
   "outputs": [],
   "source": []
  },
  {
   "cell_type": "markdown",
   "metadata": {},
   "source": [
    "#### 💬 Name the Index\n",
    "\n",
    "The default index is a range of values that start a zero and end at `n-1` the number of elements as `0, 1, ... n-2, n-1`. The default index can be changed by assigning `.index` as a new `list`. "
   ]
  },
  {
   "cell_type": "code",
   "execution_count": null,
   "metadata": {},
   "outputs": [],
   "source": [
    "y.index = ['Mercury','Venus','Earth','Moon','Mars']\n",
    "y"
   ]
  },
  {
   "cell_type": "markdown",
   "metadata": {},
   "source": [
    "#### 👁️‍🗨️ Retrieve Values from Series Index\n",
    "\n",
    "Access a single value by name."
   ]
  },
  {
   "cell_type": "code",
   "execution_count": null,
   "metadata": {},
   "outputs": [],
   "source": [
    "y['Mercury']"
   ]
  },
  {
   "cell_type": "markdown",
   "metadata": {},
   "source": [
    "Even though the `Series` index has changed, it is also possible to reference by index number."
   ]
  },
  {
   "cell_type": "code",
   "execution_count": null,
   "metadata": {},
   "outputs": [],
   "source": [
    "y[0]"
   ]
  },
  {
   "cell_type": "markdown",
   "metadata": {},
   "source": [
    "✅ **Knowledge Check:** Calculate the ratio of the weight of the moon to the earth."
   ]
  },
  {
   "cell_type": "code",
   "execution_count": null,
   "metadata": {},
   "outputs": [],
   "source": []
  },
  {
   "cell_type": "markdown",
   "metadata": {},
   "source": [
    "#### 🔪 Series Slice\n",
    "\n",
    "Create a boolean (`True`/`False`) list of values that meet a logical condition with operators:\n",
    "\n",
    "- `>`, `>=` - greater than, greater than or equal to\n",
    "- `<`, `<=` - less than, less than or equal to\n",
    "- `==`, `!=` - equal to, not equal to\n",
    "- `&`, `|` - and, or"
   ]
  },
  {
   "cell_type": "code",
   "execution_count": null,
   "metadata": {},
   "outputs": [],
   "source": [
    "y<1.0"
   ]
  },
  {
   "cell_type": "markdown",
   "metadata": {},
   "source": [
    "The boolan `Series` can be used to create a new `Series` with only the `True` values such as `y[y<1.0]` (retrieve the values less than 1.0)."
   ]
  },
  {
   "cell_type": "code",
   "execution_count": null,
   "metadata": {},
   "outputs": [],
   "source": [
    "y[y<1.0]"
   ]
  },
  {
   "cell_type": "markdown",
   "metadata": {},
   "source": [
    "Retrieve a slice of values by referencing the names as `y['Start':'End']`."
   ]
  },
  {
   "cell_type": "code",
   "execution_count": null,
   "metadata": {},
   "outputs": [],
   "source": [
    "y['Mercury':'Earth']"
   ]
  },
  {
   "cell_type": "markdown",
   "metadata": {},
   "source": [
    "The name or number index slice also includes a third parameter as a step size `[Start:End:Step]` such as taking every other value to create a new `Series`. A shorter way to take every other item is `y[::2]` as an empty reference implies beginning or final value."
   ]
  },
  {
   "cell_type": "code",
   "execution_count": null,
   "metadata": {},
   "outputs": [],
   "source": [
    "y[0:5:2]"
   ]
  },
  {
   "cell_type": "markdown",
   "metadata": {},
   "source": [
    "✅ **Knowledge Check:** Create a new `Series` with only the planets less than $0.5 \\mathrm{x} 10^{24}$ kg or greater than $5 \\mathrm{x} 10^{24}$ kg. Hint: use the `or` operator `|`."
   ]
  },
  {
   "cell_type": "code",
   "execution_count": null,
   "metadata": {},
   "outputs": [],
   "source": []
  },
  {
   "cell_type": "markdown",
   "metadata": {},
   "source": [
    "#### 📏 Length and Shape\n",
    "\n",
    "Find the length of a `Series` with `len(y)` or `y.size`."
   ]
  },
  {
   "cell_type": "code",
   "execution_count": null,
   "metadata": {},
   "outputs": [],
   "source": [
    "len(y)"
   ]
  },
  {
   "cell_type": "markdown",
   "metadata": {},
   "source": [
    "#### 📖 Convert Pandas Series to Dictionary\n",
    "\n",
    "A Pandas Series is similar to a Python dictionary. Use `.to_dict()` to convert to a dictionary."
   ]
  },
  {
   "cell_type": "code",
   "execution_count": null,
   "metadata": {},
   "outputs": [],
   "source": [
    "y.to_dict()"
   ]
  },
  {
   "cell_type": "markdown",
   "metadata": {},
   "source": [
    "#### 📇 Sorting\n",
    "\n",
    "Sort `Series` by index with `.sort_index()`."
   ]
  },
  {
   "cell_type": "code",
   "execution_count": null,
   "metadata": {},
   "outputs": [],
   "source": [
    "y.sort_index()"
   ]
  },
  {
   "cell_type": "markdown",
   "metadata": {},
   "source": [
    "Sort `Series` by values with `.sort_values()`. Use option `ascending=False` to reverse the order from highest to lowest."
   ]
  },
  {
   "cell_type": "code",
   "execution_count": null,
   "metadata": {},
   "outputs": [],
   "source": [
    "y.sort_values(ascending=False)"
   ]
  },
  {
   "cell_type": "markdown",
   "metadata": {},
   "source": [
    "The `.rank()` function creates a new `Series` with the rank in the list with `1-index`. If there is a tie then they share a mean rank such as `1, 2, 3.5, 3.5, 5` with a tie between items 3 and 4."
   ]
  },
  {
   "cell_type": "code",
   "execution_count": null,
   "metadata": {},
   "outputs": [],
   "source": [
    "y.rank(ascending=False)"
   ]
  },
  {
   "cell_type": "markdown",
   "metadata": {},
   "source": [
    "✅ **Knowledge Check:** Create a new `Series` with the 3 smallest solar system bodies in the list `y`."
   ]
  },
  {
   "cell_type": "code",
   "execution_count": null,
   "metadata": {},
   "outputs": [],
   "source": []
  },
  {
   "cell_type": "markdown",
   "metadata": {},
   "source": [
    "### 7️⃣.3️⃣ Pandas DataFrame\n",
    "\n",
    "A `DataFrame` is a table of values, similar to a spreadsheet table with index identifiers (rows) and column names (columns). It is possible to create a new `DataFrame` from a dictionary or by importing data from a file or database. Create a `DataFrame` from two lists `x` and `y`."
   ]
  },
  {
   "cell_type": "code",
   "execution_count": null,
   "metadata": {},
   "outputs": [],
   "source": [
    "x = [5,6,7,8,9]\n",
    "y = [4,3,2,1,0]\n",
    "df = pd.DataFrame({'x':x,'y':y})\n",
    "df"
   ]
  },
  {
   "cell_type": "markdown",
   "metadata": {},
   "source": [
    "<img width=200px align=left src='http://apmonitor.com/dde/uploads/Main/planets.png'>"
   ]
  },
  {
   "cell_type": "markdown",
   "metadata": {},
   "source": [
    "#### 💻 Import Data\n",
    "\n",
    "Use the `read_csv` to import data from a Comma Separated Value (CSV) file. The file can be stored locally on a computer or retrieved from an online source. "
   ]
  },
  {
   "cell_type": "code",
   "execution_count": null,
   "metadata": {},
   "outputs": [],
   "source": [
    "url = 'http://apmonitor.com/dde/uploads/Main/planets.csv'\n",
    "pl = pd.read_csv(url)\n",
    "pl"
   ]
  },
  {
   "cell_type": "markdown",
   "metadata": {},
   "source": [
    "Set the index (row label) of the table with `.set_index()`. The `inplace=True` option makes the change to the `DataFrame` with `pl.set_index('Property',inplace=True)`. Modifying the `DataFrame` in place avoids the assignment `pl = pl.set_index('Property')`."
   ]
  },
  {
   "cell_type": "code",
   "execution_count": null,
   "metadata": {},
   "outputs": [],
   "source": [
    "try:\n",
    "    pl.set_index('Property',inplace=True)\n",
    "except:\n",
    "    print('Property already set as index')\n",
    "pl.head(3)"
   ]
  },
  {
   "cell_type": "markdown",
   "metadata": {},
   "source": [
    "#### 🔃 Transpose Data\n",
    "\n",
    "Transpose the table with the `.T` operator."
   ]
  },
  {
   "cell_type": "code",
   "execution_count": null,
   "metadata": {},
   "outputs": [],
   "source": [
    "pl = pl.T\n",
    "pl"
   ]
  },
  {
   "cell_type": "markdown",
   "metadata": {},
   "source": [
    "#### 📜 Columns and Rows\n",
    "\n",
    "Give or change each of the columns names with `.columns`."
   ]
  },
  {
   "cell_type": "code",
   "execution_count": null,
   "metadata": {},
   "outputs": [],
   "source": [
    "pl.columns = ['Mass','Dia','Dens','Grav','DSun','OP','OV','T','P','Moons']\n",
    "pl.head(3)"
   ]
  },
  {
   "cell_type": "markdown",
   "metadata": {},
   "source": [
    "📛 Create a new column with `pl['New Column']`, where 'New Column' is any new column title."
   ]
  },
  {
   "cell_type": "code",
   "execution_count": null,
   "metadata": {},
   "outputs": [],
   "source": [
    "pl['New Column'] = 5\n",
    "pl.head(3)"
   ]
  },
  {
   "cell_type": "markdown",
   "metadata": {},
   "source": [
    "⭕ Rename a column with a dictionary of old and new names from a `DataFrame` df.\n",
    "\n",
    "```python\n",
    "df.rename(columns={'old_Name_1': 'new_Name_1', 'old_Name_2': 'new_Name_2'})\n",
    "```\n",
    "\n",
    "Use `inplace=True` to make the change without an assignment such as `pl = pl.rename(columns={'New Column': 'NC'})`."
   ]
  },
  {
   "cell_type": "code",
   "execution_count": null,
   "metadata": {},
   "outputs": [],
   "source": [
    "pl.rename(columns={'New Column': 'NC'}, inplace=True)\n",
    "pl.head(3)"
   ]
  },
  {
   "cell_type": "markdown",
   "metadata": {},
   "source": [
    "❌ Delete a column with the `del` command. Use a `try..except` to handle the error if the column name is not found."
   ]
  },
  {
   "cell_type": "code",
   "execution_count": null,
   "metadata": {},
   "outputs": [],
   "source": [
    "try:\n",
    "    del pl['NC']\n",
    "except:\n",
    "    print('NC not found')\n",
    "pl.head(3)"
   ]
  },
  {
   "cell_type": "markdown",
   "metadata": {},
   "source": [
    "✅ **Knowledge Check:** Compare the density of each planet from $\\rho = \\frac{Mass}{Volume}$ as an additional column **Dens Calc** in the table. The volume of a sphere is $V=\\frac{4}{3}\\pi r^3=\\frac{1}{6}\\pi d^3$. With unit conversions and simplifications, the formula to calculate density ($\\rho$) in $\\frac{kg}{m^3}$ is:\n",
    "\n",
    "$\\rho = \\frac{6\\mathrm{x}10^{15}}{\\pi} \\frac{Mass}{Dia^3}$\n",
    "\n",
    "Why is the calculated density different than **Dens** values? "
   ]
  },
  {
   "cell_type": "code",
   "execution_count": null,
   "metadata": {},
   "outputs": [],
   "source": []
  },
  {
   "cell_type": "markdown",
   "metadata": {},
   "source": [
    "#### 🔍 Inspect Data\n",
    "\n",
    "The data used in this example is small. For big data, use `.head()`, `.tail()`, and `.sample()` to inspect the beginning, end, and a random sample of the rows. Use a number to change the default number of rows to display such as `.tail(2)` to display the bottom 2 rows."
   ]
  },
  {
   "cell_type": "code",
   "execution_count": null,
   "metadata": {},
   "outputs": [],
   "source": [
    "pl.head()"
   ]
  },
  {
   "cell_type": "code",
   "execution_count": null,
   "metadata": {},
   "outputs": [],
   "source": [
    "pl.tail(2)"
   ]
  },
  {
   "cell_type": "markdown",
   "metadata": {},
   "source": [
    "✅ **Knowledge Check:** Display 3 random rows from the planet data `pl`."
   ]
  },
  {
   "cell_type": "code",
   "execution_count": null,
   "metadata": {},
   "outputs": [],
   "source": []
  },
  {
   "cell_type": "markdown",
   "metadata": {},
   "source": [
    "#### 🧹 Data Cleansing\n",
    "\n",
    "Data cleansing is an import step to ensure that\n",
    "\n",
    "- missing numbers are handled correctly\n",
    "- data-informed decisions are not skewed by outliers\n",
    "- duplicate data is removed\n",
    "- incorrect data is identified\n",
    "\n",
    "Once bad data is identified, it needs to be removed. There are many methods to investigate and remove bad data. Removing data may be entire rows, columns, or specific values. Remove a row with `.drop` and the row name, such as `pl.drop('Pluto')`."
   ]
  },
  {
   "cell_type": "code",
   "execution_count": null,
   "metadata": {},
   "outputs": [],
   "source": [
    "try:\n",
    "    pl.drop('Pluto',inplace=True)\n",
    "except:\n",
    "    print('Row Pluto not found')\n",
    "pl.head(3)"
   ]
  },
  {
   "cell_type": "markdown",
   "metadata": {},
   "source": [
    "🖍 In addition to `del`, another way to remove a column is with `.drop(axis=1)` to search over the column names such as with `.drop('Dia',axis=1)`."
   ]
  },
  {
   "cell_type": "code",
   "execution_count": null,
   "metadata": {},
   "outputs": [],
   "source": [
    "try:\n",
    "    pl.drop('Dia',axis=1,inplace=True)\n",
    "except:\n",
    "    print('Column Dia not found')\n",
    "pl.head(3)"
   ]
  },
  {
   "cell_type": "markdown",
   "metadata": {},
   "source": [
    "Another decision is how to handle missing values. Rows with missing data can be dropped with `.dropna()` or values can be filled in with `fillna()`. The `Pressure (bars)` is missing values for the gas planets with `NaN` (Not a Number) because there is no defined surface. Use `pl.dropna()` to remove rows with `NaN`."
   ]
  },
  {
   "cell_type": "code",
   "execution_count": null,
   "metadata": {},
   "outputs": [],
   "source": [
    "pl.dropna()"
   ]
  },
  {
   "cell_type": "markdown",
   "metadata": {},
   "source": [
    "✅ **Knowledge Check:** Instead of removing rows with `dropna()`, replace `NaN` with `0`."
   ]
  },
  {
   "cell_type": "code",
   "execution_count": null,
   "metadata": {},
   "outputs": [],
   "source": []
  },
  {
   "cell_type": "markdown",
   "metadata": {},
   "source": [
    "### 7️⃣.4️⃣ DataFrame Analytics\n",
    "\n",
    "Analytics reveals characteristics of data to make sense of what data is collected and how to use that data to gain insights. Data analystics is the process of taking raw data to extract insights and trends. Summary statistics are a good place to start with the `.describe` function. The `describe` function returns a `DataFrame` with:\n",
    "\n",
    "- `count`: number of rows\n",
    "- `mean`: average column value\n",
    "- `std`: standard deviation (measure of the variability)\n",
    "- `min`: minimum value\n",
    "- `25%`: first quartile\n",
    "- `50%`: second quartile, median value\n",
    "- `75%`: third quartile\n",
    "- `max`: maximum value"
   ]
  },
  {
   "cell_type": "code",
   "execution_count": null,
   "metadata": {},
   "outputs": [],
   "source": [
    "pl.describe()"
   ]
  },
  {
   "cell_type": "markdown",
   "metadata": {},
   "source": [
    "#### 🧮 Additional Statistics\n",
    "\n",
    "Additional information is available with functions such as `.mean`, `.median`, `.max`, `.min`, `.skew`, and `.kurtosis`. The functions return a new `DataFrame` with the statistical information."
   ]
  },
  {
   "cell_type": "code",
   "execution_count": null,
   "metadata": {},
   "outputs": [],
   "source": [
    "pl.mean()"
   ]
  },
  {
   "cell_type": "markdown",
   "metadata": {},
   "source": [
    "The default `axis=0` computes the summary statistic over each column. To calculate for each row, use `axis=1` as an argument to the function."
   ]
  },
  {
   "cell_type": "code",
   "execution_count": null,
   "metadata": {},
   "outputs": [],
   "source": [
    "pl.mean(axis=1)"
   ]
  },
  {
   "cell_type": "markdown",
   "metadata": {},
   "source": [
    "#### 🐼 Pandas Profiling\n",
    "\n",
    "Pandas Profiling generates more detailed analysis than the pandas describe function. It produces an overview of data with only a couple lines of code. Use `minimial=True` to avoid running the correlation plots that take a long time with large data sets. Run the code to generate the profile of the data. Explore the data to determine the relationships between the variables."
   ]
  },
  {
   "cell_type": "code",
   "execution_count": null,
   "metadata": {},
   "outputs": [],
   "source": [
    "from pandas_profiling import ProfileReport\n",
    "profile = ProfileReport(pl, explorative=True, minimal=False)\n",
    "profile.to_notebook_iframe()"
   ]
  },
  {
   "cell_type": "markdown",
   "metadata": {},
   "source": [
    "✅ **Knowledge Check:** The mean density of rocky planets is `pl['Dens'].loc['Mercury':'Mars'].mean()`. Calculate the density of rocky (Mercury-Mars) and gaseous (Jupiter-Neptune) planets."
   ]
  },
  {
   "cell_type": "code",
   "execution_count": null,
   "metadata": {},
   "outputs": [],
   "source": []
  },
  {
   "cell_type": "markdown",
   "metadata": {},
   "source": [
    "### 7️⃣.4️⃣ DataFrame Vizualization\n",
    "\n",
    "Visualization communicates data trends by summarizing data graphically. It is a representation of information in the form of a plot, chart, or diagram. Visualization conveys meaning by showing a distribution, correlation, or directional trend. Use `.plot` to create a line plot of the data. The x-labels, y-yabels, and legend are automatically generated from the `DataFrame` information. "
   ]
  },
  {
   "cell_type": "code",
   "execution_count": null,
   "metadata": {},
   "outputs": [],
   "source": [
    "pl.plot()"
   ]
  },
  {
   "cell_type": "markdown",
   "metadata": {},
   "source": [
    "#### 📈 Customize Plots\n",
    "\n",
    "The plots can be adjusted to better show the information. It is typical to display each column as a separate subplot with a separate box. Options include:\n",
    "\n",
    "- `figsize` - figure size\n",
    "- `subplots` - display each column as a separate trend\n",
    "- `grid` - display grid lines\n",
    "- `layout` - subplot layout in rows x columns\n",
    "\n",
    "Pandas uses `matplotlib` as the default backend for displaying the plots. Use `pass` in a Jupyter notebook to not display the plot object name."
   ]
  },
  {
   "cell_type": "code",
   "execution_count": null,
   "metadata": {},
   "outputs": [],
   "source": [
    "pl.plot(figsize=(12,6),subplots=True,grid=True,layout=(5,2))\n",
    "pass"
   ]
  },
  {
   "cell_type": "markdown",
   "metadata": {},
   "source": [
    "🔨 The optional parameter `kind` is the type of plot with the default as `line`.\n",
    "\n",
    "* `line` : line plot (default)\n",
    "* `bar` : vertical bar plot\n",
    "* `barh` : horizontal bar plot\n",
    "* `hist` : histogram\n",
    "* `box` : boxplot\n",
    "* `kde` / `density`  : Kernel Density Estimation plot\n",
    "* `area` : area plot\n",
    "* `pie` : pie plot\n",
    "* `scatter` : scatter plot\n",
    "* `hexbin` : hexbin plot\n",
    "\n",
    "A sample of the types of plots are shown below with `Grav` (Surface Gravity) for each planet."
   ]
  },
  {
   "cell_type": "code",
   "execution_count": null,
   "metadata": {},
   "outputs": [],
   "source": [
    "import matplotlib.pyplot as plt\n",
    "t = ['barh','hist','box','kde','area','pie']\n",
    "plt.figure(figsize=(12,8))\n",
    "for i,ti in enumerate(t):\n",
    "    ax = plt.subplot(5,2,i+1)\n",
    "    pl['Grav'].plot(kind=ti,ax=ax)"
   ]
  },
  {
   "cell_type": "markdown",
   "metadata": {},
   "source": [
    "✅ **Knowledge Check:** Create a bar chart (`kind='bar'`) of the planet `Mass` that has a log-scale y-axis (`logy=True`) to see the mass of the smaller rocky planets relative to the larger gas planets."
   ]
  },
  {
   "cell_type": "code",
   "execution_count": null,
   "metadata": {},
   "outputs": [],
   "source": []
  },
  {
   "cell_type": "markdown",
   "metadata": {},
   "source": [
    "### 7️⃣.6️⃣ DataFrame Export\n",
    "\n",
    "There are many options to export a `DataFrame` including a data file, database, clipboard, or web-page. Some of the options to export data are for computers to efficiently transform or store the data.\n",
    "\n",
    "```\n",
    "pl.to_dict() - to a Python dictionary\n",
    "pl.to_excel() - to Excel spreadsheet\n",
    "pl.to_feather() - to binary Feather format for fast and compact storage\n",
    "pl.to_gbq() - to Google BigQuery\n",
    "pl.to_hdf() - to an HDF5 (Hierarchical Data Format) file\n",
    "pl.to_json() - to a JSON file (JavaScript Object Notation)\n",
    "pl.to_parquet() - to Parquet for compact data storage in Apache Hadoop\n",
    "pl.to_pickle() - to Pickle file to store Python objects\n",
    "pl.to_records() - to a NumPy record array\n",
    "pl.to_sql() - to SQL database\n",
    "pl.to_stata() - to Stata dta format\n",
    "```\n",
    "\n",
    "As an example, export `pl` to a Python dictionary."
   ]
  },
  {
   "cell_type": "code",
   "execution_count": null,
   "metadata": {},
   "outputs": [],
   "source": [
    "pdict = pl.to_dict()\n",
    "print(pdict['Mass'])"
   ]
  },
  {
   "cell_type": "markdown",
   "metadata": {},
   "source": [
    "#### 🗒 Human Readable Text\n",
    "\n",
    "Other export options are intended as human-readable forms.\n",
    "\n",
    "```\n",
    "pl.to_clipboard() - to the computer clipboard\n",
    "pl.to_csv() - to a Comma Separated Value (CSV) text file\n",
    "pl.to_html() - to an HTML file (web-page)\n",
    "pl.to_latex() - to LaTeX as a high-quality typesetting system\n",
    "pl.to_markdown() - to Markdown for creating formatted text\n",
    "pl.to_string() - to a console-friendly tabular output\n",
    "```\n",
    "\n",
    "Converting `Mass` to a string reveals a table with new-line `\\n` characters."
   ]
  },
  {
   "cell_type": "code",
   "execution_count": null,
   "metadata": {},
   "outputs": [],
   "source": [
    "pl['Mass'].to_string()"
   ]
  },
  {
   "cell_type": "markdown",
   "metadata": {},
   "source": [
    "✅ **Knowledge Check:** Export `pl` to an Excel file named `planets.xlsx`. Open the file with a spreadsheet application to verify that the table is exported successfully. The file is stored in the current working directory. Use `os.getcwd()` to show the current working directory.\n",
    "\n",
    "```python\n",
    "import os\n",
    "print(os.getcwd())\n",
    "```"
   ]
  },
  {
   "cell_type": "code",
   "execution_count": null,
   "metadata": {},
   "outputs": [],
   "source": []
  }
 ],
 "metadata": {
  "kernelspec": {
   "display_name": "Python 3",
   "language": "python",
   "name": "python3"
  },
  "language_info": {
   "codemirror_mode": {
    "name": "ipython",
    "version": 3
   },
   "file_extension": ".py",
   "mimetype": "text/x-python",
   "name": "python",
   "nbconvert_exporter": "python",
   "pygments_lexer": "ipython3",
   "version": "3.8.5"
  }
 },
 "nbformat": 4,
 "nbformat_minor": 4
}
