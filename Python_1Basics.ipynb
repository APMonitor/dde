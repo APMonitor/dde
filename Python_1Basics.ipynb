{
 "cells": [
  {
   "cell_type": "markdown",
   "metadata": {},
   "source": [
    "### 👩‍💻 📚 [Python for Data-Driven Engineering](https://apmonitor.com/dde/index.php/Main/PythonOverview)\n",
    "\n",
    "<img width=550px align=left src='https://apmonitor.com/dde/uploads/Main/Python_1Basics.png'>"
   ]
  },
  {
   "cell_type": "markdown",
   "metadata": {},
   "source": [
    "Data-driven engineering relies on information, often stored in the form of characters (strings) and numbers (integers and floating point numbers). It is essential to import, export, and get data into the correct form so that information can be extracted. [This series](https://apmonitor.com/dde/index.php/Main/PythonOverview) includes an introduction to Python Basics as foundational elements.\n",
    "\n",
    "<html>\n",
    "<ul>\n",
    "    <li> 1️⃣ <a href='https://apmonitor.com/dde/index.php/Main/PythonBasics'>Python Basics</a>\n",
    "</ul>\n",
    "</html>\n",
    "\n",
    "Elements are stored in collections as `tuples` and `lists`.\n",
    "\n",
    "<html>\n",
    "<ul>\n",
    "    <li> 2️⃣ <a href='https://apmonitor.com/dde/index.php/Main/PythonTuple'>Python Tuple</a>\n",
    "    <li> 3️⃣ <a href='https://apmonitor.com/dde/index.php/Main/PythonList'>Python List</a>\n",
    "</ul>\n",
    "</html>\n",
    "\n",
    "The `set` and `dict` (dictionary) types cover the remaining two types of collections. \n",
    "\n",
    "<html>\n",
    "<ul>\n",
    "    <li> 4️⃣ <a href='https://apmonitor.com/dde/index.php/Main/PythonSet'>Python Set</a>\n",
    "    <li> 5️⃣ <a href='https://apmonitor.com/dde/index.php/Main/PythonDictionary'>Python Dictionary</a>\n",
    "</ul>\n",
    "</html>\n",
    "    \n",
    "Each collection of information has a specific purpose.\n",
    "\n",
    "* Tuple (e.g. `(i,x,e)`) - does not change, efficient storage, iterable\n",
    "* List (e.g. `[i,x,e]`) - add elements, remove elements, sort, iterable\n",
    "* Set (e.g. `{i,x,e}`) - similar to list but not sorted and no duplicate values\n",
    "* Dictionary (e.g. `{'i':i,'x':x,'e':e}`) - reference value based on key\n",
    "\n",
    "Two additional topics cover foundational packages in Python. 6️⃣ <a href='https://apmonitor.com/dde/index.php/Main/PythonNumpy'>Numpy</a> expands upon the basic Python functions to create an array. Matrix and vector operations are designed as a foundation for numerical calculations. 7️⃣ <a href='https://apmonitor.com/dde/index.php/Main/PythonPandas'>Pandas</a> reads, cleanses, calculates, rearranges, and exports data. It is a library for working with data with common high-level functions that simplify the processing steps of analytics and informatics."
   ]
  },
  {
   "cell_type": "markdown",
   "metadata": {},
   "source": [
    "### 1️⃣ 📕 Python Basics\n",
    "\n",
    "Python numbers can be stored as a boolean `bool` (0=False, 1=True), integer `int`, a floating point number `float`, or as a string `str`. A variable name cannot start with a number, has no spaces (use '_' instead), and does not contain a special symbols (' \" , < > / ? | \\ ( ) ! @ # $ % ^ & * ~ - +). Avoid using reserved Python keywords as variable names: `and` `assert` `break` `class` `continue` `def` `del` `elif` `else` `except` `exec` `finally` `for` `from` `global` `if` `import` `in` `is` `lambda` `not` `or` `pass` `print` `raise` `return` `try` `while`. Use the `type()` function to determine the object type. Run each cell with shortcut `Shift-Enter`. "
   ]
  },
  {
   "cell_type": "code",
   "execution_count": null,
   "metadata": {},
   "outputs": [],
   "source": [
    "b = True\n",
    "type(b)"
   ]
  },
  {
   "cell_type": "code",
   "execution_count": null,
   "metadata": {},
   "outputs": [],
   "source": [
    "i = 1\n",
    "type(i)"
   ]
  },
  {
   "cell_type": "markdown",
   "metadata": {},
   "source": [
    "Multiple numbers can be assigned with a single line."
   ]
  },
  {
   "cell_type": "code",
   "execution_count": null,
   "metadata": {},
   "outputs": [],
   "source": [
    "x,e = 2.7,3.8e3\n",
    "print(type(x),type(e))"
   ]
  },
  {
   "cell_type": "markdown",
   "metadata": {},
   "source": [
    "Numbers can also be stored as a string. A string can be created with single `'string'` or double quotes `\"string\"`. Enclose a string in double quotes if a single quote is in the string such as `\"I'm learning Python\"`."
   ]
  },
  {
   "cell_type": "code",
   "execution_count": null,
   "metadata": {},
   "outputs": [],
   "source": [
    "s = '4.9'\n",
    "type(s)"
   ]
  },
  {
   "cell_type": "markdown",
   "metadata": {},
   "source": [
    "#### ⚙ Operators\n",
    "\n",
    "- `+` `-` `*` `/` addition, subtraction, multiplication, division\n",
    "- `%` modulo (remainder after division)\n",
    "- `//` floor division (discard the fraction, no rounding)\n",
    "- `**` exponential"
   ]
  },
  {
   "cell_type": "code",
   "execution_count": null,
   "metadata": {},
   "outputs": [],
   "source": [
    "print(5/2,5%2,5//2,5**2)"
   ]
  },
  {
   "cell_type": "markdown",
   "metadata": {},
   "source": [
    "#### 🧭 Comparison Operators\n",
    "\n",
    "- `>` greater than, `>=` or equal to\n",
    "- `<` less than, `<=` or equal to\n",
    "- `==` equal to (notice the double equal sign, single assigns a value)\n",
    "- `!=` or `<>` not equal to\n",
    "\n"
   ]
  },
  {
   "cell_type": "code",
   "execution_count": null,
   "metadata": {},
   "outputs": [],
   "source": [
    "print(5>2,5<2,5==2,5!=2)"
   ]
  },
  {
   "cell_type": "markdown",
   "metadata": {},
   "source": [
    "Chained comparisons `5>3>1` can be used as an alternative to `5>3 and 3>1`. Use the `\\` character to continue onto the next line."
   ]
  },
  {
   "cell_type": "code",
   "execution_count": null,
   "metadata": {},
   "outputs": [],
   "source": [
    "print(5>3>1, \\\n",
    "      5>3 and 3>1)"
   ]
  },
  {
   "cell_type": "markdown",
   "metadata": {},
   "source": [
    "#### ↔ Conditional Statement\n",
    "\n",
    "Use an `if` statement to choose code flow based on a `True` or `False` result. Indentation (whitespace) is important in Python to indicate which lines belong to the `if`, `elif` (else if), or `else` conditions."
   ]
  },
  {
   "cell_type": "code",
   "execution_count": null,
   "metadata": {},
   "outputs": [],
   "source": [
    "if x>3:\n",
    "    print('x>3')\n",
    "elif x==3:\n",
    "    print('x==3')\n",
    "else:\n",
    "    print('x<3')\n",
    "print(x)"
   ]
  },
  {
   "cell_type": "markdown",
   "metadata": {},
   "source": [
    "#### ➰ For Loop\n",
    "\n",
    "Two loop options are `for` and `while`. A `for` loop is used when the number of iterations is known. Use the `range(n)` function to iterate `n` times through a `for` loop."
   ]
  },
  {
   "cell_type": "code",
   "execution_count": null,
   "metadata": {},
   "outputs": [],
   "source": [
    "for i in range(3):\n",
    "    print(i)"
   ]
  },
  {
   "cell_type": "markdown",
   "metadata": {},
   "source": [
    "The `range` function can be used with 1-3 inputs:\n",
    "\n",
    "- `range(n)` - iterate `n` times\n",
    "- `range(start,stop)` - iterate between `start` and `stop-1`\n",
    "- `range(start,stop,step)` - iterate between `start` and `stop-1` with increment `step`"
   ]
  },
  {
   "cell_type": "code",
   "execution_count": null,
   "metadata": {},
   "outputs": [],
   "source": [
    "for i in range(1,6,2):\n",
    "    print(i)"
   ]
  },
  {
   "cell_type": "markdown",
   "metadata": {},
   "source": [
    "#### ➿ While Loop\n",
    "\n",
    "A `while` loop continues until the condition is `False`. A `while` loop is used when the number of cycles is not known until the looping starts. The `break` and `continue` statements control the flow in a `while` loop."
   ]
  },
  {
   "cell_type": "code",
   "execution_count": null,
   "metadata": {},
   "outputs": [],
   "source": [
    "i=1\n",
    "while i<=5:\n",
    "    print(i)\n",
    "    i+=2"
   ]
  },
  {
   "cell_type": "markdown",
   "metadata": {},
   "source": [
    "Simulate rolling a 6-sided die 🎲 by selecting a random number between 1 and 6. Continue until a 3 is rolled. The `import random` statement makes the `randint()` function available to generate the random integer number between 1 and 6."
   ]
  },
  {
   "cell_type": "code",
   "execution_count": null,
   "metadata": {},
   "outputs": [],
   "source": [
    "import random\n",
    "i = None\n",
    "while i!=3:\n",
    "    i = random.randint(1,6)\n",
    "    print(i)"
   ]
  },
  {
   "cell_type": "markdown",
   "metadata": {},
   "source": [
    "#### 📝 Print Numbers\n",
    "\n",
    "Display a number with the `print()` function."
   ]
  },
  {
   "cell_type": "code",
   "execution_count": null,
   "metadata": {},
   "outputs": [],
   "source": [
    "print(x)"
   ]
  },
  {
   "cell_type": "markdown",
   "metadata": {},
   "source": [
    "Formatted output controls the way the number is displayed. Display `Number: 11400.00` with `f'Number: {3*e:f8.2}'`."
   ]
  },
  {
   "cell_type": "code",
   "execution_count": null,
   "metadata": {},
   "outputs": [],
   "source": [
    "f'Number: {3*x:8.2f}'"
   ]
  },
  {
   "cell_type": "markdown",
   "metadata": {},
   "source": [
    "Other common format specifiers include:\n",
    "\n",
    "* `d`: signed integer\n",
    "* `e` or `E`: floating point exponential format (`e`=lowercase, `E`=uppercase)\n",
    "* `f` or `F`: floating point decimal format\n",
    "* `g` or `G`: same as `e/E` if exponent is >=6 or <=-4, `f` otherwise\n",
    "* `s`: string\n",
    "\n",
    "The first number `8` indicates how many total spaces in the final string that represents the number. The `.2` indicates how many decimal places are displayed. Leave off the `8` to include two decimals with the minimum number of spaces to represent the number (no blanks) with `{3*e:.2f}`. Strings with extra spaces can be left aligned `<` or right aligned `>`. The formatted output of `x` with 10 spaces is `f'{x:>10}'`."
   ]
  },
  {
   "cell_type": "code",
   "execution_count": null,
   "metadata": {},
   "outputs": [],
   "source": [
    "f'{x:>10}'"
   ]
  },
  {
   "cell_type": "markdown",
   "metadata": {},
   "source": [
    "Display 4 decimal places in exponential form with `f'{x:.4e}'`."
   ]
  },
  {
   "cell_type": "code",
   "execution_count": null,
   "metadata": {},
   "outputs": [],
   "source": [
    "f'{x:.4e}'"
   ]
  },
  {
   "cell_type": "markdown",
   "metadata": {},
   "source": [
    "#### 💡 Convert Between Types\n",
    "\n",
    "Use functions to convert between types:\n",
    "\n",
    "* `int()` - convert to an integer (no range limits, no decimal)\n",
    "* `float()` - convert to a floating point number (no range limits, includes decimal)\n",
    "* `str()` - convert to a string (characters, not stored as a number)\n",
    "* `bin()` or `hex()` - convert to binary or hexadecimal form (string) \n",
    "\n",
    "Python automatically switches from 64-bit to long integer when an integer is greater than `9223372036854775807` (`2**63 - 1`). Python variables are mutable. Mutable means that the type can change and does not need to be declared before first use. Converting from a `float` to an `int` truncates the decimal from `2.7` (`float`) to `2` (`int`)."
   ]
  },
  {
   "cell_type": "code",
   "execution_count": null,
   "metadata": {},
   "outputs": [],
   "source": [
    "int(x)"
   ]
  },
  {
   "cell_type": "markdown",
   "metadata": {},
   "source": [
    "Convert `x=2.7` to `int` before converting to binary (base-2) with `bin()`."
   ]
  },
  {
   "cell_type": "code",
   "execution_count": null,
   "metadata": {},
   "outputs": [],
   "source": [
    "bin(int(x))"
   ]
  },
  {
   "cell_type": "markdown",
   "metadata": {},
   "source": [
    "Convert `x=2.7` to `int` before converting to hexadecimal (base-16) with `hex()`."
   ]
  },
  {
   "cell_type": "code",
   "execution_count": null,
   "metadata": {},
   "outputs": [],
   "source": [
    "hex(int(x))"
   ]
  },
  {
   "cell_type": "markdown",
   "metadata": {},
   "source": [
    "Use `round()` to get the nearest integer `3` instead of truncating to `2`."
   ]
  },
  {
   "cell_type": "code",
   "execution_count": null,
   "metadata": {},
   "outputs": [],
   "source": [
    "round(x)"
   ]
  },
  {
   "cell_type": "markdown",
   "metadata": {},
   "source": [
    "Adding two string numbers concatenates the two as `'1' + '4.9' = '14.9'`"
   ]
  },
  {
   "cell_type": "code",
   "execution_count": null,
   "metadata": {},
   "outputs": [],
   "source": [
    "str(i)+s"
   ]
  },
  {
   "cell_type": "markdown",
   "metadata": {},
   "source": [
    "Convert the string to a float before adding to get `1 + 4.9 =  5.9`. Use `s=float(s)` to change the class type of `s` to a float in later cells as well. To change the class type back to a string, use `s=str(s)`. In this case, the `i+float(s)` changes `s` to a float only during the operation."
   ]
  },
  {
   "cell_type": "code",
   "execution_count": null,
   "metadata": {},
   "outputs": [],
   "source": [
    "i + float(s)"
   ]
  },
  {
   "cell_type": "markdown",
   "metadata": {},
   "source": [
    "#### 🩹 Try and Except\n",
    "\n",
    "The error engine stops the code and reports fatal errors. To customize how to handle errors:\n",
    "\n",
    "```python\n",
    "try:\n",
    "    # try this code\n",
    "except Exception:\n",
    "    # with a particular exception\n",
    "except:\n",
    "    # catch everything else\n",
    "else:\n",
    "    # do this if there is no exception\n",
    "finally:\n",
    "    # always run this section at the end\n",
    "```\n",
    "\n",
    "The `try` and `except` is an easy way to prevent code from stopping but can mask errors, especially during early development phases when errors are needed to find sytax or logical problems with the code."
   ]
  },
  {
   "cell_type": "code",
   "execution_count": null,
   "metadata": {},
   "outputs": [],
   "source": [
    "try:\n",
    "    x=2/0\n",
    "except ZeroDivisionError as e:\n",
    "    print(e)\n",
    "    # return Infinity\n",
    "    import numpy\n",
    "    x = numpy.Inf\n",
    "print('x: ',x)"
   ]
  },
  {
   "cell_type": "markdown",
   "metadata": {},
   "source": [
    "#### 🖊 Input Function\n",
    "\n",
    "A program can be interactive with the `input()` function to request a value from the user. The value is returned as a string and should be converted to a number with `float()` or `int()`, depending on the anticipated entry. Try using the `input()` function."
   ]
  },
  {
   "cell_type": "code",
   "execution_count": null,
   "metadata": {},
   "outputs": [],
   "source": []
  },
  {
   "cell_type": "markdown",
   "metadata": {},
   "source": [
    "#### 🧶 String Methods\n",
    "\n",
    "Built-in string methods include:\n",
    "\n",
    "- `upper` - convert to uppercase\n",
    "- `lower` - convert to lowercase\n",
    "- `find`  - find index position of first occurance of character or string\n",
    "- `replace` - replace string\n",
    "- `split` - split sentence into a list of words\n",
    "\n",
    "Use `dir(n)` to find other string methods. Replace `'Your Name'` with your name."
   ]
  },
  {
   "cell_type": "code",
   "execution_count": null,
   "metadata": {},
   "outputs": [],
   "source": [
    "n = 'Name'\n",
    "# replace 'Your Name' with your name\n",
    "n = n.replace('Name','Your Name') \n",
    "print(n.lower(), n.upper())"
   ]
  },
  {
   "cell_type": "markdown",
   "metadata": {},
   "source": [
    "#### ⏱ Time\n",
    "\n",
    "Use the `time` package to get the number of seconds since `1 January 1970`. This is a reference time that most computer time packages use."
   ]
  },
  {
   "cell_type": "code",
   "execution_count": null,
   "metadata": {},
   "outputs": [],
   "source": [
    "import time\n",
    "time.time()"
   ]
  },
  {
   "cell_type": "markdown",
   "metadata": {},
   "source": [
    "⏳ The difference in seconds `end-start` tracks elapsed clock time.\n",
    "\n",
    "😴 The `sleep` function pauses for a certain amount of time with `time.sleep(1)` for 1 second. The elapsed time is more than `1.0000` because the `time.time()` function takes a small amount of time to run."
   ]
  },
  {
   "cell_type": "code",
   "execution_count": null,
   "metadata": {},
   "outputs": [],
   "source": [
    "start = time.time()\n",
    "time.sleep(1)\n",
    "end = time.time()\n",
    "print('Elapsed time: ', end-start)"
   ]
  },
  {
   "cell_type": "markdown",
   "metadata": {},
   "source": [
    "#### 📅 Date\n",
    "\n",
    "The `datetime` is another module to process dates and times. Change the `date` to a personally memorable date such as a birthdate."
   ]
  },
  {
   "cell_type": "code",
   "execution_count": null,
   "metadata": {},
   "outputs": [],
   "source": [
    "date = '1997-05-11 11:05:23'"
   ]
  },
  {
   "cell_type": "markdown",
   "metadata": {},
   "source": [
    "🗓 Convert the string to a `datetime` object with either `strptime` or `fromisoformat` if the date is in the standard format `YYYY-MM-DD HH:MM:SS`."
   ]
  },
  {
   "cell_type": "code",
   "execution_count": null,
   "metadata": {},
   "outputs": [],
   "source": [
    "from datetime import datetime\n",
    "dt = datetime.fromisoformat(date)\n",
    "dt"
   ]
  },
  {
   "cell_type": "markdown",
   "metadata": {},
   "source": [
    "⌚ Use the `now()` function to get the current `datetime` as `tm = datetime.now()`. Show the current `datetime` with:\n",
    "\n",
    "- `tm.ctime()` - readable format (e.g. `Sat Jun 25 17:12:52 2022`)\n",
    "- `str(tm)` - standard format (e.g. `2022-06-25 17:12:52.536004`)"
   ]
  },
  {
   "cell_type": "code",
   "execution_count": null,
   "metadata": {},
   "outputs": [],
   "source": [
    "tm = datetime.now()\n",
    "print(tm.ctime())\n",
    "str(tm)"
   ]
  },
  {
   "cell_type": "markdown",
   "metadata": {},
   "source": [
    "🕑 Elements of the datetime are unpacked with:\n",
    "\n",
    "- `tm.year` - year (4 digits)\n",
    "- `tm.month` - month (1-12)\n",
    "- `tm.day` - day (1-31)\n",
    "- `tm.hour` - hour (0-23)\n",
    "- `tm.minute` - minute (0-59)\n",
    "- `tm.second` - second (0-59)"
   ]
  },
  {
   "cell_type": "markdown",
   "metadata": {},
   "source": [
    "🕓-🕒 Calculate elapsed time as a difference `diff=tm-dt` or convert to elapsed seconds with `diff.total_seconds()`."
   ]
  },
  {
   "cell_type": "code",
   "execution_count": null,
   "metadata": {},
   "outputs": [],
   "source": [
    "diff = tm - dt\n",
    "print(diff)\n",
    "print(diff.total_seconds())"
   ]
  },
  {
   "cell_type": "markdown",
   "metadata": {},
   "source": [
    "#### 🔦 Functions\n",
    "\n",
    "Two function definitions are:\n",
    "\n",
    "- `lambda` - simple one-line functions\n",
    "- `def` - code block with input(s) and output(s)\n",
    "\n",
    "The lambda function is for coding simple one-line expressions. It is especially useful in combination with `map()`, `filter()`, and `reduce()` functions. The lambda function `f(x)` returns `x**2+1`. A `for` loop evaluates the function for values `[0,1,2,3]`."
   ]
  },
  {
   "cell_type": "code",
   "execution_count": null,
   "metadata": {
    "scrolled": true
   },
   "outputs": [],
   "source": [
    "f = lambda x: x**2+1\n",
    "for i in range(3):\n",
    "    print(i,f(i))"
   ]
  },
  {
   "cell_type": "markdown",
   "metadata": {},
   "source": [
    "Alternatively, use the `def` statement to define the `f(x)` function with the same result."
   ]
  },
  {
   "cell_type": "code",
   "execution_count": null,
   "metadata": {},
   "outputs": [],
   "source": [
    "def f(x):\n",
    "    return x**2+1\n",
    "for i in range(3):\n",
    "    print(i,f(i))"
   ]
  },
  {
   "cell_type": "markdown",
   "metadata": {},
   "source": [
    "Multiple inputs and outputs are possible with optional arguments with default (`=1`) values."
   ]
  },
  {
   "cell_type": "code",
   "execution_count": null,
   "metadata": {},
   "outputs": [],
   "source": [
    "def g(x,y=1):\n",
    "    return x*y\n",
    "print(g(2),g(2,5))"
   ]
  },
  {
   "cell_type": "markdown",
   "metadata": {},
   "source": [
    "#### ❓Get Help\n",
    "\n",
    "Use the `help()` function to access a description of the method or object. Jupyter Notebooks display help with `Shift-Tab`. Use websites such as [Stack Overflow](https://stackoverflow.com/search?q=) to find answers related error messages."
   ]
  },
  {
   "cell_type": "code",
   "execution_count": null,
   "metadata": {},
   "outputs": [],
   "source": [
    "help(s.lower)"
   ]
  },
  {
   "cell_type": "markdown",
   "metadata": {},
   "source": [
    "#### 💻 Exercise 1A\n",
    "\n",
    "Change the type of `s` to a floating point number with `s = float(s)`. Verify that `s` is a floating point number with `print(s)` and `type(s)`."
   ]
  },
  {
   "cell_type": "code",
   "execution_count": null,
   "metadata": {},
   "outputs": [],
   "source": []
  },
  {
   "cell_type": "markdown",
   "metadata": {},
   "source": [
    "#### 💻 Exercise 1B\n",
    "\n",
    "Ask the user to input an integer with the `input()` function. Check that the input number is an integer. The `try` section of the code attempts to convert to a floating point number. The `if` statement checks if the `float` number is an integer value. If all conditions are successfully met, the integer is printed. Try using this code (Copy-Paste).\n",
    "\n",
    "```python\n",
    "r = input('Input an integer (1-10): ')\n",
    "try:\n",
    "    if not float(r).is_integer():\n",
    "        print('Not an integer') \n",
    "    else:\n",
    "        print('Input Integer: ' + r)\n",
    "except:\n",
    "    print('Could not convert input (', r, ') to a number')\n",
    "```\n",
    "\n",
    "Use the sample code and test with inputs `1.x`, `0`, `3`. Add a check and an error message if the integer value is outside the range (1-10). Use the code above and modify it to produce an error message if not an integer or outside the range 1-10."
   ]
  },
  {
   "cell_type": "code",
   "execution_count": null,
   "metadata": {},
   "outputs": [],
   "source": []
  }
 ],
 "metadata": {
  "kernelspec": {
   "display_name": "Python 3",
   "language": "python",
   "name": "python3"
  },
  "language_info": {
   "codemirror_mode": {
    "name": "ipython",
    "version": 3
   },
   "file_extension": ".py",
   "mimetype": "text/x-python",
   "name": "python",
   "nbconvert_exporter": "python",
   "pygments_lexer": "ipython3",
   "version": "3.8.5"
  }
 },
 "nbformat": 4,
 "nbformat_minor": 4
}
