{
 "cells": [
  {
   "cell_type": "markdown",
   "metadata": {},
   "source": [
    "## Database Access with Python\n",
    "\n",
    "[Database Access with Python](https://www.apmonitor.com/dde/index.php/Main/DatabaseAccess) in the [Data-Driven Engineering](http://apmonitor.com/dde) online course.\n",
    "\n",
    "<img align=left width=500px src='https://apmonitor.com/dde/uploads/Main/python_database.png'>"
   ]
  },
  {
   "cell_type": "markdown",
   "metadata": {},
   "source": [
    "Relational databases are a useful tool for data storage and manipulation. SQL (Structured Query Language) is an industry standard for managing data in relational databases. It is supported in nearly every major programming language including Python with the `sqlite3` core Python package."
   ]
  },
  {
   "cell_type": "markdown",
   "metadata": {},
   "source": [
    "### Import Libraries\n",
    "\n",
    "The first step is to import `sqlite3`. The `pandas` library is also used to export, analyze, and import SQL tables. Numpy and Matplotlib are used to create a data array and visualize data, respectively."
   ]
  },
  {
   "cell_type": "code",
   "execution_count": null,
   "metadata": {},
   "outputs": [],
   "source": [
    "import sqlite3\n",
    "import pandas as pd\n",
    "import numpy as np\n",
    "import matplotlib.pyplot as plt"
   ]
  },
  {
   "cell_type": "markdown",
   "metadata": {},
   "source": [
    "### Connect to Database\n",
    "\n",
    "SQLite is a minimal version of SQL. SQLite stores the entire database in one file or in memory, making it a good choice for small projects or for on-device storage with local data.\n",
    "\n",
    "* `:memory:` - store the database in temporary memory\n",
    "* `filename` - write to the hard drive (e.g. `database.db`)\n",
    "\n",
    "Write a data file if the database needs to persist or is also needed by another application. Use the `connect` function to connect to the database."
   ]
  },
  {
   "cell_type": "code",
   "execution_count": null,
   "metadata": {},
   "outputs": [],
   "source": [
    "f = 'database.db' # write to 'database.db' or ':memory:'\n",
    "cxn = sqlite3.connect(f)"
   ]
  },
  {
   "cell_type": "markdown",
   "metadata": {},
   "source": [
    "### Cursor Position\n",
    "\n",
    "The database cursor position is needed to access the database. "
   ]
  },
  {
   "cell_type": "code",
   "execution_count": null,
   "metadata": {},
   "outputs": [],
   "source": [
    "cur = cxn.cursor()"
   ]
  },
  {
   "cell_type": "markdown",
   "metadata": {},
   "source": [
    "### SQL Queries\n",
    "\n",
    "SQL Queries are commands to create a new table. Below is a list of basic commands for adding or dropping (deleting) tables:\n",
    "\n",
    "* `CREATE TABLE` - create a new table\n",
    "* `DROP TABLE` - delete table"
   ]
  },
  {
   "cell_type": "markdown",
   "metadata": {},
   "source": [
    "### Delete Table\n",
    "\n",
    "Drop (delete) table `tbl` if it exists with command `DROP TABLE IF EXISTS`. The SQL statement is a string that is processed by `cur.execute()`."
   ]
  },
  {
   "cell_type": "code",
   "execution_count": null,
   "metadata": {},
   "outputs": [],
   "source": [
    "cur.execute('DROP TABLE IF EXISTS t1')"
   ]
  },
  {
   "cell_type": "markdown",
   "metadata": {},
   "source": [
    "### Create Table\n",
    "\n",
    "Create a new table with name `store` with `CREATE TABLE`. The new table can have any of the SQLite datatypes:\n",
    "\n",
    "* `int` - Integer numbers\n",
    "* `real` - Decimal numbers\n",
    "* `text` - Character string\n",
    "* `blob` - Binary large object with photos or other files"
   ]
  },
  {
   "cell_type": "code",
   "execution_count": null,
   "metadata": {},
   "outputs": [],
   "source": [
    "cur.execute('CREATE TABLE t1 (id int PRIMARY KEY, \\\n",
    "                              tag text NOT NULL, \\\n",
    "                              val real NOT NULL)')"
   ]
  },
  {
   "cell_type": "markdown",
   "metadata": {},
   "source": [
    "Each part of the SQL statement is explained in detail:\n",
    "\n",
    "* `cur.execute()` - The `execute()` command processes SQL statements\n",
    "* `id int PRIMARY KEY` - The `id` is the `PRIMARY_KEY` as a unique integer\n",
    "* `tag text NOT NULL` - The `tag` is a `text` type that cannot be blank\n",
    "* `val real NOT NULL` - The name `val` is a `real` type (floating point number)"
   ]
  },
  {
   "cell_type": "markdown",
   "metadata": {},
   "source": [
    "### Commit Changes\n",
    "\n",
    "The `commit()` function saves the changes. Until the `commit()` function runs, other applications cannot access the database updates."
   ]
  },
  {
   "cell_type": "code",
   "execution_count": null,
   "metadata": {},
   "outputs": [],
   "source": [
    "cxn.commit()"
   ]
  },
  {
   "cell_type": "markdown",
   "metadata": {},
   "source": [
    "### Row Operations\n",
    "\n",
    "Now that the blank table is created, rows can be inserted, updated, or deleted.\n",
    "\n",
    "* `INSERT INTO` - add rows to a table\n",
    "* `SELECT` - find rows in a table\n",
    "* `UPDATE` - update rows in a table\n",
    "* `DELETE` - delete rows in a table\n",
    "\n",
    "The `VALUES (?, ?, ?)` allows a [tuple](https://apmonitor.com/dde/index.php/Main/PythonTuple) to determine the `(id, name, val)` as variables. "
   ]
  },
  {
   "cell_type": "code",
   "execution_count": null,
   "metadata": {},
   "outputs": [],
   "source": [
    "cmd = 'INSERT INTO t1 (id, tag, val) VALUES (?, ?, ?)'\n",
    "cur.execute(cmd, (0,'P',5))\n",
    "cur.execute(cmd, (1,'I',10.0))\n",
    "cur.execute(cmd, (2,'D',0.2))\n",
    "cxn.commit()"
   ]
  },
  {
   "cell_type": "markdown",
   "metadata": {},
   "source": [
    "### ✅ Activity\n",
    "\n",
    "Insert a new record (row) into `t1` with the following values:\n",
    "\n",
    "* `id` = 3\n",
    "* `tag` = 'FF'\n",
    "* `val` = -0.01\n",
    "\n",
    "After adding the row, commit the change to the database."
   ]
  },
  {
   "cell_type": "code",
   "execution_count": null,
   "metadata": {},
   "outputs": [],
   "source": []
  },
  {
   "cell_type": "markdown",
   "metadata": {},
   "source": [
    "### Read SQL Table with Pandas\n",
    "\n",
    "Select all value from table `t1` to export to a Pandas DataFrame `t1`"
   ]
  },
  {
   "cell_type": "code",
   "execution_count": null,
   "metadata": {},
   "outputs": [],
   "source": [
    "t1 = pd.read_sql_query('SELECT * from t1',cxn)\n",
    "t1"
   ]
  },
  {
   "cell_type": "markdown",
   "metadata": {},
   "source": [
    "### Write SQL Table with Pandas \n",
    "\n",
    "Create a new DataFrame table with Pandas. The parameters `P`, `I`, `D` are adjustable values from a [PID controller](https://apmonitor.com/pdc/index.php/Main/ProportionalIntegralDerivative). The `FF` term is a [feedforward element](https://apmonitor.com/pdc/index.php/Main/FeedforwardControl) that is optionally added to controllers to reject disturbances."
   ]
  },
  {
   "cell_type": "code",
   "execution_count": null,
   "metadata": {},
   "outputs": [],
   "source": [
    "t2 = pd.DataFrame({'tag':['P','I','D','FF'],\n",
    "                   'desc':['Proportional','Integral','Derivative','Feedforward']})\n",
    "t2.index.names = ['id']\n",
    "t2"
   ]
  },
  {
   "cell_type": "markdown",
   "metadata": {},
   "source": [
    "Write a new table `t2` to the database with `to_sql()`. The `if_exists` argument has options `fail`, `replace`, and `append`. Use `replace` to remove any existing table and replace it with the updated table."
   ]
  },
  {
   "cell_type": "code",
   "execution_count": null,
   "metadata": {},
   "outputs": [],
   "source": [
    "t2.to_sql('t2',cxn,if_exists='replace')"
   ]
  },
  {
   "cell_type": "markdown",
   "metadata": {},
   "source": [
    "### Join Tables with Pandas\n",
    "\n",
    "Pandas joins tables with the `df.join()` function. Joining tables is also shown in the [Pandas Time-Series tutorial](https://apmonitor.com/dde/index.php/Main/PandasTimeSeries).\n",
    "\n",
    "First, retrieve the `t1` table and set the index to `id`."
   ]
  },
  {
   "cell_type": "code",
   "execution_count": null,
   "metadata": {},
   "outputs": [],
   "source": [
    "t1=pd.read_sql_query('SELECT * from t1',cxn)\n",
    "t1.set_index('id',inplace=True)\n",
    "t1"
   ]
  },
  {
   "cell_type": "markdown",
   "metadata": {},
   "source": [
    "Also retrieve table `t2` and set the index in the same way."
   ]
  },
  {
   "cell_type": "code",
   "execution_count": null,
   "metadata": {},
   "outputs": [],
   "source": [
    "t2=pd.read_sql_query('SELECT * from t2',cxn)\n",
    "t2.set_index('id',inplace=True)\n",
    "t2"
   ]
  },
  {
   "cell_type": "markdown",
   "metadata": {},
   "source": [
    "Join the two tables with an `inner` join that only includes the `id` rows that are common between `t1` and `t2`. An `outer` join includes all rows and inserts `NaN` for any missing values."
   ]
  },
  {
   "cell_type": "code",
   "execution_count": null,
   "metadata": {},
   "outputs": [],
   "source": [
    "t3 = t1.join(t2['desc'],on='id',how='inner')\n",
    "t3"
   ]
  },
  {
   "cell_type": "markdown",
   "metadata": {},
   "source": [
    "SQL statements are more efficient when dealing with large databases because the source tables do not need to be imported before the JOIN operation. However, the `sqlite3` commands are limited, such as no OUTER JOIN."
   ]
  },
  {
   "cell_type": "markdown",
   "metadata": {},
   "source": [
    "\n"
   ]
  },
  {
   "cell_type": "markdown",
   "metadata": {},
   "source": [
    "### Join Tables with SQL Statement\n",
    "\n",
    "* `JOIN` - join two tables\n",
    "\n",
    "JOIN combine tables `t1` and `t2` into a single table `t3`."
   ]
  },
  {
   "cell_type": "code",
   "execution_count": null,
   "metadata": {},
   "outputs": [],
   "source": [
    "t3 = pd.read_sql_query('SELECT t1.tag,t1.val,t2.desc \\\n",
    "                        FROM t1 INNER JOIN t2 \\\n",
    "                        ON t1.id=t2.id;',cxn)\n",
    "t3"
   ]
  },
  {
   "cell_type": "markdown",
   "metadata": {},
   "source": [
    "Each part of the SQL statement is explained in more detail:\n",
    "\n",
    "* `SELECT t1.tag,t1.val,t2.desc` - The new `t3` table has `tag` and `val` from `t1` and `desc` from `t2`\n",
    "* `FROM t1 INNER JOIN t2` - A join only includes the rows that have common key elements\n",
    "* `ON t1.id=t2.id` - Join the two tables by matching `t1.id` and `t2.id`\n",
    "\n",
    "Pandas processes the SQL query and returns the result to the new DataFrame `t3`."
   ]
  },
  {
   "cell_type": "markdown",
   "metadata": {},
   "source": [
    "### Filter with SQL WHERE\n",
    "\n",
    "Filters select a subset of rows that meet a set of conditions. The `WHERE` statement indicates which rows are selected based on a condition.\n",
    "\n",
    "Table `t4` contains a history of `P`, `I`, `D` tuning parameters from a [PID controller](https://apmonitor.com/pdc/index.php/Main/ProportionalIntegralDerivative). A new record (row) is created every time the tuning parameters are changed. Create the new table `t4`."
   ]
  },
  {
   "cell_type": "code",
   "execution_count": null,
   "metadata": {},
   "outputs": [],
   "source": [
    "t4 = pd.DataFrame({'id':[0,0,1,2,0,0,0,1,1,2],\n",
    "                   'hist':[4,4.5,20,0,6.5,6,5,15,10,0.2]})\n",
    "t4.set_index('id',inplace=True)\n",
    "t4.to_sql('t4',cxn,if_exists='replace')\n",
    "t4"
   ]
  },
  {
   "cell_type": "markdown",
   "metadata": {},
   "source": [
    "Show only the rows with `id`=0 with `WHERE id=0`."
   ]
  },
  {
   "cell_type": "code",
   "execution_count": null,
   "metadata": {},
   "outputs": [],
   "source": [
    "pd.read_sql_query('SELECT * FROM t4 WHERE id=0',cxn)"
   ]
  },
  {
   "cell_type": "markdown",
   "metadata": {},
   "source": [
    "### Merge Tables\n",
    "\n",
    "Join `t1`, `t2`, and `t4` with the common `id` with an `INNER JOIN` to create table `t5`."
   ]
  },
  {
   "cell_type": "code",
   "execution_count": null,
   "metadata": {},
   "outputs": [],
   "source": [
    "t5 = pd.read_sql_query(\"SELECT t1.tag,t2.desc,t4.hist \\\n",
    "                        FROM t1 \\\n",
    "                        INNER JOIN t4 ON t1.id=t4.id \\\n",
    "                        INNER JOIN t2 ON t1.id=t2.id \\\n",
    "                        WHERE t1.tag='P';\",cxn)\n",
    "t5"
   ]
  },
  {
   "cell_type": "markdown",
   "metadata": {},
   "source": [
    "Create a plot of the Proportional term `P` to show how it has changed."
   ]
  },
  {
   "cell_type": "code",
   "execution_count": null,
   "metadata": {},
   "outputs": [],
   "source": [
    "plt.plot(t5['hist'],'r-o',label=t5['desc'].iloc[0])\n",
    "plt.legend(); plt.ylabel(t5['tag'].iloc[0]); plt.show()"
   ]
  },
  {
   "cell_type": "markdown",
   "metadata": {},
   "source": [
    "The table merge can also be completed with Pandas with the history of `P`, `I` and `D` shown on a single plot."
   ]
  },
  {
   "cell_type": "code",
   "execution_count": null,
   "metadata": {},
   "outputs": [],
   "source": [
    "# join tables\n",
    "t5 = t1.join(t2['desc'],on='id').join(t4['hist'],on='id')\n",
    "# plot values\n",
    "t5['hist'].plot(kind='bar')\n",
    "plt.xticks(np.arange(0,len(t5)),t5['tag'],rotation='horizontal')\n",
    "plt.ylabel('Value'); plt.xlabel('Parameter'); plt.grid()\n",
    "# filter table to show only 'P' values\n",
    "t5[t5['tag']=='P']"
   ]
  },
  {
   "cell_type": "markdown",
   "metadata": {},
   "source": [
    "### ✅ Activity\n",
    "\n",
    "Create a new table `t0` that contains 3 SQLite datatypes.\n",
    "\n",
    "* `opID` - Operator ID as integer (primary key)\n",
    "* `name` - Operator name as text (required)\n",
    "* `photo` - Operator profile photo as blob (optional)\n",
    "\n",
    "New records (rows) will be added later. Use `DROP TABLE IF EXISTS t0` to drop the table if it already exists. "
   ]
  },
  {
   "cell_type": "code",
   "execution_count": null,
   "metadata": {},
   "outputs": [],
   "source": [
    "cur.execute('DROP TABLE IF EXISTS t0')"
   ]
  },
  {
   "cell_type": "markdown",
   "metadata": {},
   "source": [
    "Create the table `t0` and insert records:\n",
    "\n",
    "* `opID`: 1 `name`: David Stevens\n",
    "* `opID`: 2 `name`: Rebecca Okume\n",
    "* `opID`: 3 `name`: Mike Fisher\n",
    "\n",
    "Commit the changes once the records are added."
   ]
  },
  {
   "cell_type": "code",
   "execution_count": null,
   "metadata": {},
   "outputs": [],
   "source": []
  },
  {
   "cell_type": "markdown",
   "metadata": {},
   "source": [
    "The new table `t0` can now to be used to record details of who made the changes to the PID parameters by recording the `opID` in `t4` when a new row is added to the history. It is not required to add a photo or augment `t4` for this activity."
   ]
  },
  {
   "cell_type": "markdown",
   "metadata": {},
   "source": [
    "### Close Database Connection\n",
    "\n",
    "Close the database connection with `cxn.close()`. This releases the database so that it prevents a connection after it is closed. "
   ]
  },
  {
   "cell_type": "code",
   "execution_count": null,
   "metadata": {},
   "outputs": [],
   "source": [
    "cxn.close()"
   ]
  }
 ],
 "metadata": {
  "kernelspec": {
   "display_name": "Python 3",
   "language": "python",
   "name": "python3"
  },
  "language_info": {
   "codemirror_mode": {
    "name": "ipython",
    "version": 3
   },
   "file_extension": ".py",
   "mimetype": "text/x-python",
   "name": "python",
   "nbconvert_exporter": "python",
   "pygments_lexer": "ipython3",
   "version": "3.8.5"
  }
 },
 "nbformat": 4,
 "nbformat_minor": 4
}
