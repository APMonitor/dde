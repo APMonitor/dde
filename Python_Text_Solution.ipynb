{
 "cells": [
  {
   "cell_type": "markdown",
   "metadata": {},
   "source": [
    "## Import and Analyze Text Files (CSV) with Python\n",
    "\n",
    "[Text Data with Python](https://www.apmonitor.com/dde/index.php/Main/TextData) in the [Data-Driven Engineering](http://apmonitor.com/dde) online course.\n",
    "\n",
    "<img align=left width=500px src='https://apmonitor.com/dde/uploads/Main/python_text.png'>"
   ]
  },
  {
   "cell_type": "markdown",
   "metadata": {},
   "source": [
    "### Import Libraries"
   ]
  },
  {
   "cell_type": "code",
   "execution_count": null,
   "metadata": {},
   "outputs": [],
   "source": [
    "import numpy as np\n",
    "import pandas as pd\n",
    "import matplotlib.pyplot as plt"
   ]
  },
  {
   "cell_type": "markdown",
   "metadata": {},
   "source": [
    "### Import Comma Separated Value (CSV) File\n",
    "\n",
    "<img align=left width=200px src='https://apmonitor.com/dde/uploads/Main/auto_ford_explorer_2021.png'>"
   ]
  },
  {
   "cell_type": "code",
   "execution_count": null,
   "metadata": {},
   "outputs": [],
   "source": [
    "file = 'http://apmonitor.com/dde/uploads/Main/Auto_Ford2021.zip'\n",
    "data = pd.read_csv(file,skiprows=2)"
   ]
  },
  {
   "cell_type": "markdown",
   "metadata": {},
   "source": [
    "### Summarize Data"
   ]
  },
  {
   "cell_type": "code",
   "execution_count": null,
   "metadata": {},
   "outputs": [],
   "source": [
    "data.describe()"
   ]
  },
  {
   "cell_type": "markdown",
   "metadata": {},
   "source": [
    "### Display First 10 Rows"
   ]
  },
  {
   "cell_type": "code",
   "execution_count": null,
   "metadata": {},
   "outputs": [],
   "source": [
    "data.head(10)"
   ]
  },
  {
   "cell_type": "markdown",
   "metadata": {},
   "source": [
    "### Data Cleansing"
   ]
  },
  {
   "cell_type": "code",
   "execution_count": null,
   "metadata": {},
   "outputs": [],
   "source": [
    "# trim column names (extra leading space)\n",
    "c = list(data.columns)\n",
    "print('Before: ',c[0:3])\n",
    "for i,ci in enumerate(c):\n",
    "    c[i] = ci.strip()\n",
    "print('After: ',c[0:3])\n",
    "data.columns = c"
   ]
  },
  {
   "cell_type": "code",
   "execution_count": null,
   "metadata": {},
   "outputs": [],
   "source": [
    "# filter data\n",
    "# remove rows with Bearing (deg)=-1 (sensors are initializing)\n",
    "data = data[data['Bearing (deg)']>=0]"
   ]
  },
  {
   "cell_type": "code",
   "execution_count": null,
   "metadata": {},
   "outputs": [],
   "source": [
    "# remove data (remove last 5 rows)\n",
    "data = data.iloc[:-5]"
   ]
  },
  {
   "cell_type": "markdown",
   "metadata": {},
   "source": [
    "### Data Reduction"
   ]
  },
  {
   "cell_type": "code",
   "execution_count": null,
   "metadata": {},
   "outputs": [],
   "source": [
    "# keep every 10th row\n",
    "data = data[::10]"
   ]
  },
  {
   "cell_type": "markdown",
   "metadata": {},
   "source": [
    "### Set Time as Index"
   ]
  },
  {
   "cell_type": "code",
   "execution_count": null,
   "metadata": {},
   "outputs": [],
   "source": [
    "# set time index\n",
    "data.set_index('Time (sec)',inplace=True)"
   ]
  },
  {
   "cell_type": "markdown",
   "metadata": {},
   "source": [
    "### Add Column"
   ]
  },
  {
   "cell_type": "code",
   "execution_count": null,
   "metadata": {},
   "outputs": [],
   "source": [
    "data['Avg fuel economy (MPG)'] = data['Trip Distance (miles)']/data['Trip Fuel (gal)']"
   ]
  },
  {
   "cell_type": "markdown",
   "metadata": {},
   "source": [
    "### Visualize Select Data"
   ]
  },
  {
   "cell_type": "code",
   "execution_count": null,
   "metadata": {},
   "outputs": [],
   "source": [
    "c = ['Vehicle speed (MPH)','Fuel rate (gal/hr)',\n",
    "     'Absolute throttle position (%)',\n",
    "     'Acceleration (ft/s²)','Altitude (ft)',\n",
    "     'Avg fuel economy (MPG)']\n",
    "data[c].plot(figsize=(10,7),subplots=True)\n",
    "plt.tight_layout()\n",
    "plt.savefig('Auto_data_plot.png',dpi=300)\n",
    "plt.show()"
   ]
  },
  {
   "cell_type": "markdown",
   "metadata": {},
   "source": [
    "### View Data Correlation"
   ]
  },
  {
   "cell_type": "code",
   "execution_count": null,
   "metadata": {},
   "outputs": [],
   "source": [
    "import seaborn as sns\n",
    "sns.pairplot(data[c])\n",
    "plt.show()"
   ]
  },
  {
   "cell_type": "markdown",
   "metadata": {},
   "source": [
    "### Display GPS Route"
   ]
  },
  {
   "cell_type": "code",
   "execution_count": null,
   "metadata": {},
   "outputs": [],
   "source": [
    "#pip install plotly"
   ]
  },
  {
   "cell_type": "code",
   "execution_count": null,
   "metadata": {
    "scrolled": true
   },
   "outputs": [],
   "source": [
    "import plotly.express as px\n",
    "fig = px.scatter_mapbox(data, lat=\"Latitude (deg)\", lon=\"Longitude (deg)\", \\\n",
    "                        color=\"Vehicle speed (MPH)\", size=\"Fuel rate (gal/hr)\", \\\n",
    "                        color_continuous_scale=px.colors.cyclical.IceFire, size_max=5, zoom=7)\n",
    "fig.update_layout(\n",
    "    mapbox_style=\"open-street-map\",\n",
    "    margin={\"r\": 0, \"t\": 0, \"l\": 0, \"b\": 0},\n",
    ")\n",
    "fig.show()"
   ]
  },
  {
   "cell_type": "markdown",
   "metadata": {},
   "source": [
    "### Export Modified Text File"
   ]
  },
  {
   "cell_type": "code",
   "execution_count": null,
   "metadata": {},
   "outputs": [],
   "source": [
    "data.to_csv('export_data.csv')"
   ]
  },
  {
   "cell_type": "markdown",
   "metadata": {},
   "source": [
    "### ✅ Activity\n",
    "\n",
    "A 2021 Chrysler Pacifica is driven in Iowa. Compare the Ford Explorer and Chrysler Pacifica performance.\n",
    "\n",
    "* Calculate average fuel economy for both vehicles\n",
    "* Include both vehicles on a pairplot\n",
    "* Create a map of the Chrysler Pacifica route\n",
    "\n",
    "<img align=left width=200px src='https://apmonitor.com/dde/uploads/Main/auto_chrysler_pacifica_2021.png'>"
   ]
  },
  {
   "cell_type": "markdown",
   "metadata": {},
   "source": [
    "### Import Data "
   ]
  },
  {
   "cell_type": "code",
   "execution_count": null,
   "metadata": {},
   "outputs": [],
   "source": [
    "file = 'http://apmonitor.com/dde/uploads/Main/Auto_Chrysler2021.zip'\n",
    "dch = pd.read_csv(file,skiprows=2)"
   ]
  },
  {
   "cell_type": "markdown",
   "metadata": {},
   "source": [
    "### Data Cleansing and Preparation"
   ]
  },
  {
   "cell_type": "code",
   "execution_count": null,
   "metadata": {},
   "outputs": [],
   "source": [
    "# remove spaces from column names\n",
    "c = list(dch.columns)\n",
    "print('Before: ',c[0:3])\n",
    "for i,ci in enumerate(c):\n",
    "    c[i] = ci.strip()\n",
    "print('After: ',c[0:3])\n",
    "dch.columns = c\n",
    "\n",
    "# remove front rows where distance is zero\n",
    "dch = dch[dch['Trip Distance (miles)']>1e-5]\n",
    "\n",
    "# shift start time to zero\n",
    "dch['Time (sec)'] = dch['Time (sec)'] - dch['Time (sec)'].iloc[0]\n",
    "\n",
    "# filter based on \n",
    "dch = dch[dch['Bearing (deg)']>=0]\n",
    "\n",
    "# every 10th row\n",
    "dch = dch[::10]\n",
    "\n",
    "# set index\n",
    "dch.set_index('Time (sec)',inplace=True)"
   ]
  },
  {
   "cell_type": "markdown",
   "metadata": {},
   "source": [
    "### Average Fuel Economy"
   ]
  },
  {
   "cell_type": "code",
   "execution_count": null,
   "metadata": {},
   "outputs": [],
   "source": [
    "dch['Avg fuel economy (MPG)'] = dch['Trip Distance (miles)']/dch['Trip Fuel (gal)']\n",
    "t1 = np.array(data.index)/60\n",
    "t2 = np.array(dch.index)/60\n",
    "plt.figure(figsize=(10,8))\n",
    "plt.subplot(4,1,1)\n",
    "plt.plot(t1,data['Vehicle speed (MPH)'].values,'r-',label='Ford')\n",
    "plt.plot(t2,dch['Vehicle speed (MPH)'].values,'b--',label='Chrysler')\n",
    "plt.grid(); plt.ylabel('Speed (mph)')\n",
    "plt.legend()\n",
    "\n",
    "plt.subplot(4,1,2)\n",
    "plt.plot(t1,data['Trip Distance (miles)'].values,'r-',label='Ford')\n",
    "plt.plot(t2,dch['Trip Distance (miles)'].values,'b--',label='Chrysler')\n",
    "plt.grid(); plt.ylabel('Distance (mi)')\n",
    "plt.legend()\n",
    "\n",
    "plt.subplot(4,1,3)\n",
    "plt.plot(t1,data['Trip Fuel (gal)'].values,'r-',label='Ford')\n",
    "plt.plot(t2,dch['Trip Fuel (gal)'].values,'b--',label='Chrysler')\n",
    "plt.grid(); plt.ylabel('Trip Fuel (gal)')\n",
    "plt.legend()\n",
    "\n",
    "plt.subplot(4,1,4)\n",
    "fmpg = str(round(data['Avg fuel economy (MPG)'].iloc[-1],1))\n",
    "cmpg = str(round(dch['Avg fuel economy (MPG)'].iloc[-1],1))\n",
    "plt.plot(t1,data['Avg fuel economy (MPG)'].values,'r-',label='Ford MPG: '+fmpg)\n",
    "plt.plot(t2,dch['Avg fuel economy (MPG)'].values,'b--',label='Chrysler MPG: '+cmpg)\n",
    "plt.grid(); plt.ylabel('Fuel Economy (MPG)')\n",
    "plt.xlabel('Time (min)'); plt.legend()\n",
    "plt.show()"
   ]
  },
  {
   "cell_type": "markdown",
   "metadata": {},
   "source": [
    "### Pairplot"
   ]
  },
  {
   "cell_type": "code",
   "execution_count": null,
   "metadata": {},
   "outputs": [],
   "source": [
    "c = ['Vehicle speed (MPH)','Fuel rate (gal/hr)',\n",
    "     'Absolute throttle position (%)',\n",
    "     'Acceleration (ft/s²)','Avg fuel economy (MPG)','Vehicle']\n",
    "# add vehicle specification\n",
    "data['Vehicle'] = 'Ford'\n",
    "dch['Vehicle'] = 'Chrysler'\n",
    "\n",
    "c1 = data[c].copy()\n",
    "c2 = dch[c].copy()\n",
    "c  = pd.concat((c1,c2)).reset_index(drop=True)\n",
    "sns.pairplot(c,hue='Vehicle')\n",
    "plt.show()"
   ]
  },
  {
   "cell_type": "markdown",
   "metadata": {},
   "source": [
    "### Vehicle Route"
   ]
  },
  {
   "cell_type": "code",
   "execution_count": null,
   "metadata": {},
   "outputs": [],
   "source": [
    "import plotly.express as px\n",
    "fig = px.scatter_mapbox(dch, lat=\"Latitude (deg)\", lon=\"Longitude (deg)\", \\\n",
    "                        color=\"Vehicle speed (MPH)\", size=\"Avg fuel economy (MPG)\", \\\n",
    "                        color_continuous_scale=px.colors.cyclical.IceFire, size_max=5, zoom=9)\n",
    "fig.update_layout(\n",
    "    mapbox_style=\"open-street-map\",\n",
    "    margin={\"r\": 0, \"t\": 0, \"l\": 0, \"b\": 0},\n",
    ")\n",
    "fig.show()"
   ]
  }
 ],
 "metadata": {
  "kernelspec": {
   "display_name": "Python 3",
   "language": "python",
   "name": "python3"
  },
  "language_info": {
   "codemirror_mode": {
    "name": "ipython",
    "version": 3
   },
   "file_extension": ".py",
   "mimetype": "text/x-python",
   "name": "python",
   "nbconvert_exporter": "python",
   "pygments_lexer": "ipython3",
   "version": "3.8.5"
  }
 },
 "nbformat": 4,
 "nbformat_minor": 4
}
