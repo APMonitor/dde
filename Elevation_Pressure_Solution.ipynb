{
 "cells": [
  {
   "cell_type": "markdown",
   "metadata": {},
   "source": [
    "## Elevation Pressure\n",
    "\n",
    "[Elevation Pressure](https://www.apmonitor.com/dde/index.php/Main/ElevationPressure) in the [Data-Driven Engineering](http://apmonitor.com/dde) online course.\n",
    "\n",
    "<img align=left width=500px src='https://apmonitor.com/dde/uploads/Main/elevation_pressure.png'>"
   ]
  },
  {
   "cell_type": "markdown",
   "metadata": {},
   "source": [
    "Autonomous navigation requires a variety of sensors to create an estimate of absolute or relative position. Each sensor has relative strengths and weaknesses and sensor fusion ties the information together to create a current best estimate of position. Pressure is commonly used in cell phones, watches, drones, and other electronics to determine change in elevation. The barometric pressure varies slowly with weather patterns so absolute altitude needs a reference such as GPS or a barometric pressure reading at a known altitude. Start by importing libraries needed for the analysis."
   ]
  },
  {
   "cell_type": "markdown",
   "metadata": {},
   "source": [
    "### Import Libraries"
   ]
  },
  {
   "cell_type": "code",
   "execution_count": null,
   "metadata": {},
   "outputs": [],
   "source": [
    "import numpy as np\n",
    "import pandas as pd\n",
    "import matplotlib.pyplot as plt"
   ]
  },
  {
   "cell_type": "markdown",
   "metadata": {},
   "source": [
    "The BMP280 sensor is a Bosch piezo-resistive absolute pressure sensor with low power consumption and long-term measurement stability. It is 0.95mm x 2mm x 2.5mm in size and also includes temperature. The BME280 adds humidity as well.\n",
    "\n",
    "This case study is an analysis of the BMP280 sensor to determine relative and absolute elevation resolution from the BMP280 sensor.\n",
    "\n",
    "<img align=left width=200px src='https://apmonitor.com/dde/uploads/Main/pressure_BMP280.png'>"
   ]
  },
  {
   "cell_type": "markdown",
   "metadata": {},
   "source": [
    "**Activity: Calculate Elevation from Pressure**\n",
    "\n",
    "Calculate the elevation from the BMP280 pressure and compare to GPS elevation. Data from the BMP280 sensor is in the ''Pressure (Pa)'' column and it is recorded with GPS and vehicle information."
   ]
  },
  {
   "cell_type": "markdown",
   "metadata": {},
   "source": [
    "### Import Data File\n",
    "\n",
    "The vehicle drives from the bottom of the hill to the top 3 times. Import the data for the pressure and data collected from the vehicle."
   ]
  },
  {
   "cell_type": "code",
   "execution_count": null,
   "metadata": {},
   "outputs": [],
   "source": [
    "file = 'http://apmonitor.com/dde/uploads/Main/elevation_pressure.txt'\n",
    "data = pd.read_csv(file)\n",
    "data.head()"
   ]
  },
  {
   "cell_type": "markdown",
   "metadata": {},
   "source": [
    "### View Data\n",
    "\n",
    "Create a plot of the Pressure (Pa) from the BMP280 sensor and Altitude (ft) from the GPS measurement."
   ]
  },
  {
   "cell_type": "code",
   "execution_count": null,
   "metadata": {},
   "outputs": [],
   "source": [
    "data[['Pressure (Pa)','Altitude (ft)']].plot(figsize=(10,5),subplots=True)"
   ]
  },
  {
   "cell_type": "markdown",
   "metadata": {},
   "source": [
    "### Calculate Height from Pressure"
   ]
  },
  {
   "cell_type": "markdown",
   "metadata": {},
   "source": [
    "Calculate the height (ft) based on pressure (Pa). There are 3.28084 ft per meter. Rearranging the pressure to elevation equation gives the height equation\n",
    "\n",
    "$h = \\left(\\frac{T_0}{L}\\right)\\left(1-\\left(\\frac{P}{P_0}\\right)^{\\frac{R_g L}{g\\,M}}\\right)$\n",
    "\n",
    "with\n",
    "\n",
    "* height ($h$) in meters\n",
    "* sea level standard atmospheric pressure ($P_0=101325$ Pa)\n",
    "* temperature lapse rate ($L=0.00976$ K/m)\n",
    "* sea level standard temperature ($T_0=288.16$ K)\n",
    "* gravitational acceleration ($g=9.80665$ $\\frac{m}{s^2}$)\n",
    "* molar mass of dry air ($M=0.02896968$ kg/mol)\n",
    "* universal gas constant ($R_g=8.31446$ $\\frac{J}{mol\\,K}$)"
   ]
  },
  {
   "cell_type": "code",
   "execution_count": null,
   "metadata": {},
   "outputs": [],
   "source": [
    "T0 = 288.16; L=0.00976; P0=101325; Rg=8.31446\n",
    "g  = 9.80665; M=0.02896968\n",
    "data['h'] = (T0/L)*(1-(data['Pressure (Pa)']/P0)**(Rg*L/(g*M))) * 3.28084"
   ]
  },
  {
   "cell_type": "markdown",
   "metadata": {},
   "source": [
    "### Bias Correction\n",
    "\n",
    "Determine the one-time bias that corrects for the change in barometric pressure from the first data point. $h_{GPS,0}$ is the initial GPS altitude and $h_{u,0}$ is the initial calculated height from the pressure.\n",
    "\n",
    "$bias = h_{GPS,0}-h_{u,0}$"
   ]
  },
  {
   "cell_type": "code",
   "execution_count": null,
   "metadata": {},
   "outputs": [],
   "source": [
    "bias = data['Altitude (ft)'].iloc[0]-data['h'].iloc[0]"
   ]
  },
  {
   "cell_type": "markdown",
   "metadata": {},
   "source": [
    "### Add Bias Correction\n",
    "\n",
    "Add the ''bias'' to every calculated height unbiased height $(h_{u})$ to calculate the correct height $(h_b)$.\n",
    "\n",
    "$h_{b} = h_{u}+bias$"
   ]
  },
  {
   "cell_type": "code",
   "execution_count": null,
   "metadata": {},
   "outputs": [],
   "source": [
    "data['Height (Pressure)'] = data['h'] + bias"
   ]
  },
  {
   "cell_type": "markdown",
   "metadata": {},
   "source": [
    "### View Results\n",
    "\n",
    "Compare the biased height $(h_b)$ with the measured GPS height. View the results on a plot."
   ]
  },
  {
   "cell_type": "code",
   "execution_count": null,
   "metadata": {},
   "outputs": [],
   "source": [
    "data[['Height (Pressure)','Altitude (ft)']].plot()"
   ]
  },
  {
   "cell_type": "markdown",
   "metadata": {},
   "source": [
    "### Simulate Barometric Pressure Change\n",
    "\n",
    "The barometric pressure varies slowly with weather patterns (+/- 1700 Pa). Show how a change of +1000 Pa affects the height calculation."
   ]
  },
  {
   "cell_type": "code",
   "execution_count": null,
   "metadata": {},
   "outputs": [],
   "source": [
    "data['Height (+1000 Pa)'] = (T0/L)*(1-((data['Pressure (Pa)']+1000)/P0)**(Rg*L/(g*M))) * 3.28084 + bias\n",
    "data[['Height (+1000 Pa)','Altitude (ft)']].plot()"
   ]
  },
  {
   "cell_type": "markdown",
   "metadata": {},
   "source": [
    "### Display GPS Route"
   ]
  },
  {
   "cell_type": "code",
   "execution_count": null,
   "metadata": {},
   "outputs": [],
   "source": [
    "#pip install plotly"
   ]
  },
  {
   "cell_type": "code",
   "execution_count": null,
   "metadata": {
    "scrolled": true
   },
   "outputs": [],
   "source": [
    "import plotly.express as px\n",
    "fig = px.scatter_mapbox(data, lat=\"Latitude (deg)\", lon=\"Longitude (deg)\", \\\n",
    "                        color=\"Vehicle speed (MPH)\", size=\"Altitude (ft)\", \\\n",
    "                        color_continuous_scale=px.colors.cyclical.IceFire, size_max=5, zoom=14)\n",
    "fig.update_layout(\n",
    "    mapbox_style=\"open-street-map\",\n",
    "    margin={\"r\": 0, \"t\": 0, \"l\": 0, \"b\": 0},\n",
    ")\n",
    "fig.show()"
   ]
  }
 ],
 "metadata": {
  "kernelspec": {
   "display_name": "Python 3",
   "language": "python",
   "name": "python3"
  },
  "language_info": {
   "codemirror_mode": {
    "name": "ipython",
    "version": 3
   },
   "file_extension": ".py",
   "mimetype": "text/x-python",
   "name": "python",
   "nbconvert_exporter": "python",
   "pygments_lexer": "ipython3",
   "version": "3.8.5"
  }
 },
 "nbformat": 4,
 "nbformat_minor": 4
}
